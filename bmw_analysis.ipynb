{
 "cells": [
  {
   "metadata": {},
   "cell_type": "markdown",
   "source": "IMPORT REQUIRED LIBRARIES",
   "id": "4caab557853693ba"
  },
  {
   "cell_type": "code",
   "id": "initial_id",
   "metadata": {
    "collapsed": true,
    "ExecuteTime": {
     "end_time": "2025-07-16T14:29:05.125858Z",
     "start_time": "2025-07-16T14:29:05.090603Z"
    }
   },
   "source": [
    "import numpy as np\n",
    "import matplotlib.pyplot as plt\n",
    "import pandas as pd\n",
    "import seaborn as sns\n",
    "import plotly.express as px\n",
    "import plotly.graph_objects as go"
   ],
   "outputs": [],
   "execution_count": 2
  },
  {
   "metadata": {},
   "cell_type": "markdown",
   "source": "-REMOVE WARNINGS",
   "id": "df752b53f5e61e66"
  },
  {
   "metadata": {
    "ExecuteTime": {
     "end_time": "2025-07-16T14:30:40.735735Z",
     "start_time": "2025-07-16T14:30:40.733437Z"
    }
   },
   "cell_type": "code",
   "source": [
    "# REMOVE WARNINGS\n",
    "import warnings\n",
    "warnings.filterwarnings('ignore')"
   ],
   "id": "6b1fdc7ebdc989e8",
   "outputs": [],
   "execution_count": 20
  },
  {
   "metadata": {},
   "cell_type": "markdown",
   "source": "READ THE DATA USING PANDAS",
   "id": "e23e1613b4940cb8"
  },
  {
   "metadata": {
    "ExecuteTime": {
     "end_time": "2025-07-16T14:29:05.162970Z",
     "start_time": "2025-07-16T14:29:05.137493Z"
    }
   },
   "cell_type": "code",
   "source": [
    "df=pd.read_csv('BMW_Car_Sales_Classification.csv')\n",
    "print(df.head())"
   ],
   "id": "605ca88a7ccc6b6f",
   "outputs": [
    {
     "name": "stdout",
     "output_type": "stream",
     "text": [
      "      Model  Year         Region  Color Fuel_Type Transmission  Engine_Size_L  \\\n",
      "0  5 Series  2016           Asia    Red    Petrol       Manual            3.5   \n",
      "1        i8  2013  North America    Red    Hybrid    Automatic            1.6   \n",
      "2  5 Series  2022  North America   Blue    Petrol    Automatic            4.5   \n",
      "3        X3  2024    Middle East   Blue    Petrol    Automatic            1.7   \n",
      "4  7 Series  2020  South America  Black    Diesel       Manual            2.1   \n",
      "\n",
      "   Mileage_KM  Price_USD  Sales_Volume Sales_Classification  \n",
      "0      151748      98740          8300                 High  \n",
      "1      121671      79219          3428                  Low  \n",
      "2       10991     113265          6994                  Low  \n",
      "3       27255      60971          4047                  Low  \n",
      "4      122131      49898          3080                  Low  \n"
     ]
    }
   ],
   "execution_count": 4
  },
  {
   "metadata": {
    "ExecuteTime": {
     "end_time": "2025-07-16T14:29:05.188376Z",
     "start_time": "2025-07-16T14:29:05.180891Z"
    }
   },
   "cell_type": "code",
   "source": "print(df.info())",
   "id": "56f87264205bbceb",
   "outputs": [
    {
     "name": "stdout",
     "output_type": "stream",
     "text": [
      "<class 'pandas.core.frame.DataFrame'>\n",
      "RangeIndex: 50000 entries, 0 to 49999\n",
      "Data columns (total 11 columns):\n",
      " #   Column                Non-Null Count  Dtype  \n",
      "---  ------                --------------  -----  \n",
      " 0   Model                 50000 non-null  object \n",
      " 1   Year                  50000 non-null  int64  \n",
      " 2   Region                50000 non-null  object \n",
      " 3   Color                 50000 non-null  object \n",
      " 4   Fuel_Type             50000 non-null  object \n",
      " 5   Transmission          50000 non-null  object \n",
      " 6   Engine_Size_L         50000 non-null  float64\n",
      " 7   Mileage_KM            50000 non-null  int64  \n",
      " 8   Price_USD             50000 non-null  int64  \n",
      " 9   Sales_Volume          50000 non-null  int64  \n",
      " 10  Sales_Classification  50000 non-null  object \n",
      "dtypes: float64(1), int64(4), object(6)\n",
      "memory usage: 4.2+ MB\n",
      "None\n"
     ]
    }
   ],
   "execution_count": 5
  },
  {
   "metadata": {
    "ExecuteTime": {
     "end_time": "2025-07-16T14:29:05.340697Z",
     "start_time": "2025-07-16T14:29:05.194153Z"
    }
   },
   "cell_type": "code",
   "source": [
    "fig=px.sunburst(df,path=[\"Fuel_Type\",\"Transmission\",\"Color\"],values=\"Price_USD\",title=\"Fuel Type and Transmission\")\n",
    "fig.show()"
   ],
   "id": "e623fbad5ea1d0f2",
   "outputs": [
    {
     "data": {
      "application/vnd.plotly.v1+json": {
       "data": [
        {
         "branchvalues": "total",
         "domain": {
          "x": [
           0.0,
           1.0
          ],
          "y": [
           0.0,
           1.0
          ]
         },
         "hovertemplate": "labels=%{label}<br>Price_USD=%{value}<br>parent=%{parent}<br>id=%{id}<extra></extra>",
         "ids": [
          "Petrol/Manual/Red",
          "Hybrid/Automatic/Red",
          "Petrol/Automatic/Blue",
          "Diesel/Manual/Black",
          "Diesel/Manual/Silver",
          "Diesel/Manual/White",
          "Diesel/Automatic/Black",
          "Diesel/Automatic/White",
          "Electric/Manual/White",
          "Hybrid/Manual/Blue",
          "Diesel/Automatic/Silver",
          "Electric/Automatic/Black",
          "Hybrid/Manual/Silver",
          "Electric/Manual/Blue",
          "Diesel/Automatic/Red",
          "Electric/Manual/Silver",
          "Petrol/Manual/White",
          "Electric/Automatic/Grey",
          "Petrol/Automatic/Black",
          "Diesel/Manual/Red",
          "Electric/Automatic/White",
          "Hybrid/Manual/Red",
          "Hybrid/Automatic/Black",
          "Hybrid/Automatic/White",
          "Hybrid/Manual/Grey",
          "Petrol/Automatic/Grey",
          "Petrol/Manual/Black",
          "Petrol/Automatic/Red",
          "Hybrid/Manual/Black",
          "Diesel/Automatic/Blue",
          "Petrol/Automatic/Silver",
          "Hybrid/Manual/White",
          "Hybrid/Automatic/Silver",
          "Electric/Automatic/Red",
          "Electric/Manual/Red",
          "Electric/Manual/Black",
          "Electric/Automatic/Silver",
          "Petrol/Manual/Blue",
          "Diesel/Manual/Grey",
          "Electric/Manual/Grey",
          "Petrol/Manual/Grey",
          "Hybrid/Automatic/Grey",
          "Petrol/Manual/Silver",
          "Diesel/Automatic/Grey",
          "Hybrid/Automatic/Blue",
          "Electric/Automatic/Blue",
          "Diesel/Manual/Blue",
          "Petrol/Automatic/White",
          "Petrol/Manual",
          "Hybrid/Automatic",
          "Petrol/Automatic",
          "Diesel/Manual",
          "Diesel/Automatic",
          "Electric/Manual",
          "Hybrid/Manual",
          "Electric/Automatic",
          "Petrol",
          "Hybrid",
          "Diesel",
          "Electric"
         ],
         "labels": [
          "Red",
          "Red",
          "Blue",
          "Black",
          "Silver",
          "White",
          "Black",
          "White",
          "White",
          "Blue",
          "Silver",
          "Black",
          "Silver",
          "Blue",
          "Red",
          "Silver",
          "White",
          "Grey",
          "Black",
          "Red",
          "White",
          "Red",
          "Black",
          "White",
          "Grey",
          "Grey",
          "Black",
          "Red",
          "Black",
          "Blue",
          "Silver",
          "White",
          "Silver",
          "Red",
          "Red",
          "Black",
          "Silver",
          "Blue",
          "Grey",
          "Grey",
          "Grey",
          "Grey",
          "Silver",
          "Grey",
          "Blue",
          "Blue",
          "Blue",
          "White",
          "Manual",
          "Automatic",
          "Automatic",
          "Manual",
          "Automatic",
          "Manual",
          "Manual",
          "Automatic",
          "Petrol",
          "Hybrid",
          "Diesel",
          "Electric"
         ],
         "name": "",
         "parents": [
          "Petrol/Manual",
          "Hybrid/Automatic",
          "Petrol/Automatic",
          "Diesel/Manual",
          "Diesel/Manual",
          "Diesel/Manual",
          "Diesel/Automatic",
          "Diesel/Automatic",
          "Electric/Manual",
          "Hybrid/Manual",
          "Diesel/Automatic",
          "Electric/Automatic",
          "Hybrid/Manual",
          "Electric/Manual",
          "Diesel/Automatic",
          "Electric/Manual",
          "Petrol/Manual",
          "Electric/Automatic",
          "Petrol/Automatic",
          "Diesel/Manual",
          "Electric/Automatic",
          "Hybrid/Manual",
          "Hybrid/Automatic",
          "Hybrid/Automatic",
          "Hybrid/Manual",
          "Petrol/Automatic",
          "Petrol/Manual",
          "Petrol/Automatic",
          "Hybrid/Manual",
          "Diesel/Automatic",
          "Petrol/Automatic",
          "Hybrid/Manual",
          "Hybrid/Automatic",
          "Electric/Automatic",
          "Electric/Manual",
          "Electric/Manual",
          "Electric/Automatic",
          "Petrol/Manual",
          "Diesel/Manual",
          "Electric/Manual",
          "Petrol/Manual",
          "Hybrid/Automatic",
          "Petrol/Manual",
          "Diesel/Automatic",
          "Hybrid/Automatic",
          "Electric/Automatic",
          "Diesel/Manual",
          "Petrol/Automatic",
          "Petrol",
          "Hybrid",
          "Petrol",
          "Diesel",
          "Diesel",
          "Electric",
          "Hybrid",
          "Electric",
          "",
          "",
          "",
          ""
         ],
         "values": {
          "dtype": "f8",
          "bdata": "AAAAoJlwk0EAAAAwtYWSQQAAAHR9bpJBAAAABADekUEAAAD0TGCSQQAAADB1CpNBAAAAgFiDkUEAAAD0rouSQQAAALxoqJJBAAAABGlVk0EAAADsnwmSQQAAAIDlcZJBAAAAPBRDk0EAAABkUW6SQQAAAFi5HpJBAAAA7ChUk0EAAADcZMaSQQAAABCINJNBAAAAqOmVkkEAAAB8qx6TQQAAAAQi5JJBAAAAHKMNlEEAAADYJpWTQQAAABDstJJBAAAAdHBtkkEAAAAIAqeRQQAAANzLu5JBAAAAZMXgkkEAAAB8O/KSQQAAAPSWApFBAAAA1CuFkkEAAACoM22RQQAAAIz12pJBAAAA/Do+kkEAAAB8tb6SQQAAADTUOpJBAAAAtA9HkkEAAACwGnCSQQAAABg8S5JBAAAAXKZdkkEAAAAAPjuTQQAAAKg18JFBAAAAGO1wkkEAAADc7l2TQQAAAFAntpNBAAAA/BkAk0EAAAAkuziSQQAAACiWQZNBAAAACMRDvEEAAACnRlS8QQAAACG81LtBAAAAONm6u0EAAACi+SW7QQAAAMaE8LtBAAAA/b9cvEEAAAAQ/QO8QQAAgBRADMxBAAAAUoNYzEEAAABtaXDLQQAAAOtA+stB"
         },
         "type": "sunburst"
        }
       ],
       "layout": {
        "template": {
         "data": {
          "histogram2dcontour": [
           {
            "type": "histogram2dcontour",
            "colorbar": {
             "outlinewidth": 0,
             "ticks": ""
            },
            "colorscale": [
             [
              0.0,
              "#0d0887"
             ],
             [
              0.1111111111111111,
              "#46039f"
             ],
             [
              0.2222222222222222,
              "#7201a8"
             ],
             [
              0.3333333333333333,
              "#9c179e"
             ],
             [
              0.4444444444444444,
              "#bd3786"
             ],
             [
              0.5555555555555556,
              "#d8576b"
             ],
             [
              0.6666666666666666,
              "#ed7953"
             ],
             [
              0.7777777777777778,
              "#fb9f3a"
             ],
             [
              0.8888888888888888,
              "#fdca26"
             ],
             [
              1.0,
              "#f0f921"
             ]
            ]
           }
          ],
          "choropleth": [
           {
            "type": "choropleth",
            "colorbar": {
             "outlinewidth": 0,
             "ticks": ""
            }
           }
          ],
          "histogram2d": [
           {
            "type": "histogram2d",
            "colorbar": {
             "outlinewidth": 0,
             "ticks": ""
            },
            "colorscale": [
             [
              0.0,
              "#0d0887"
             ],
             [
              0.1111111111111111,
              "#46039f"
             ],
             [
              0.2222222222222222,
              "#7201a8"
             ],
             [
              0.3333333333333333,
              "#9c179e"
             ],
             [
              0.4444444444444444,
              "#bd3786"
             ],
             [
              0.5555555555555556,
              "#d8576b"
             ],
             [
              0.6666666666666666,
              "#ed7953"
             ],
             [
              0.7777777777777778,
              "#fb9f3a"
             ],
             [
              0.8888888888888888,
              "#fdca26"
             ],
             [
              1.0,
              "#f0f921"
             ]
            ]
           }
          ],
          "heatmap": [
           {
            "type": "heatmap",
            "colorbar": {
             "outlinewidth": 0,
             "ticks": ""
            },
            "colorscale": [
             [
              0.0,
              "#0d0887"
             ],
             [
              0.1111111111111111,
              "#46039f"
             ],
             [
              0.2222222222222222,
              "#7201a8"
             ],
             [
              0.3333333333333333,
              "#9c179e"
             ],
             [
              0.4444444444444444,
              "#bd3786"
             ],
             [
              0.5555555555555556,
              "#d8576b"
             ],
             [
              0.6666666666666666,
              "#ed7953"
             ],
             [
              0.7777777777777778,
              "#fb9f3a"
             ],
             [
              0.8888888888888888,
              "#fdca26"
             ],
             [
              1.0,
              "#f0f921"
             ]
            ]
           }
          ],
          "contourcarpet": [
           {
            "type": "contourcarpet",
            "colorbar": {
             "outlinewidth": 0,
             "ticks": ""
            }
           }
          ],
          "contour": [
           {
            "type": "contour",
            "colorbar": {
             "outlinewidth": 0,
             "ticks": ""
            },
            "colorscale": [
             [
              0.0,
              "#0d0887"
             ],
             [
              0.1111111111111111,
              "#46039f"
             ],
             [
              0.2222222222222222,
              "#7201a8"
             ],
             [
              0.3333333333333333,
              "#9c179e"
             ],
             [
              0.4444444444444444,
              "#bd3786"
             ],
             [
              0.5555555555555556,
              "#d8576b"
             ],
             [
              0.6666666666666666,
              "#ed7953"
             ],
             [
              0.7777777777777778,
              "#fb9f3a"
             ],
             [
              0.8888888888888888,
              "#fdca26"
             ],
             [
              1.0,
              "#f0f921"
             ]
            ]
           }
          ],
          "surface": [
           {
            "type": "surface",
            "colorbar": {
             "outlinewidth": 0,
             "ticks": ""
            },
            "colorscale": [
             [
              0.0,
              "#0d0887"
             ],
             [
              0.1111111111111111,
              "#46039f"
             ],
             [
              0.2222222222222222,
              "#7201a8"
             ],
             [
              0.3333333333333333,
              "#9c179e"
             ],
             [
              0.4444444444444444,
              "#bd3786"
             ],
             [
              0.5555555555555556,
              "#d8576b"
             ],
             [
              0.6666666666666666,
              "#ed7953"
             ],
             [
              0.7777777777777778,
              "#fb9f3a"
             ],
             [
              0.8888888888888888,
              "#fdca26"
             ],
             [
              1.0,
              "#f0f921"
             ]
            ]
           }
          ],
          "mesh3d": [
           {
            "type": "mesh3d",
            "colorbar": {
             "outlinewidth": 0,
             "ticks": ""
            }
           }
          ],
          "scatter": [
           {
            "marker": {
             "line": {
              "color": "#283442"
             }
            },
            "type": "scatter"
           }
          ],
          "parcoords": [
           {
            "type": "parcoords",
            "line": {
             "colorbar": {
              "outlinewidth": 0,
              "ticks": ""
             }
            }
           }
          ],
          "scatterpolargl": [
           {
            "type": "scatterpolargl",
            "marker": {
             "colorbar": {
              "outlinewidth": 0,
              "ticks": ""
             }
            }
           }
          ],
          "bar": [
           {
            "error_x": {
             "color": "#f2f5fa"
            },
            "error_y": {
             "color": "#f2f5fa"
            },
            "marker": {
             "line": {
              "color": "rgb(17,17,17)",
              "width": 0.5
             },
             "pattern": {
              "fillmode": "overlay",
              "size": 10,
              "solidity": 0.2
             }
            },
            "type": "bar"
           }
          ],
          "scattergeo": [
           {
            "type": "scattergeo",
            "marker": {
             "colorbar": {
              "outlinewidth": 0,
              "ticks": ""
             }
            }
           }
          ],
          "scatterpolar": [
           {
            "type": "scatterpolar",
            "marker": {
             "colorbar": {
              "outlinewidth": 0,
              "ticks": ""
             }
            }
           }
          ],
          "histogram": [
           {
            "marker": {
             "pattern": {
              "fillmode": "overlay",
              "size": 10,
              "solidity": 0.2
             }
            },
            "type": "histogram"
           }
          ],
          "scattergl": [
           {
            "marker": {
             "line": {
              "color": "#283442"
             }
            },
            "type": "scattergl"
           }
          ],
          "scatter3d": [
           {
            "type": "scatter3d",
            "line": {
             "colorbar": {
              "outlinewidth": 0,
              "ticks": ""
             }
            },
            "marker": {
             "colorbar": {
              "outlinewidth": 0,
              "ticks": ""
             }
            }
           }
          ],
          "scattermap": [
           {
            "type": "scattermap",
            "marker": {
             "colorbar": {
              "outlinewidth": 0,
              "ticks": ""
             }
            }
           }
          ],
          "scattermapbox": [
           {
            "type": "scattermapbox",
            "marker": {
             "colorbar": {
              "outlinewidth": 0,
              "ticks": ""
             }
            }
           }
          ],
          "scatterternary": [
           {
            "type": "scatterternary",
            "marker": {
             "colorbar": {
              "outlinewidth": 0,
              "ticks": ""
             }
            }
           }
          ],
          "scattercarpet": [
           {
            "type": "scattercarpet",
            "marker": {
             "colorbar": {
              "outlinewidth": 0,
              "ticks": ""
             }
            }
           }
          ],
          "carpet": [
           {
            "aaxis": {
             "endlinecolor": "#A2B1C6",
             "gridcolor": "#506784",
             "linecolor": "#506784",
             "minorgridcolor": "#506784",
             "startlinecolor": "#A2B1C6"
            },
            "baxis": {
             "endlinecolor": "#A2B1C6",
             "gridcolor": "#506784",
             "linecolor": "#506784",
             "minorgridcolor": "#506784",
             "startlinecolor": "#A2B1C6"
            },
            "type": "carpet"
           }
          ],
          "table": [
           {
            "cells": {
             "fill": {
              "color": "#506784"
             },
             "line": {
              "color": "rgb(17,17,17)"
             }
            },
            "header": {
             "fill": {
              "color": "#2a3f5f"
             },
             "line": {
              "color": "rgb(17,17,17)"
             }
            },
            "type": "table"
           }
          ],
          "barpolar": [
           {
            "marker": {
             "line": {
              "color": "rgb(17,17,17)",
              "width": 0.5
             },
             "pattern": {
              "fillmode": "overlay",
              "size": 10,
              "solidity": 0.2
             }
            },
            "type": "barpolar"
           }
          ],
          "pie": [
           {
            "automargin": true,
            "type": "pie"
           }
          ]
         },
         "layout": {
          "autotypenumbers": "strict",
          "colorway": [
           "#636efa",
           "#EF553B",
           "#00cc96",
           "#ab63fa",
           "#FFA15A",
           "#19d3f3",
           "#FF6692",
           "#B6E880",
           "#FF97FF",
           "#FECB52"
          ],
          "font": {
           "color": "#f2f5fa"
          },
          "hovermode": "closest",
          "hoverlabel": {
           "align": "left"
          },
          "paper_bgcolor": "rgb(17,17,17)",
          "plot_bgcolor": "rgb(17,17,17)",
          "polar": {
           "bgcolor": "rgb(17,17,17)",
           "angularaxis": {
            "gridcolor": "#506784",
            "linecolor": "#506784",
            "ticks": ""
           },
           "radialaxis": {
            "gridcolor": "#506784",
            "linecolor": "#506784",
            "ticks": ""
           }
          },
          "ternary": {
           "bgcolor": "rgb(17,17,17)",
           "aaxis": {
            "gridcolor": "#506784",
            "linecolor": "#506784",
            "ticks": ""
           },
           "baxis": {
            "gridcolor": "#506784",
            "linecolor": "#506784",
            "ticks": ""
           },
           "caxis": {
            "gridcolor": "#506784",
            "linecolor": "#506784",
            "ticks": ""
           }
          },
          "coloraxis": {
           "colorbar": {
            "outlinewidth": 0,
            "ticks": ""
           }
          },
          "colorscale": {
           "sequential": [
            [
             0.0,
             "#0d0887"
            ],
            [
             0.1111111111111111,
             "#46039f"
            ],
            [
             0.2222222222222222,
             "#7201a8"
            ],
            [
             0.3333333333333333,
             "#9c179e"
            ],
            [
             0.4444444444444444,
             "#bd3786"
            ],
            [
             0.5555555555555556,
             "#d8576b"
            ],
            [
             0.6666666666666666,
             "#ed7953"
            ],
            [
             0.7777777777777778,
             "#fb9f3a"
            ],
            [
             0.8888888888888888,
             "#fdca26"
            ],
            [
             1.0,
             "#f0f921"
            ]
           ],
           "sequentialminus": [
            [
             0.0,
             "#0d0887"
            ],
            [
             0.1111111111111111,
             "#46039f"
            ],
            [
             0.2222222222222222,
             "#7201a8"
            ],
            [
             0.3333333333333333,
             "#9c179e"
            ],
            [
             0.4444444444444444,
             "#bd3786"
            ],
            [
             0.5555555555555556,
             "#d8576b"
            ],
            [
             0.6666666666666666,
             "#ed7953"
            ],
            [
             0.7777777777777778,
             "#fb9f3a"
            ],
            [
             0.8888888888888888,
             "#fdca26"
            ],
            [
             1.0,
             "#f0f921"
            ]
           ],
           "diverging": [
            [
             0,
             "#8e0152"
            ],
            [
             0.1,
             "#c51b7d"
            ],
            [
             0.2,
             "#de77ae"
            ],
            [
             0.3,
             "#f1b6da"
            ],
            [
             0.4,
             "#fde0ef"
            ],
            [
             0.5,
             "#f7f7f7"
            ],
            [
             0.6,
             "#e6f5d0"
            ],
            [
             0.7,
             "#b8e186"
            ],
            [
             0.8,
             "#7fbc41"
            ],
            [
             0.9,
             "#4d9221"
            ],
            [
             1,
             "#276419"
            ]
           ]
          },
          "xaxis": {
           "gridcolor": "#283442",
           "linecolor": "#506784",
           "ticks": "",
           "title": {
            "standoff": 15
           },
           "zerolinecolor": "#283442",
           "automargin": true,
           "zerolinewidth": 2
          },
          "yaxis": {
           "gridcolor": "#283442",
           "linecolor": "#506784",
           "ticks": "",
           "title": {
            "standoff": 15
           },
           "zerolinecolor": "#283442",
           "automargin": true,
           "zerolinewidth": 2
          },
          "scene": {
           "xaxis": {
            "backgroundcolor": "rgb(17,17,17)",
            "gridcolor": "#506784",
            "linecolor": "#506784",
            "showbackground": true,
            "ticks": "",
            "zerolinecolor": "#C8D4E3",
            "gridwidth": 2
           },
           "yaxis": {
            "backgroundcolor": "rgb(17,17,17)",
            "gridcolor": "#506784",
            "linecolor": "#506784",
            "showbackground": true,
            "ticks": "",
            "zerolinecolor": "#C8D4E3",
            "gridwidth": 2
           },
           "zaxis": {
            "backgroundcolor": "rgb(17,17,17)",
            "gridcolor": "#506784",
            "linecolor": "#506784",
            "showbackground": true,
            "ticks": "",
            "zerolinecolor": "#C8D4E3",
            "gridwidth": 2
           }
          },
          "shapedefaults": {
           "line": {
            "color": "#f2f5fa"
           }
          },
          "annotationdefaults": {
           "arrowcolor": "#f2f5fa",
           "arrowhead": 0,
           "arrowwidth": 1
          },
          "geo": {
           "bgcolor": "rgb(17,17,17)",
           "landcolor": "rgb(17,17,17)",
           "subunitcolor": "#506784",
           "showland": true,
           "showlakes": true,
           "lakecolor": "rgb(17,17,17)"
          },
          "title": {
           "x": 0.05
          },
          "updatemenudefaults": {
           "bgcolor": "#506784",
           "borderwidth": 0
          },
          "sliderdefaults": {
           "bgcolor": "#C8D4E3",
           "borderwidth": 1,
           "bordercolor": "rgb(17,17,17)",
           "tickwidth": 0
          },
          "mapbox": {
           "style": "dark"
          }
         }
        },
        "legend": {
         "tracegroupgap": 0
        },
        "title": {
         "text": "Fuel Type and Transmission"
        }
       },
       "config": {
        "plotlyServerURL": "https://plot.ly"
       }
      }
     },
     "metadata": {},
     "output_type": "display_data"
    }
   ],
   "execution_count": 6
  },
  {
   "metadata": {
    "ExecuteTime": {
     "end_time": "2025-07-16T14:29:05.380376Z",
     "start_time": "2025-07-16T14:29:05.353612Z"
    }
   },
   "cell_type": "code",
   "source": [
    "df_mean=df.groupby(\"Engine_Size_L\")[\"Mileage_KM\"].mean().reset_index()\n",
    "fig=px.bar(df_mean,x=\"Engine_Size_L\",y=\"Mileage_KM\",title=\"MILEAGE VS ENGINE SIZE\",labels={\"Mileage_KM\":\"Mileage per km \", \"Engine_Size_L\":\"Engine Size Per L\"})\n",
    "fig.show()"
   ],
   "id": "c2194bfd0f7a7e3a",
   "outputs": [
    {
     "data": {
      "application/vnd.plotly.v1+json": {
       "data": [
        {
         "hovertemplate": "Engine Size Per L=%{x}<br>Mileage per km =%{y}<extra></extra>",
         "legendgroup": "",
         "marker": {
          "color": "#636efa",
          "pattern": {
           "shape": ""
          }
         },
         "name": "",
         "orientation": "v",
         "showlegend": false,
         "textposition": "auto",
         "x": {
          "dtype": "f8",
          "bdata": "AAAAAAAA+D+amZmZmZn5PzMzMzMzM/s/zczMzMzM/D9mZmZmZmb+PwAAAAAAAABAzczMzMzMAECamZmZmZkBQGZmZmZmZgJAMzMzMzMzA0AAAAAAAAAEQM3MzMzMzARAmpmZmZmZBUBmZmZmZmYGQDMzMzMzMwdAAAAAAAAACEDNzMzMzMwIQJqZmZmZmQlAZmZmZmZmCkAzMzMzMzMLQAAAAAAAAAxAzczMzMzMDECamZmZmZkNQGZmZmZmZg5AMzMzMzMzD0AAAAAAAAAQQGZmZmZmZhBAzczMzMzMEEAzMzMzMzMRQJqZmZmZmRFAAAAAAAAAEkBmZmZmZmYSQM3MzMzMzBJAMzMzMzMzE0CamZmZmZkTQAAAAAAAABRA"
         },
         "xaxis": "x",
         "y": {
          "dtype": "f8",
          "bdata": "laZTBK6w+EAXUBjVy7T4QHTA70jue/hAdn9yLrlV+EArtdF1xav4QOKueEQ9uPhAc1PRPP2Y+EBQnbClHyb5QFWPsWHRO/hAPJ9BRiFp+EBTmUVahqv4QBBPg1mJQ/hAED744O8T+UCdJ66mmon4QP+lJPRhlfhAZmZmZj5c+EBbTkYhugL4QDPiOnxWbfhAZcHjEmmv+EAxOanCm5T4QPi9Th1BO/hA/Tzrr7+X+ECMsFXrY0D4QK576qg99PdAB1i2+UKP+ED4EJ3pXcL3QDqsVFIDWPhAQ2DqUPg3+UBiDnOY1tH4QGKf2t40E/hA6VWbazzz+ECkAYPFhB/4QJ9xwEIUhvhA4gzmwlPx90DQSkAruY34QHyW7XsmtvhA"
         },
         "yaxis": "y",
         "type": "bar"
        }
       ],
       "layout": {
        "template": {
         "data": {
          "histogram2dcontour": [
           {
            "type": "histogram2dcontour",
            "colorbar": {
             "outlinewidth": 0,
             "ticks": ""
            },
            "colorscale": [
             [
              0.0,
              "#0d0887"
             ],
             [
              0.1111111111111111,
              "#46039f"
             ],
             [
              0.2222222222222222,
              "#7201a8"
             ],
             [
              0.3333333333333333,
              "#9c179e"
             ],
             [
              0.4444444444444444,
              "#bd3786"
             ],
             [
              0.5555555555555556,
              "#d8576b"
             ],
             [
              0.6666666666666666,
              "#ed7953"
             ],
             [
              0.7777777777777778,
              "#fb9f3a"
             ],
             [
              0.8888888888888888,
              "#fdca26"
             ],
             [
              1.0,
              "#f0f921"
             ]
            ]
           }
          ],
          "choropleth": [
           {
            "type": "choropleth",
            "colorbar": {
             "outlinewidth": 0,
             "ticks": ""
            }
           }
          ],
          "histogram2d": [
           {
            "type": "histogram2d",
            "colorbar": {
             "outlinewidth": 0,
             "ticks": ""
            },
            "colorscale": [
             [
              0.0,
              "#0d0887"
             ],
             [
              0.1111111111111111,
              "#46039f"
             ],
             [
              0.2222222222222222,
              "#7201a8"
             ],
             [
              0.3333333333333333,
              "#9c179e"
             ],
             [
              0.4444444444444444,
              "#bd3786"
             ],
             [
              0.5555555555555556,
              "#d8576b"
             ],
             [
              0.6666666666666666,
              "#ed7953"
             ],
             [
              0.7777777777777778,
              "#fb9f3a"
             ],
             [
              0.8888888888888888,
              "#fdca26"
             ],
             [
              1.0,
              "#f0f921"
             ]
            ]
           }
          ],
          "heatmap": [
           {
            "type": "heatmap",
            "colorbar": {
             "outlinewidth": 0,
             "ticks": ""
            },
            "colorscale": [
             [
              0.0,
              "#0d0887"
             ],
             [
              0.1111111111111111,
              "#46039f"
             ],
             [
              0.2222222222222222,
              "#7201a8"
             ],
             [
              0.3333333333333333,
              "#9c179e"
             ],
             [
              0.4444444444444444,
              "#bd3786"
             ],
             [
              0.5555555555555556,
              "#d8576b"
             ],
             [
              0.6666666666666666,
              "#ed7953"
             ],
             [
              0.7777777777777778,
              "#fb9f3a"
             ],
             [
              0.8888888888888888,
              "#fdca26"
             ],
             [
              1.0,
              "#f0f921"
             ]
            ]
           }
          ],
          "contourcarpet": [
           {
            "type": "contourcarpet",
            "colorbar": {
             "outlinewidth": 0,
             "ticks": ""
            }
           }
          ],
          "contour": [
           {
            "type": "contour",
            "colorbar": {
             "outlinewidth": 0,
             "ticks": ""
            },
            "colorscale": [
             [
              0.0,
              "#0d0887"
             ],
             [
              0.1111111111111111,
              "#46039f"
             ],
             [
              0.2222222222222222,
              "#7201a8"
             ],
             [
              0.3333333333333333,
              "#9c179e"
             ],
             [
              0.4444444444444444,
              "#bd3786"
             ],
             [
              0.5555555555555556,
              "#d8576b"
             ],
             [
              0.6666666666666666,
              "#ed7953"
             ],
             [
              0.7777777777777778,
              "#fb9f3a"
             ],
             [
              0.8888888888888888,
              "#fdca26"
             ],
             [
              1.0,
              "#f0f921"
             ]
            ]
           }
          ],
          "surface": [
           {
            "type": "surface",
            "colorbar": {
             "outlinewidth": 0,
             "ticks": ""
            },
            "colorscale": [
             [
              0.0,
              "#0d0887"
             ],
             [
              0.1111111111111111,
              "#46039f"
             ],
             [
              0.2222222222222222,
              "#7201a8"
             ],
             [
              0.3333333333333333,
              "#9c179e"
             ],
             [
              0.4444444444444444,
              "#bd3786"
             ],
             [
              0.5555555555555556,
              "#d8576b"
             ],
             [
              0.6666666666666666,
              "#ed7953"
             ],
             [
              0.7777777777777778,
              "#fb9f3a"
             ],
             [
              0.8888888888888888,
              "#fdca26"
             ],
             [
              1.0,
              "#f0f921"
             ]
            ]
           }
          ],
          "mesh3d": [
           {
            "type": "mesh3d",
            "colorbar": {
             "outlinewidth": 0,
             "ticks": ""
            }
           }
          ],
          "scatter": [
           {
            "marker": {
             "line": {
              "color": "#283442"
             }
            },
            "type": "scatter"
           }
          ],
          "parcoords": [
           {
            "type": "parcoords",
            "line": {
             "colorbar": {
              "outlinewidth": 0,
              "ticks": ""
             }
            }
           }
          ],
          "scatterpolargl": [
           {
            "type": "scatterpolargl",
            "marker": {
             "colorbar": {
              "outlinewidth": 0,
              "ticks": ""
             }
            }
           }
          ],
          "bar": [
           {
            "error_x": {
             "color": "#f2f5fa"
            },
            "error_y": {
             "color": "#f2f5fa"
            },
            "marker": {
             "line": {
              "color": "rgb(17,17,17)",
              "width": 0.5
             },
             "pattern": {
              "fillmode": "overlay",
              "size": 10,
              "solidity": 0.2
             }
            },
            "type": "bar"
           }
          ],
          "scattergeo": [
           {
            "type": "scattergeo",
            "marker": {
             "colorbar": {
              "outlinewidth": 0,
              "ticks": ""
             }
            }
           }
          ],
          "scatterpolar": [
           {
            "type": "scatterpolar",
            "marker": {
             "colorbar": {
              "outlinewidth": 0,
              "ticks": ""
             }
            }
           }
          ],
          "histogram": [
           {
            "marker": {
             "pattern": {
              "fillmode": "overlay",
              "size": 10,
              "solidity": 0.2
             }
            },
            "type": "histogram"
           }
          ],
          "scattergl": [
           {
            "marker": {
             "line": {
              "color": "#283442"
             }
            },
            "type": "scattergl"
           }
          ],
          "scatter3d": [
           {
            "type": "scatter3d",
            "line": {
             "colorbar": {
              "outlinewidth": 0,
              "ticks": ""
             }
            },
            "marker": {
             "colorbar": {
              "outlinewidth": 0,
              "ticks": ""
             }
            }
           }
          ],
          "scattermap": [
           {
            "type": "scattermap",
            "marker": {
             "colorbar": {
              "outlinewidth": 0,
              "ticks": ""
             }
            }
           }
          ],
          "scattermapbox": [
           {
            "type": "scattermapbox",
            "marker": {
             "colorbar": {
              "outlinewidth": 0,
              "ticks": ""
             }
            }
           }
          ],
          "scatterternary": [
           {
            "type": "scatterternary",
            "marker": {
             "colorbar": {
              "outlinewidth": 0,
              "ticks": ""
             }
            }
           }
          ],
          "scattercarpet": [
           {
            "type": "scattercarpet",
            "marker": {
             "colorbar": {
              "outlinewidth": 0,
              "ticks": ""
             }
            }
           }
          ],
          "carpet": [
           {
            "aaxis": {
             "endlinecolor": "#A2B1C6",
             "gridcolor": "#506784",
             "linecolor": "#506784",
             "minorgridcolor": "#506784",
             "startlinecolor": "#A2B1C6"
            },
            "baxis": {
             "endlinecolor": "#A2B1C6",
             "gridcolor": "#506784",
             "linecolor": "#506784",
             "minorgridcolor": "#506784",
             "startlinecolor": "#A2B1C6"
            },
            "type": "carpet"
           }
          ],
          "table": [
           {
            "cells": {
             "fill": {
              "color": "#506784"
             },
             "line": {
              "color": "rgb(17,17,17)"
             }
            },
            "header": {
             "fill": {
              "color": "#2a3f5f"
             },
             "line": {
              "color": "rgb(17,17,17)"
             }
            },
            "type": "table"
           }
          ],
          "barpolar": [
           {
            "marker": {
             "line": {
              "color": "rgb(17,17,17)",
              "width": 0.5
             },
             "pattern": {
              "fillmode": "overlay",
              "size": 10,
              "solidity": 0.2
             }
            },
            "type": "barpolar"
           }
          ],
          "pie": [
           {
            "automargin": true,
            "type": "pie"
           }
          ]
         },
         "layout": {
          "autotypenumbers": "strict",
          "colorway": [
           "#636efa",
           "#EF553B",
           "#00cc96",
           "#ab63fa",
           "#FFA15A",
           "#19d3f3",
           "#FF6692",
           "#B6E880",
           "#FF97FF",
           "#FECB52"
          ],
          "font": {
           "color": "#f2f5fa"
          },
          "hovermode": "closest",
          "hoverlabel": {
           "align": "left"
          },
          "paper_bgcolor": "rgb(17,17,17)",
          "plot_bgcolor": "rgb(17,17,17)",
          "polar": {
           "bgcolor": "rgb(17,17,17)",
           "angularaxis": {
            "gridcolor": "#506784",
            "linecolor": "#506784",
            "ticks": ""
           },
           "radialaxis": {
            "gridcolor": "#506784",
            "linecolor": "#506784",
            "ticks": ""
           }
          },
          "ternary": {
           "bgcolor": "rgb(17,17,17)",
           "aaxis": {
            "gridcolor": "#506784",
            "linecolor": "#506784",
            "ticks": ""
           },
           "baxis": {
            "gridcolor": "#506784",
            "linecolor": "#506784",
            "ticks": ""
           },
           "caxis": {
            "gridcolor": "#506784",
            "linecolor": "#506784",
            "ticks": ""
           }
          },
          "coloraxis": {
           "colorbar": {
            "outlinewidth": 0,
            "ticks": ""
           }
          },
          "colorscale": {
           "sequential": [
            [
             0.0,
             "#0d0887"
            ],
            [
             0.1111111111111111,
             "#46039f"
            ],
            [
             0.2222222222222222,
             "#7201a8"
            ],
            [
             0.3333333333333333,
             "#9c179e"
            ],
            [
             0.4444444444444444,
             "#bd3786"
            ],
            [
             0.5555555555555556,
             "#d8576b"
            ],
            [
             0.6666666666666666,
             "#ed7953"
            ],
            [
             0.7777777777777778,
             "#fb9f3a"
            ],
            [
             0.8888888888888888,
             "#fdca26"
            ],
            [
             1.0,
             "#f0f921"
            ]
           ],
           "sequentialminus": [
            [
             0.0,
             "#0d0887"
            ],
            [
             0.1111111111111111,
             "#46039f"
            ],
            [
             0.2222222222222222,
             "#7201a8"
            ],
            [
             0.3333333333333333,
             "#9c179e"
            ],
            [
             0.4444444444444444,
             "#bd3786"
            ],
            [
             0.5555555555555556,
             "#d8576b"
            ],
            [
             0.6666666666666666,
             "#ed7953"
            ],
            [
             0.7777777777777778,
             "#fb9f3a"
            ],
            [
             0.8888888888888888,
             "#fdca26"
            ],
            [
             1.0,
             "#f0f921"
            ]
           ],
           "diverging": [
            [
             0,
             "#8e0152"
            ],
            [
             0.1,
             "#c51b7d"
            ],
            [
             0.2,
             "#de77ae"
            ],
            [
             0.3,
             "#f1b6da"
            ],
            [
             0.4,
             "#fde0ef"
            ],
            [
             0.5,
             "#f7f7f7"
            ],
            [
             0.6,
             "#e6f5d0"
            ],
            [
             0.7,
             "#b8e186"
            ],
            [
             0.8,
             "#7fbc41"
            ],
            [
             0.9,
             "#4d9221"
            ],
            [
             1,
             "#276419"
            ]
           ]
          },
          "xaxis": {
           "gridcolor": "#283442",
           "linecolor": "#506784",
           "ticks": "",
           "title": {
            "standoff": 15
           },
           "zerolinecolor": "#283442",
           "automargin": true,
           "zerolinewidth": 2
          },
          "yaxis": {
           "gridcolor": "#283442",
           "linecolor": "#506784",
           "ticks": "",
           "title": {
            "standoff": 15
           },
           "zerolinecolor": "#283442",
           "automargin": true,
           "zerolinewidth": 2
          },
          "scene": {
           "xaxis": {
            "backgroundcolor": "rgb(17,17,17)",
            "gridcolor": "#506784",
            "linecolor": "#506784",
            "showbackground": true,
            "ticks": "",
            "zerolinecolor": "#C8D4E3",
            "gridwidth": 2
           },
           "yaxis": {
            "backgroundcolor": "rgb(17,17,17)",
            "gridcolor": "#506784",
            "linecolor": "#506784",
            "showbackground": true,
            "ticks": "",
            "zerolinecolor": "#C8D4E3",
            "gridwidth": 2
           },
           "zaxis": {
            "backgroundcolor": "rgb(17,17,17)",
            "gridcolor": "#506784",
            "linecolor": "#506784",
            "showbackground": true,
            "ticks": "",
            "zerolinecolor": "#C8D4E3",
            "gridwidth": 2
           }
          },
          "shapedefaults": {
           "line": {
            "color": "#f2f5fa"
           }
          },
          "annotationdefaults": {
           "arrowcolor": "#f2f5fa",
           "arrowhead": 0,
           "arrowwidth": 1
          },
          "geo": {
           "bgcolor": "rgb(17,17,17)",
           "landcolor": "rgb(17,17,17)",
           "subunitcolor": "#506784",
           "showland": true,
           "showlakes": true,
           "lakecolor": "rgb(17,17,17)"
          },
          "title": {
           "x": 0.05
          },
          "updatemenudefaults": {
           "bgcolor": "#506784",
           "borderwidth": 0
          },
          "sliderdefaults": {
           "bgcolor": "#C8D4E3",
           "borderwidth": 1,
           "bordercolor": "rgb(17,17,17)",
           "tickwidth": 0
          },
          "mapbox": {
           "style": "dark"
          }
         }
        },
        "xaxis": {
         "anchor": "y",
         "domain": [
          0.0,
          1.0
         ],
         "title": {
          "text": "Engine Size Per L"
         }
        },
        "yaxis": {
         "anchor": "x",
         "domain": [
          0.0,
          1.0
         ],
         "title": {
          "text": "Mileage per km "
         }
        },
        "legend": {
         "tracegroupgap": 0
        },
        "title": {
         "text": "MILEAGE VS ENGINE SIZE"
        },
        "barmode": "relative"
       },
       "config": {
        "plotlyServerURL": "https://plot.ly"
       }
      }
     },
     "metadata": {},
     "output_type": "display_data"
    }
   ],
   "execution_count": 7
  },
  {
   "metadata": {
    "ExecuteTime": {
     "end_time": "2025-07-16T14:29:05.398928Z",
     "start_time": "2025-07-16T14:29:05.393749Z"
    }
   },
   "cell_type": "code",
   "source": [
    "df=df.sample(frac=0.1,random_state=10).reset_index(drop=True)\n",
    "print(df.shape)"
   ],
   "id": "5a8ef40349b6c96c",
   "outputs": [
    {
     "name": "stdout",
     "output_type": "stream",
     "text": [
      "(5000, 11)\n"
     ]
    }
   ],
   "execution_count": 8
  },
  {
   "metadata": {
    "ExecuteTime": {
     "end_time": "2025-07-16T14:29:05.420531Z",
     "start_time": "2025-07-16T14:29:05.415483Z"
    }
   },
   "cell_type": "code",
   "source": "df.head(10)",
   "id": "892a689ad52287bb",
   "outputs": [
    {
     "data": {
      "text/plain": [
       "      Model  Year         Region   Color Fuel_Type Transmission  \\\n",
       "0  7 Series  2012         Africa  Silver    Petrol    Automatic   \n",
       "1        M3  2016         Europe    Blue    Petrol    Automatic   \n",
       "2        M3  2010  North America    Blue    Petrol       Manual   \n",
       "3        M5  2024  North America   Black    Petrol       Manual   \n",
       "4        M3  2021           Asia  Silver    Petrol    Automatic   \n",
       "5        i8  2015  South America   White    Diesel       Manual   \n",
       "6        X6  2014           Asia    Blue    Hybrid    Automatic   \n",
       "7  7 Series  2024         Africa     Red    Petrol    Automatic   \n",
       "8        M5  2012    Middle East   White  Electric    Automatic   \n",
       "9        i8  2020           Asia  Silver    Hybrid       Manual   \n",
       "\n",
       "   Engine_Size_L  Mileage_KM  Price_USD  Sales_Volume Sales_Classification  \n",
       "0            2.8      166334     113412          8298                 High  \n",
       "1            3.7       77039     118570           941                  Low  \n",
       "2            3.3       55432     111237          4339                  Low  \n",
       "3            3.1      101064      96471           962                  Low  \n",
       "4            3.4      128077     109564          4924                  Low  \n",
       "5            3.0      180573      43925          9293                 High  \n",
       "6            3.6       23068      98979          3672                  Low  \n",
       "7            4.7        8413      86558          9109                 High  \n",
       "8            2.7      135948      80741          1383                  Low  \n",
       "9            3.5       80738      51179          4950                  Low  "
      ],
      "text/html": [
       "<div>\n",
       "<style scoped>\n",
       "    .dataframe tbody tr th:only-of-type {\n",
       "        vertical-align: middle;\n",
       "    }\n",
       "\n",
       "    .dataframe tbody tr th {\n",
       "        vertical-align: top;\n",
       "    }\n",
       "\n",
       "    .dataframe thead th {\n",
       "        text-align: right;\n",
       "    }\n",
       "</style>\n",
       "<table border=\"1\" class=\"dataframe\">\n",
       "  <thead>\n",
       "    <tr style=\"text-align: right;\">\n",
       "      <th></th>\n",
       "      <th>Model</th>\n",
       "      <th>Year</th>\n",
       "      <th>Region</th>\n",
       "      <th>Color</th>\n",
       "      <th>Fuel_Type</th>\n",
       "      <th>Transmission</th>\n",
       "      <th>Engine_Size_L</th>\n",
       "      <th>Mileage_KM</th>\n",
       "      <th>Price_USD</th>\n",
       "      <th>Sales_Volume</th>\n",
       "      <th>Sales_Classification</th>\n",
       "    </tr>\n",
       "  </thead>\n",
       "  <tbody>\n",
       "    <tr>\n",
       "      <th>0</th>\n",
       "      <td>7 Series</td>\n",
       "      <td>2012</td>\n",
       "      <td>Africa</td>\n",
       "      <td>Silver</td>\n",
       "      <td>Petrol</td>\n",
       "      <td>Automatic</td>\n",
       "      <td>2.8</td>\n",
       "      <td>166334</td>\n",
       "      <td>113412</td>\n",
       "      <td>8298</td>\n",
       "      <td>High</td>\n",
       "    </tr>\n",
       "    <tr>\n",
       "      <th>1</th>\n",
       "      <td>M3</td>\n",
       "      <td>2016</td>\n",
       "      <td>Europe</td>\n",
       "      <td>Blue</td>\n",
       "      <td>Petrol</td>\n",
       "      <td>Automatic</td>\n",
       "      <td>3.7</td>\n",
       "      <td>77039</td>\n",
       "      <td>118570</td>\n",
       "      <td>941</td>\n",
       "      <td>Low</td>\n",
       "    </tr>\n",
       "    <tr>\n",
       "      <th>2</th>\n",
       "      <td>M3</td>\n",
       "      <td>2010</td>\n",
       "      <td>North America</td>\n",
       "      <td>Blue</td>\n",
       "      <td>Petrol</td>\n",
       "      <td>Manual</td>\n",
       "      <td>3.3</td>\n",
       "      <td>55432</td>\n",
       "      <td>111237</td>\n",
       "      <td>4339</td>\n",
       "      <td>Low</td>\n",
       "    </tr>\n",
       "    <tr>\n",
       "      <th>3</th>\n",
       "      <td>M5</td>\n",
       "      <td>2024</td>\n",
       "      <td>North America</td>\n",
       "      <td>Black</td>\n",
       "      <td>Petrol</td>\n",
       "      <td>Manual</td>\n",
       "      <td>3.1</td>\n",
       "      <td>101064</td>\n",
       "      <td>96471</td>\n",
       "      <td>962</td>\n",
       "      <td>Low</td>\n",
       "    </tr>\n",
       "    <tr>\n",
       "      <th>4</th>\n",
       "      <td>M3</td>\n",
       "      <td>2021</td>\n",
       "      <td>Asia</td>\n",
       "      <td>Silver</td>\n",
       "      <td>Petrol</td>\n",
       "      <td>Automatic</td>\n",
       "      <td>3.4</td>\n",
       "      <td>128077</td>\n",
       "      <td>109564</td>\n",
       "      <td>4924</td>\n",
       "      <td>Low</td>\n",
       "    </tr>\n",
       "    <tr>\n",
       "      <th>5</th>\n",
       "      <td>i8</td>\n",
       "      <td>2015</td>\n",
       "      <td>South America</td>\n",
       "      <td>White</td>\n",
       "      <td>Diesel</td>\n",
       "      <td>Manual</td>\n",
       "      <td>3.0</td>\n",
       "      <td>180573</td>\n",
       "      <td>43925</td>\n",
       "      <td>9293</td>\n",
       "      <td>High</td>\n",
       "    </tr>\n",
       "    <tr>\n",
       "      <th>6</th>\n",
       "      <td>X6</td>\n",
       "      <td>2014</td>\n",
       "      <td>Asia</td>\n",
       "      <td>Blue</td>\n",
       "      <td>Hybrid</td>\n",
       "      <td>Automatic</td>\n",
       "      <td>3.6</td>\n",
       "      <td>23068</td>\n",
       "      <td>98979</td>\n",
       "      <td>3672</td>\n",
       "      <td>Low</td>\n",
       "    </tr>\n",
       "    <tr>\n",
       "      <th>7</th>\n",
       "      <td>7 Series</td>\n",
       "      <td>2024</td>\n",
       "      <td>Africa</td>\n",
       "      <td>Red</td>\n",
       "      <td>Petrol</td>\n",
       "      <td>Automatic</td>\n",
       "      <td>4.7</td>\n",
       "      <td>8413</td>\n",
       "      <td>86558</td>\n",
       "      <td>9109</td>\n",
       "      <td>High</td>\n",
       "    </tr>\n",
       "    <tr>\n",
       "      <th>8</th>\n",
       "      <td>M5</td>\n",
       "      <td>2012</td>\n",
       "      <td>Middle East</td>\n",
       "      <td>White</td>\n",
       "      <td>Electric</td>\n",
       "      <td>Automatic</td>\n",
       "      <td>2.7</td>\n",
       "      <td>135948</td>\n",
       "      <td>80741</td>\n",
       "      <td>1383</td>\n",
       "      <td>Low</td>\n",
       "    </tr>\n",
       "    <tr>\n",
       "      <th>9</th>\n",
       "      <td>i8</td>\n",
       "      <td>2020</td>\n",
       "      <td>Asia</td>\n",
       "      <td>Silver</td>\n",
       "      <td>Hybrid</td>\n",
       "      <td>Manual</td>\n",
       "      <td>3.5</td>\n",
       "      <td>80738</td>\n",
       "      <td>51179</td>\n",
       "      <td>4950</td>\n",
       "      <td>Low</td>\n",
       "    </tr>\n",
       "  </tbody>\n",
       "</table>\n",
       "</div>"
      ]
     },
     "execution_count": 9,
     "metadata": {},
     "output_type": "execute_result"
    }
   ],
   "execution_count": 9
  },
  {
   "metadata": {
    "ExecuteTime": {
     "end_time": "2025-07-16T14:29:05.472746Z",
     "start_time": "2025-07-16T14:29:05.447056Z"
    }
   },
   "cell_type": "code",
   "source": [
    "fig=px.histogram(df,x=\"Price_USD\",color=\"Model\",nbins=200,title=\"PRICE DISTRIBUTION IN $\")\n",
    "fig.show()"
   ],
   "id": "e84f27dde1e3fdfe",
   "outputs": [
    {
     "data": {
      "application/vnd.plotly.v1+json": {
       "data": [
        {
         "bingroup": "x",
         "hovertemplate": "Model=7 Series<br>Price_USD=%{x}<br>count=%{y}<extra></extra>",
         "legendgroup": "7 Series",
         "marker": {
          "color": "#636efa",
          "pattern": {
           "shape": ""
          }
         },
         "name": "7 Series",
         "nbinsx": 200,
         "orientation": "v",
         "showlegend": true,
         "x": {
          "dtype": "i4",
          "bdata": "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"
         },
         "xaxis": "x",
         "yaxis": "y",
         "type": "histogram"
        },
        {
         "bingroup": "x",
         "hovertemplate": "Model=M3<br>Price_USD=%{x}<br>count=%{y}<extra></extra>",
         "legendgroup": "M3",
         "marker": {
          "color": "#EF553B",
          "pattern": {
           "shape": ""
          }
         },
         "name": "M3",
         "nbinsx": 200,
         "orientation": "v",
         "showlegend": true,
         "x": {
          "dtype": "i4",
          "bdata": "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"
         },
         "xaxis": "x",
         "yaxis": "y",
         "type": "histogram"
        },
        {
         "bingroup": "x",
         "hovertemplate": "Model=M5<br>Price_USD=%{x}<br>count=%{y}<extra></extra>",
         "legendgroup": "M5",
         "marker": {
          "color": "#00cc96",
          "pattern": {
           "shape": ""
          }
         },
         "name": "M5",
         "nbinsx": 200,
         "orientation": "v",
         "showlegend": true,
         "x": {
          "dtype": "i4",
          "bdata": "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"
         },
         "xaxis": "x",
         "yaxis": "y",
         "type": "histogram"
        },
        {
         "bingroup": "x",
         "hovertemplate": "Model=i8<br>Price_USD=%{x}<br>count=%{y}<extra></extra>",
         "legendgroup": "i8",
         "marker": {
          "color": "#ab63fa",
          "pattern": {
           "shape": ""
          }
         },
         "name": "i8",
         "nbinsx": 200,
         "orientation": "v",
         "showlegend": true,
         "x": {
          "dtype": "i4",
          "bdata": "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"
         },
         "xaxis": "x",
         "yaxis": "y",
         "type": "histogram"
        },
        {
         "bingroup": "x",
         "hovertemplate": "Model=X6<br>Price_USD=%{x}<br>count=%{y}<extra></extra>",
         "legendgroup": "X6",
         "marker": {
          "color": "#FFA15A",
          "pattern": {
           "shape": ""
          }
         },
         "name": "X6",
         "nbinsx": 200,
         "orientation": "v",
         "showlegend": true,
         "x": {
          "dtype": "i4",
          "bdata": "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"
         },
         "xaxis": "x",
         "yaxis": "y",
         "type": "histogram"
        },
        {
         "bingroup": "x",
         "hovertemplate": "Model=X3<br>Price_USD=%{x}<br>count=%{y}<extra></extra>",
         "legendgroup": "X3",
         "marker": {
          "color": "#19d3f3",
          "pattern": {
           "shape": ""
          }
         },
         "name": "X3",
         "nbinsx": 200,
         "orientation": "v",
         "showlegend": true,
         "x": {
          "dtype": "i4",
          "bdata": "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"
         },
         "xaxis": "x",
         "yaxis": "y",
         "type": "histogram"
        },
        {
         "bingroup": "x",
         "hovertemplate": "Model=i3<br>Price_USD=%{x}<br>count=%{y}<extra></extra>",
         "legendgroup": "i3",
         "marker": {
          "color": "#FF6692",
          "pattern": {
           "shape": ""
          }
         },
         "name": "i3",
         "nbinsx": 200,
         "orientation": "v",
         "showlegend": true,
         "x": {
          "dtype": "i4",
          "bdata": "mH8AANH0AAD5mQAAiqMBAPb7AADPIwEAZ8MBAH+4AQALygAA+w4BAIZjAQCMnAAA3LkAAHHSAAC2dgAA4TkBAOR1AAAZigAAIzQBAOiTAQC0xQAAHkcBAJVXAQCifAEAwvwAAAa5AQCSwwAAcDcBAOkXAQBMzgAA0VMBAIm6AADfwwEAbswBAG2PAACl+QAAlKABADKqAQAvjAAA/Z0AAJcOAQCZfwAAcCABAEZ6AACOfQAAdkQBAJMwAQBPmwAAsHABAPxEAQCgvAEA0JsAAEC/AQCwewAAOocAADbLAQCaqQAA+zEBAK6tAQCPaAEAxigBAL+8AQBLxwEApEgBAL8FAQCvDAEAWVQBAEWgAAAZiQEAEZkBAPRyAQBFfQAAPIEAAC1vAQBthQEA7MUAAPHlAAAf9gAA65YAAOIMAQDDyAAAG5IAAN9xAQArcwEAjpsAAPG+AQBbUgEARxUBAPTjAADkswEAO70BAMOCAQAQrQAAQIkAANuvAQDNMgEA3BUBAGBhAQCU0AAA/qQBAPZ7AQDjOwEAJ5gAAPGcAAB8BQEAsUYBACEUAQC3tQAAObwBAI2kAABQ/gAAa40AAJMxAQChWQEASRIBALa0AQAivwEAFLoAALyvAQAgywAAa3gBAJOpAQBiKgEAi4cAADZxAQDHIAEATFcBAMXDAACnUwEAj4QAAEGnAQCHfwAA4o4AACmxAACDdgAAb1oBAFZyAQBIhAAAN60BAEV1AQDtyQAAoscBAHDNAQBFoAEAC2IBACuJAQDzhwEAnsEBAE2gAQBrJgEAyFIBALnwAAByZgEAdIoAAPywAAAHvQAAh6sBAOwqAQAiuAEAdoYBABc8AQD43wAAwaQBAB/IAQBg2AAAEioBADpKAQAssAAA44MBAEU0AQDKDwEAe2oBAI3EAQD6fgEASB0BAJSRAAD3TwEA0T8BAAyVAACyLwEAhVEBAH/DAQDHuQAAqNQAAGbKAABOlgAA0acAABrFAADyNQEAM48BAKiKAADekAEAKtABAF3FAAA6sAEA/6QAALODAQCTxgEAGNIAAHO8AQBIQAEA+vcAABWtAQDKkAAANtQAAM3vAADuWwEA1pYAAPBEAQDMrAAAsGYBAL3EAQCJBQEAxbUAAFGEAAD2lgAA6NEBAL9+AQDbVgEAL6ABAAHhAACzywAAWQIBAA/BAQDrwQAASK4BANd8AQB+HAEAOEoBAJSdAQAjogAA8gwBAOh3AQCzgwEAlr8BAIYGAQCt5AAAx5QAAB8pAQDguQAA7WkBAJEOAQDyDAEAY2UBAI9dAQBB2gAAbkMBAFvDAACGzAEAZAMBAB/MAAAQ/wAAOYsBAL7DAQB+jAEAT4kBALDAAAA4hQAAf1MBAMYYAQAKJwEAEksBAPkwAQB2lwAAlFgBAGy8AACtoQEA1HoBANG0AQD3wQEAyYUAAISuAQA68AAAUpYAAJugAAABdAEARXwBAEI7AQCy4AAAbNcAABQRAQD5JwEABX8AAInvAABDSAEARYoBAHi8AADOkAEA0LQAANa8AQDVUQEAiBgBAPwNAQAGGgEAVI0AANYLAQDRxgAAzdABAGIaAQAdswEAm0ABAJ3PAADHxwAAWHcAANmwAQB35wAATIcAAA//AADcbAEAPqQAAMEIAQD9jwAAiy0BAAsTAQAQnQAAZNQBAGc8AQBPtgEAMswBAOojAQAVTwEAD5UBAHs0AQBuEwEACVQBAGb2AACglQAA1J4BAKFvAQDJqQEAqrUAAFfWAACStwAAi4kBAMTvAADOtAEAKE4BAHNxAQDl6wAAgFEBAJHBAQCKpAEAfNAAADpfAQBfswEAWJwBAIAPAQAMMAEAFjIBAELzAAAgggEAvMkBAEvTAAC8YwEAHbsAAG7iAACTSwEA9P4AAPuAAQDalgAAUEQBAEQNAQCyrwEAJt0AAHy3AQDWEQEACpQBAFGpAADt6wAAf5cAAH8EAQDzyQEAAfQAAATrAAAn5QAAwBABAAEAAQDvuQAAk9cAAEdiAQDahwAAt8MAALjeAAD7UQEAY3cBABtNAQDo9wAA18oBAJUnAQAMbQEAyMsAADWgAQCVhQEAvEUBAHKEAAAqiQAAZ+AAAOyqAQDppgEAI80AAMuUAABU/QAAQYEAAEO7AQDAdwEAzIkAADaPAQDEzgEAAPoAAJf3AAAiAQEAZq8AAFAyAQD2owEAM34BACbfAACBJgEA7hgBAFuwAADQggAAEjcBAIBDAQDnmAAA2pABAK4uAQCYDQEAkNEAAHKeAADe6AAAMKkBAAkTAQAgqAAAbigBANW2AQB1zQEAGMsBAC/EAADzQQEAmbQBAJFWAQD0hQAAlpQAAGbBAQCx9AAAYPcAAIDpAAAChwAAfasBABfyAAA="
         },
         "xaxis": "x",
         "yaxis": "y",
         "type": "histogram"
        },
        {
         "bingroup": "x",
         "hovertemplate": "Model=X1<br>Price_USD=%{x}<br>count=%{y}<extra></extra>",
         "legendgroup": "X1",
         "marker": {
          "color": "#B6E880",
          "pattern": {
           "shape": ""
          }
         },
         "name": "X1",
         "nbinsx": 200,
         "orientation": "v",
         "showlegend": true,
         "x": {
          "dtype": "i4",
          "bdata": "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"
         },
         "xaxis": "x",
         "yaxis": "y",
         "type": "histogram"
        },
        {
         "bingroup": "x",
         "hovertemplate": "Model=3 Series<br>Price_USD=%{x}<br>count=%{y}<extra></extra>",
         "legendgroup": "3 Series",
         "marker": {
          "color": "#FF97FF",
          "pattern": {
           "shape": ""
          }
         },
         "name": "3 Series",
         "nbinsx": 200,
         "orientation": "v",
         "showlegend": true,
         "x": {
          "dtype": "i4",
          "bdata": "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"
         },
         "xaxis": "x",
         "yaxis": "y",
         "type": "histogram"
        },
        {
         "bingroup": "x",
         "hovertemplate": "Model=X5<br>Price_USD=%{x}<br>count=%{y}<extra></extra>",
         "legendgroup": "X5",
         "marker": {
          "color": "#FECB52",
          "pattern": {
           "shape": ""
          }
         },
         "name": "X5",
         "nbinsx": 200,
         "orientation": "v",
         "showlegend": true,
         "x": {
          "dtype": "i4",
          "bdata": "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"
         },
         "xaxis": "x",
         "yaxis": "y",
         "type": "histogram"
        },
        {
         "bingroup": "x",
         "hovertemplate": "Model=5 Series<br>Price_USD=%{x}<br>count=%{y}<extra></extra>",
         "legendgroup": "5 Series",
         "marker": {
          "color": "#636efa",
          "pattern": {
           "shape": ""
          }
         },
         "name": "5 Series",
         "nbinsx": 200,
         "orientation": "v",
         "showlegend": true,
         "x": {
          "dtype": "i4",
          "bdata": "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"
         },
         "xaxis": "x",
         "yaxis": "y",
         "type": "histogram"
        }
       ],
       "layout": {
        "template": {
         "data": {
          "histogram2dcontour": [
           {
            "type": "histogram2dcontour",
            "colorbar": {
             "outlinewidth": 0,
             "ticks": ""
            },
            "colorscale": [
             [
              0.0,
              "#0d0887"
             ],
             [
              0.1111111111111111,
              "#46039f"
             ],
             [
              0.2222222222222222,
              "#7201a8"
             ],
             [
              0.3333333333333333,
              "#9c179e"
             ],
             [
              0.4444444444444444,
              "#bd3786"
             ],
             [
              0.5555555555555556,
              "#d8576b"
             ],
             [
              0.6666666666666666,
              "#ed7953"
             ],
             [
              0.7777777777777778,
              "#fb9f3a"
             ],
             [
              0.8888888888888888,
              "#fdca26"
             ],
             [
              1.0,
              "#f0f921"
             ]
            ]
           }
          ],
          "choropleth": [
           {
            "type": "choropleth",
            "colorbar": {
             "outlinewidth": 0,
             "ticks": ""
            }
           }
          ],
          "histogram2d": [
           {
            "type": "histogram2d",
            "colorbar": {
             "outlinewidth": 0,
             "ticks": ""
            },
            "colorscale": [
             [
              0.0,
              "#0d0887"
             ],
             [
              0.1111111111111111,
              "#46039f"
             ],
             [
              0.2222222222222222,
              "#7201a8"
             ],
             [
              0.3333333333333333,
              "#9c179e"
             ],
             [
              0.4444444444444444,
              "#bd3786"
             ],
             [
              0.5555555555555556,
              "#d8576b"
             ],
             [
              0.6666666666666666,
              "#ed7953"
             ],
             [
              0.7777777777777778,
              "#fb9f3a"
             ],
             [
              0.8888888888888888,
              "#fdca26"
             ],
             [
              1.0,
              "#f0f921"
             ]
            ]
           }
          ],
          "heatmap": [
           {
            "type": "heatmap",
            "colorbar": {
             "outlinewidth": 0,
             "ticks": ""
            },
            "colorscale": [
             [
              0.0,
              "#0d0887"
             ],
             [
              0.1111111111111111,
              "#46039f"
             ],
             [
              0.2222222222222222,
              "#7201a8"
             ],
             [
              0.3333333333333333,
              "#9c179e"
             ],
             [
              0.4444444444444444,
              "#bd3786"
             ],
             [
              0.5555555555555556,
              "#d8576b"
             ],
             [
              0.6666666666666666,
              "#ed7953"
             ],
             [
              0.7777777777777778,
              "#fb9f3a"
             ],
             [
              0.8888888888888888,
              "#fdca26"
             ],
             [
              1.0,
              "#f0f921"
             ]
            ]
           }
          ],
          "contourcarpet": [
           {
            "type": "contourcarpet",
            "colorbar": {
             "outlinewidth": 0,
             "ticks": ""
            }
           }
          ],
          "contour": [
           {
            "type": "contour",
            "colorbar": {
             "outlinewidth": 0,
             "ticks": ""
            },
            "colorscale": [
             [
              0.0,
              "#0d0887"
             ],
             [
              0.1111111111111111,
              "#46039f"
             ],
             [
              0.2222222222222222,
              "#7201a8"
             ],
             [
              0.3333333333333333,
              "#9c179e"
             ],
             [
              0.4444444444444444,
              "#bd3786"
             ],
             [
              0.5555555555555556,
              "#d8576b"
             ],
             [
              0.6666666666666666,
              "#ed7953"
             ],
             [
              0.7777777777777778,
              "#fb9f3a"
             ],
             [
              0.8888888888888888,
              "#fdca26"
             ],
             [
              1.0,
              "#f0f921"
             ]
            ]
           }
          ],
          "surface": [
           {
            "type": "surface",
            "colorbar": {
             "outlinewidth": 0,
             "ticks": ""
            },
            "colorscale": [
             [
              0.0,
              "#0d0887"
             ],
             [
              0.1111111111111111,
              "#46039f"
             ],
             [
              0.2222222222222222,
              "#7201a8"
             ],
             [
              0.3333333333333333,
              "#9c179e"
             ],
             [
              0.4444444444444444,
              "#bd3786"
             ],
             [
              0.5555555555555556,
              "#d8576b"
             ],
             [
              0.6666666666666666,
              "#ed7953"
             ],
             [
              0.7777777777777778,
              "#fb9f3a"
             ],
             [
              0.8888888888888888,
              "#fdca26"
             ],
             [
              1.0,
              "#f0f921"
             ]
            ]
           }
          ],
          "mesh3d": [
           {
            "type": "mesh3d",
            "colorbar": {
             "outlinewidth": 0,
             "ticks": ""
            }
           }
          ],
          "scatter": [
           {
            "marker": {
             "line": {
              "color": "#283442"
             }
            },
            "type": "scatter"
           }
          ],
          "parcoords": [
           {
            "type": "parcoords",
            "line": {
             "colorbar": {
              "outlinewidth": 0,
              "ticks": ""
             }
            }
           }
          ],
          "scatterpolargl": [
           {
            "type": "scatterpolargl",
            "marker": {
             "colorbar": {
              "outlinewidth": 0,
              "ticks": ""
             }
            }
           }
          ],
          "bar": [
           {
            "error_x": {
             "color": "#f2f5fa"
            },
            "error_y": {
             "color": "#f2f5fa"
            },
            "marker": {
             "line": {
              "color": "rgb(17,17,17)",
              "width": 0.5
             },
             "pattern": {
              "fillmode": "overlay",
              "size": 10,
              "solidity": 0.2
             }
            },
            "type": "bar"
           }
          ],
          "scattergeo": [
           {
            "type": "scattergeo",
            "marker": {
             "colorbar": {
              "outlinewidth": 0,
              "ticks": ""
             }
            }
           }
          ],
          "scatterpolar": [
           {
            "type": "scatterpolar",
            "marker": {
             "colorbar": {
              "outlinewidth": 0,
              "ticks": ""
             }
            }
           }
          ],
          "histogram": [
           {
            "marker": {
             "pattern": {
              "fillmode": "overlay",
              "size": 10,
              "solidity": 0.2
             }
            },
            "type": "histogram"
           }
          ],
          "scattergl": [
           {
            "marker": {
             "line": {
              "color": "#283442"
             }
            },
            "type": "scattergl"
           }
          ],
          "scatter3d": [
           {
            "type": "scatter3d",
            "line": {
             "colorbar": {
              "outlinewidth": 0,
              "ticks": ""
             }
            },
            "marker": {
             "colorbar": {
              "outlinewidth": 0,
              "ticks": ""
             }
            }
           }
          ],
          "scattermap": [
           {
            "type": "scattermap",
            "marker": {
             "colorbar": {
              "outlinewidth": 0,
              "ticks": ""
             }
            }
           }
          ],
          "scattermapbox": [
           {
            "type": "scattermapbox",
            "marker": {
             "colorbar": {
              "outlinewidth": 0,
              "ticks": ""
             }
            }
           }
          ],
          "scatterternary": [
           {
            "type": "scatterternary",
            "marker": {
             "colorbar": {
              "outlinewidth": 0,
              "ticks": ""
             }
            }
           }
          ],
          "scattercarpet": [
           {
            "type": "scattercarpet",
            "marker": {
             "colorbar": {
              "outlinewidth": 0,
              "ticks": ""
             }
            }
           }
          ],
          "carpet": [
           {
            "aaxis": {
             "endlinecolor": "#A2B1C6",
             "gridcolor": "#506784",
             "linecolor": "#506784",
             "minorgridcolor": "#506784",
             "startlinecolor": "#A2B1C6"
            },
            "baxis": {
             "endlinecolor": "#A2B1C6",
             "gridcolor": "#506784",
             "linecolor": "#506784",
             "minorgridcolor": "#506784",
             "startlinecolor": "#A2B1C6"
            },
            "type": "carpet"
           }
          ],
          "table": [
           {
            "cells": {
             "fill": {
              "color": "#506784"
             },
             "line": {
              "color": "rgb(17,17,17)"
             }
            },
            "header": {
             "fill": {
              "color": "#2a3f5f"
             },
             "line": {
              "color": "rgb(17,17,17)"
             }
            },
            "type": "table"
           }
          ],
          "barpolar": [
           {
            "marker": {
             "line": {
              "color": "rgb(17,17,17)",
              "width": 0.5
             },
             "pattern": {
              "fillmode": "overlay",
              "size": 10,
              "solidity": 0.2
             }
            },
            "type": "barpolar"
           }
          ],
          "pie": [
           {
            "automargin": true,
            "type": "pie"
           }
          ]
         },
         "layout": {
          "autotypenumbers": "strict",
          "colorway": [
           "#636efa",
           "#EF553B",
           "#00cc96",
           "#ab63fa",
           "#FFA15A",
           "#19d3f3",
           "#FF6692",
           "#B6E880",
           "#FF97FF",
           "#FECB52"
          ],
          "font": {
           "color": "#f2f5fa"
          },
          "hovermode": "closest",
          "hoverlabel": {
           "align": "left"
          },
          "paper_bgcolor": "rgb(17,17,17)",
          "plot_bgcolor": "rgb(17,17,17)",
          "polar": {
           "bgcolor": "rgb(17,17,17)",
           "angularaxis": {
            "gridcolor": "#506784",
            "linecolor": "#506784",
            "ticks": ""
           },
           "radialaxis": {
            "gridcolor": "#506784",
            "linecolor": "#506784",
            "ticks": ""
           }
          },
          "ternary": {
           "bgcolor": "rgb(17,17,17)",
           "aaxis": {
            "gridcolor": "#506784",
            "linecolor": "#506784",
            "ticks": ""
           },
           "baxis": {
            "gridcolor": "#506784",
            "linecolor": "#506784",
            "ticks": ""
           },
           "caxis": {
            "gridcolor": "#506784",
            "linecolor": "#506784",
            "ticks": ""
           }
          },
          "coloraxis": {
           "colorbar": {
            "outlinewidth": 0,
            "ticks": ""
           }
          },
          "colorscale": {
           "sequential": [
            [
             0.0,
             "#0d0887"
            ],
            [
             0.1111111111111111,
             "#46039f"
            ],
            [
             0.2222222222222222,
             "#7201a8"
            ],
            [
             0.3333333333333333,
             "#9c179e"
            ],
            [
             0.4444444444444444,
             "#bd3786"
            ],
            [
             0.5555555555555556,
             "#d8576b"
            ],
            [
             0.6666666666666666,
             "#ed7953"
            ],
            [
             0.7777777777777778,
             "#fb9f3a"
            ],
            [
             0.8888888888888888,
             "#fdca26"
            ],
            [
             1.0,
             "#f0f921"
            ]
           ],
           "sequentialminus": [
            [
             0.0,
             "#0d0887"
            ],
            [
             0.1111111111111111,
             "#46039f"
            ],
            [
             0.2222222222222222,
             "#7201a8"
            ],
            [
             0.3333333333333333,
             "#9c179e"
            ],
            [
             0.4444444444444444,
             "#bd3786"
            ],
            [
             0.5555555555555556,
             "#d8576b"
            ],
            [
             0.6666666666666666,
             "#ed7953"
            ],
            [
             0.7777777777777778,
             "#fb9f3a"
            ],
            [
             0.8888888888888888,
             "#fdca26"
            ],
            [
             1.0,
             "#f0f921"
            ]
           ],
           "diverging": [
            [
             0,
             "#8e0152"
            ],
            [
             0.1,
             "#c51b7d"
            ],
            [
             0.2,
             "#de77ae"
            ],
            [
             0.3,
             "#f1b6da"
            ],
            [
             0.4,
             "#fde0ef"
            ],
            [
             0.5,
             "#f7f7f7"
            ],
            [
             0.6,
             "#e6f5d0"
            ],
            [
             0.7,
             "#b8e186"
            ],
            [
             0.8,
             "#7fbc41"
            ],
            [
             0.9,
             "#4d9221"
            ],
            [
             1,
             "#276419"
            ]
           ]
          },
          "xaxis": {
           "gridcolor": "#283442",
           "linecolor": "#506784",
           "ticks": "",
           "title": {
            "standoff": 15
           },
           "zerolinecolor": "#283442",
           "automargin": true,
           "zerolinewidth": 2
          },
          "yaxis": {
           "gridcolor": "#283442",
           "linecolor": "#506784",
           "ticks": "",
           "title": {
            "standoff": 15
           },
           "zerolinecolor": "#283442",
           "automargin": true,
           "zerolinewidth": 2
          },
          "scene": {
           "xaxis": {
            "backgroundcolor": "rgb(17,17,17)",
            "gridcolor": "#506784",
            "linecolor": "#506784",
            "showbackground": true,
            "ticks": "",
            "zerolinecolor": "#C8D4E3",
            "gridwidth": 2
           },
           "yaxis": {
            "backgroundcolor": "rgb(17,17,17)",
            "gridcolor": "#506784",
            "linecolor": "#506784",
            "showbackground": true,
            "ticks": "",
            "zerolinecolor": "#C8D4E3",
            "gridwidth": 2
           },
           "zaxis": {
            "backgroundcolor": "rgb(17,17,17)",
            "gridcolor": "#506784",
            "linecolor": "#506784",
            "showbackground": true,
            "ticks": "",
            "zerolinecolor": "#C8D4E3",
            "gridwidth": 2
           }
          },
          "shapedefaults": {
           "line": {
            "color": "#f2f5fa"
           }
          },
          "annotationdefaults": {
           "arrowcolor": "#f2f5fa",
           "arrowhead": 0,
           "arrowwidth": 1
          },
          "geo": {
           "bgcolor": "rgb(17,17,17)",
           "landcolor": "rgb(17,17,17)",
           "subunitcolor": "#506784",
           "showland": true,
           "showlakes": true,
           "lakecolor": "rgb(17,17,17)"
          },
          "title": {
           "x": 0.05
          },
          "updatemenudefaults": {
           "bgcolor": "#506784",
           "borderwidth": 0
          },
          "sliderdefaults": {
           "bgcolor": "#C8D4E3",
           "borderwidth": 1,
           "bordercolor": "rgb(17,17,17)",
           "tickwidth": 0
          },
          "mapbox": {
           "style": "dark"
          }
         }
        },
        "xaxis": {
         "anchor": "y",
         "domain": [
          0.0,
          1.0
         ],
         "title": {
          "text": "Price_USD"
         }
        },
        "yaxis": {
         "anchor": "x",
         "domain": [
          0.0,
          1.0
         ],
         "title": {
          "text": "count"
         }
        },
        "legend": {
         "title": {
          "text": "Model"
         },
         "tracegroupgap": 0
        },
        "title": {
         "text": "PRICE DISTRIBUTION IN $"
        },
        "barmode": "relative"
       },
       "config": {
        "plotlyServerURL": "https://plot.ly"
       }
      }
     },
     "metadata": {},
     "output_type": "display_data"
    }
   ],
   "execution_count": 10
  },
  {
   "metadata": {
    "ExecuteTime": {
     "end_time": "2025-07-16T14:29:05.539614Z",
     "start_time": "2025-07-16T14:29:05.508860Z"
    }
   },
   "cell_type": "code",
   "source": [
    "# Count of each Model\n",
    "df_model_count = df['Model'].value_counts().reset_index()\n",
    "df_model_count.columns = ['Model', 'Count']\n",
    "# Create bar chart\n",
    "fig = px.bar(df_model_count, x='Model', y='Count',\n",
    "             title='Number of Cars per BMW Model',\n",
    "             text='Count',color=\"Model\",)\n",
    "fig.update_layout(xaxis_tickangle=-45)\n",
    "fig.show()"
   ],
   "id": "bf2c480b3f9f09b4",
   "outputs": [
    {
     "data": {
      "application/vnd.plotly.v1+json": {
       "data": [
        {
         "hovertemplate": "Model=%{x}<br>Count=%{text}<extra></extra>",
         "legendgroup": "5 Series",
         "marker": {
          "color": "#636efa",
          "pattern": {
           "shape": ""
          }
         },
         "name": "5 Series",
         "orientation": "v",
         "showlegend": true,
         "text": {
          "dtype": "f8",
          "bdata": "AAAAAABQfkA="
         },
         "textposition": "auto",
         "x": [
          "5 Series"
         ],
         "xaxis": "x",
         "y": {
          "dtype": "i2",
          "bdata": "5QE="
         },
         "yaxis": "y",
         "type": "bar"
        },
        {
         "hovertemplate": "Model=%{x}<br>Count=%{text}<extra></extra>",
         "legendgroup": "M3",
         "marker": {
          "color": "#EF553B",
          "pattern": {
           "shape": ""
          }
         },
         "name": "M3",
         "orientation": "v",
         "showlegend": true,
         "text": {
          "dtype": "f8",
          "bdata": "AAAAAADQfUA="
         },
         "textposition": "auto",
         "x": [
          "M3"
         ],
         "xaxis": "x",
         "y": {
          "dtype": "i2",
          "bdata": "3QE="
         },
         "yaxis": "y",
         "type": "bar"
        },
        {
         "hovertemplate": "Model=%{x}<br>Count=%{text}<extra></extra>",
         "legendgroup": "7 Series",
         "marker": {
          "color": "#00cc96",
          "pattern": {
           "shape": ""
          }
         },
         "name": "7 Series",
         "orientation": "v",
         "showlegend": true,
         "text": {
          "dtype": "f8",
          "bdata": "AAAAAAAgfUA="
         },
         "textposition": "auto",
         "x": [
          "7 Series"
         ],
         "xaxis": "x",
         "y": {
          "dtype": "i2",
          "bdata": "0gE="
         },
         "yaxis": "y",
         "type": "bar"
        },
        {
         "hovertemplate": "Model=%{x}<br>Count=%{text}<extra></extra>",
         "legendgroup": "X1",
         "marker": {
          "color": "#ab63fa",
          "pattern": {
           "shape": ""
          }
         },
         "name": "X1",
         "orientation": "v",
         "showlegend": true,
         "text": {
          "dtype": "f8",
          "bdata": "AAAAAAAgfUA="
         },
         "textposition": "auto",
         "x": [
          "X1"
         ],
         "xaxis": "x",
         "y": {
          "dtype": "i2",
          "bdata": "0gE="
         },
         "yaxis": "y",
         "type": "bar"
        },
        {
         "hovertemplate": "Model=%{x}<br>Count=%{text}<extra></extra>",
         "legendgroup": "3 Series",
         "marker": {
          "color": "#FFA15A",
          "pattern": {
           "shape": ""
          }
         },
         "name": "3 Series",
         "orientation": "v",
         "showlegend": true,
         "text": {
          "dtype": "f8",
          "bdata": "AAAAAABAfEA="
         },
         "textposition": "auto",
         "x": [
          "3 Series"
         ],
         "xaxis": "x",
         "y": {
          "dtype": "i2",
          "bdata": "xAE="
         },
         "yaxis": "y",
         "type": "bar"
        },
        {
         "hovertemplate": "Model=%{x}<br>Count=%{text}<extra></extra>",
         "legendgroup": "X3",
         "marker": {
          "color": "#19d3f3",
          "pattern": {
           "shape": ""
          }
         },
         "name": "X3",
         "orientation": "v",
         "showlegend": true,
         "text": {
          "dtype": "f8",
          "bdata": "AAAAAAAQfEA="
         },
         "textposition": "auto",
         "x": [
          "X3"
         ],
         "xaxis": "x",
         "y": {
          "dtype": "i2",
          "bdata": "wQE="
         },
         "yaxis": "y",
         "type": "bar"
        },
        {
         "hovertemplate": "Model=%{x}<br>Count=%{text}<extra></extra>",
         "legendgroup": "i3",
         "marker": {
          "color": "#FF6692",
          "pattern": {
           "shape": ""
          }
         },
         "name": "i3",
         "orientation": "v",
         "showlegend": true,
         "text": {
          "dtype": "f8",
          "bdata": "AAAAAAAQfEA="
         },
         "textposition": "auto",
         "x": [
          "i3"
         ],
         "xaxis": "x",
         "y": {
          "dtype": "i2",
          "bdata": "wQE="
         },
         "yaxis": "y",
         "type": "bar"
        },
        {
         "hovertemplate": "Model=%{x}<br>Count=%{text}<extra></extra>",
         "legendgroup": "M5",
         "marker": {
          "color": "#B6E880",
          "pattern": {
           "shape": ""
          }
         },
         "name": "M5",
         "orientation": "v",
         "showlegend": true,
         "text": {
          "dtype": "f8",
          "bdata": "AAAAAADwe0A="
         },
         "textposition": "auto",
         "x": [
          "M5"
         ],
         "xaxis": "x",
         "y": {
          "dtype": "i2",
          "bdata": "vwE="
         },
         "yaxis": "y",
         "type": "bar"
        },
        {
         "hovertemplate": "Model=%{x}<br>Count=%{text}<extra></extra>",
         "legendgroup": "i8",
         "marker": {
          "color": "#FF97FF",
          "pattern": {
           "shape": ""
          }
         },
         "name": "i8",
         "orientation": "v",
         "showlegend": true,
         "text": {
          "dtype": "f8",
          "bdata": "AAAAAADwe0A="
         },
         "textposition": "auto",
         "x": [
          "i8"
         ],
         "xaxis": "x",
         "y": {
          "dtype": "i2",
          "bdata": "vwE="
         },
         "yaxis": "y",
         "type": "bar"
        },
        {
         "hovertemplate": "Model=%{x}<br>Count=%{text}<extra></extra>",
         "legendgroup": "X5",
         "marker": {
          "color": "#FECB52",
          "pattern": {
           "shape": ""
          }
         },
         "name": "X5",
         "orientation": "v",
         "showlegend": true,
         "text": {
          "dtype": "f8",
          "bdata": "AAAAAABAe0A="
         },
         "textposition": "auto",
         "x": [
          "X5"
         ],
         "xaxis": "x",
         "y": {
          "dtype": "i2",
          "bdata": "tAE="
         },
         "yaxis": "y",
         "type": "bar"
        },
        {
         "hovertemplate": "Model=%{x}<br>Count=%{text}<extra></extra>",
         "legendgroup": "X6",
         "marker": {
          "color": "#636efa",
          "pattern": {
           "shape": ""
          }
         },
         "name": "X6",
         "orientation": "v",
         "showlegend": true,
         "text": {
          "dtype": "f8",
          "bdata": "AAAAAACgekA="
         },
         "textposition": "auto",
         "x": [
          "X6"
         ],
         "xaxis": "x",
         "y": {
          "dtype": "i2",
          "bdata": "qgE="
         },
         "yaxis": "y",
         "type": "bar"
        }
       ],
       "layout": {
        "template": {
         "data": {
          "histogram2dcontour": [
           {
            "type": "histogram2dcontour",
            "colorbar": {
             "outlinewidth": 0,
             "ticks": ""
            },
            "colorscale": [
             [
              0.0,
              "#0d0887"
             ],
             [
              0.1111111111111111,
              "#46039f"
             ],
             [
              0.2222222222222222,
              "#7201a8"
             ],
             [
              0.3333333333333333,
              "#9c179e"
             ],
             [
              0.4444444444444444,
              "#bd3786"
             ],
             [
              0.5555555555555556,
              "#d8576b"
             ],
             [
              0.6666666666666666,
              "#ed7953"
             ],
             [
              0.7777777777777778,
              "#fb9f3a"
             ],
             [
              0.8888888888888888,
              "#fdca26"
             ],
             [
              1.0,
              "#f0f921"
             ]
            ]
           }
          ],
          "choropleth": [
           {
            "type": "choropleth",
            "colorbar": {
             "outlinewidth": 0,
             "ticks": ""
            }
           }
          ],
          "histogram2d": [
           {
            "type": "histogram2d",
            "colorbar": {
             "outlinewidth": 0,
             "ticks": ""
            },
            "colorscale": [
             [
              0.0,
              "#0d0887"
             ],
             [
              0.1111111111111111,
              "#46039f"
             ],
             [
              0.2222222222222222,
              "#7201a8"
             ],
             [
              0.3333333333333333,
              "#9c179e"
             ],
             [
              0.4444444444444444,
              "#bd3786"
             ],
             [
              0.5555555555555556,
              "#d8576b"
             ],
             [
              0.6666666666666666,
              "#ed7953"
             ],
             [
              0.7777777777777778,
              "#fb9f3a"
             ],
             [
              0.8888888888888888,
              "#fdca26"
             ],
             [
              1.0,
              "#f0f921"
             ]
            ]
           }
          ],
          "heatmap": [
           {
            "type": "heatmap",
            "colorbar": {
             "outlinewidth": 0,
             "ticks": ""
            },
            "colorscale": [
             [
              0.0,
              "#0d0887"
             ],
             [
              0.1111111111111111,
              "#46039f"
             ],
             [
              0.2222222222222222,
              "#7201a8"
             ],
             [
              0.3333333333333333,
              "#9c179e"
             ],
             [
              0.4444444444444444,
              "#bd3786"
             ],
             [
              0.5555555555555556,
              "#d8576b"
             ],
             [
              0.6666666666666666,
              "#ed7953"
             ],
             [
              0.7777777777777778,
              "#fb9f3a"
             ],
             [
              0.8888888888888888,
              "#fdca26"
             ],
             [
              1.0,
              "#f0f921"
             ]
            ]
           }
          ],
          "contourcarpet": [
           {
            "type": "contourcarpet",
            "colorbar": {
             "outlinewidth": 0,
             "ticks": ""
            }
           }
          ],
          "contour": [
           {
            "type": "contour",
            "colorbar": {
             "outlinewidth": 0,
             "ticks": ""
            },
            "colorscale": [
             [
              0.0,
              "#0d0887"
             ],
             [
              0.1111111111111111,
              "#46039f"
             ],
             [
              0.2222222222222222,
              "#7201a8"
             ],
             [
              0.3333333333333333,
              "#9c179e"
             ],
             [
              0.4444444444444444,
              "#bd3786"
             ],
             [
              0.5555555555555556,
              "#d8576b"
             ],
             [
              0.6666666666666666,
              "#ed7953"
             ],
             [
              0.7777777777777778,
              "#fb9f3a"
             ],
             [
              0.8888888888888888,
              "#fdca26"
             ],
             [
              1.0,
              "#f0f921"
             ]
            ]
           }
          ],
          "surface": [
           {
            "type": "surface",
            "colorbar": {
             "outlinewidth": 0,
             "ticks": ""
            },
            "colorscale": [
             [
              0.0,
              "#0d0887"
             ],
             [
              0.1111111111111111,
              "#46039f"
             ],
             [
              0.2222222222222222,
              "#7201a8"
             ],
             [
              0.3333333333333333,
              "#9c179e"
             ],
             [
              0.4444444444444444,
              "#bd3786"
             ],
             [
              0.5555555555555556,
              "#d8576b"
             ],
             [
              0.6666666666666666,
              "#ed7953"
             ],
             [
              0.7777777777777778,
              "#fb9f3a"
             ],
             [
              0.8888888888888888,
              "#fdca26"
             ],
             [
              1.0,
              "#f0f921"
             ]
            ]
           }
          ],
          "mesh3d": [
           {
            "type": "mesh3d",
            "colorbar": {
             "outlinewidth": 0,
             "ticks": ""
            }
           }
          ],
          "scatter": [
           {
            "marker": {
             "line": {
              "color": "#283442"
             }
            },
            "type": "scatter"
           }
          ],
          "parcoords": [
           {
            "type": "parcoords",
            "line": {
             "colorbar": {
              "outlinewidth": 0,
              "ticks": ""
             }
            }
           }
          ],
          "scatterpolargl": [
           {
            "type": "scatterpolargl",
            "marker": {
             "colorbar": {
              "outlinewidth": 0,
              "ticks": ""
             }
            }
           }
          ],
          "bar": [
           {
            "error_x": {
             "color": "#f2f5fa"
            },
            "error_y": {
             "color": "#f2f5fa"
            },
            "marker": {
             "line": {
              "color": "rgb(17,17,17)",
              "width": 0.5
             },
             "pattern": {
              "fillmode": "overlay",
              "size": 10,
              "solidity": 0.2
             }
            },
            "type": "bar"
           }
          ],
          "scattergeo": [
           {
            "type": "scattergeo",
            "marker": {
             "colorbar": {
              "outlinewidth": 0,
              "ticks": ""
             }
            }
           }
          ],
          "scatterpolar": [
           {
            "type": "scatterpolar",
            "marker": {
             "colorbar": {
              "outlinewidth": 0,
              "ticks": ""
             }
            }
           }
          ],
          "histogram": [
           {
            "marker": {
             "pattern": {
              "fillmode": "overlay",
              "size": 10,
              "solidity": 0.2
             }
            },
            "type": "histogram"
           }
          ],
          "scattergl": [
           {
            "marker": {
             "line": {
              "color": "#283442"
             }
            },
            "type": "scattergl"
           }
          ],
          "scatter3d": [
           {
            "type": "scatter3d",
            "line": {
             "colorbar": {
              "outlinewidth": 0,
              "ticks": ""
             }
            },
            "marker": {
             "colorbar": {
              "outlinewidth": 0,
              "ticks": ""
             }
            }
           }
          ],
          "scattermap": [
           {
            "type": "scattermap",
            "marker": {
             "colorbar": {
              "outlinewidth": 0,
              "ticks": ""
             }
            }
           }
          ],
          "scattermapbox": [
           {
            "type": "scattermapbox",
            "marker": {
             "colorbar": {
              "outlinewidth": 0,
              "ticks": ""
             }
            }
           }
          ],
          "scatterternary": [
           {
            "type": "scatterternary",
            "marker": {
             "colorbar": {
              "outlinewidth": 0,
              "ticks": ""
             }
            }
           }
          ],
          "scattercarpet": [
           {
            "type": "scattercarpet",
            "marker": {
             "colorbar": {
              "outlinewidth": 0,
              "ticks": ""
             }
            }
           }
          ],
          "carpet": [
           {
            "aaxis": {
             "endlinecolor": "#A2B1C6",
             "gridcolor": "#506784",
             "linecolor": "#506784",
             "minorgridcolor": "#506784",
             "startlinecolor": "#A2B1C6"
            },
            "baxis": {
             "endlinecolor": "#A2B1C6",
             "gridcolor": "#506784",
             "linecolor": "#506784",
             "minorgridcolor": "#506784",
             "startlinecolor": "#A2B1C6"
            },
            "type": "carpet"
           }
          ],
          "table": [
           {
            "cells": {
             "fill": {
              "color": "#506784"
             },
             "line": {
              "color": "rgb(17,17,17)"
             }
            },
            "header": {
             "fill": {
              "color": "#2a3f5f"
             },
             "line": {
              "color": "rgb(17,17,17)"
             }
            },
            "type": "table"
           }
          ],
          "barpolar": [
           {
            "marker": {
             "line": {
              "color": "rgb(17,17,17)",
              "width": 0.5
             },
             "pattern": {
              "fillmode": "overlay",
              "size": 10,
              "solidity": 0.2
             }
            },
            "type": "barpolar"
           }
          ],
          "pie": [
           {
            "automargin": true,
            "type": "pie"
           }
          ]
         },
         "layout": {
          "autotypenumbers": "strict",
          "colorway": [
           "#636efa",
           "#EF553B",
           "#00cc96",
           "#ab63fa",
           "#FFA15A",
           "#19d3f3",
           "#FF6692",
           "#B6E880",
           "#FF97FF",
           "#FECB52"
          ],
          "font": {
           "color": "#f2f5fa"
          },
          "hovermode": "closest",
          "hoverlabel": {
           "align": "left"
          },
          "paper_bgcolor": "rgb(17,17,17)",
          "plot_bgcolor": "rgb(17,17,17)",
          "polar": {
           "bgcolor": "rgb(17,17,17)",
           "angularaxis": {
            "gridcolor": "#506784",
            "linecolor": "#506784",
            "ticks": ""
           },
           "radialaxis": {
            "gridcolor": "#506784",
            "linecolor": "#506784",
            "ticks": ""
           }
          },
          "ternary": {
           "bgcolor": "rgb(17,17,17)",
           "aaxis": {
            "gridcolor": "#506784",
            "linecolor": "#506784",
            "ticks": ""
           },
           "baxis": {
            "gridcolor": "#506784",
            "linecolor": "#506784",
            "ticks": ""
           },
           "caxis": {
            "gridcolor": "#506784",
            "linecolor": "#506784",
            "ticks": ""
           }
          },
          "coloraxis": {
           "colorbar": {
            "outlinewidth": 0,
            "ticks": ""
           }
          },
          "colorscale": {
           "sequential": [
            [
             0.0,
             "#0d0887"
            ],
            [
             0.1111111111111111,
             "#46039f"
            ],
            [
             0.2222222222222222,
             "#7201a8"
            ],
            [
             0.3333333333333333,
             "#9c179e"
            ],
            [
             0.4444444444444444,
             "#bd3786"
            ],
            [
             0.5555555555555556,
             "#d8576b"
            ],
            [
             0.6666666666666666,
             "#ed7953"
            ],
            [
             0.7777777777777778,
             "#fb9f3a"
            ],
            [
             0.8888888888888888,
             "#fdca26"
            ],
            [
             1.0,
             "#f0f921"
            ]
           ],
           "sequentialminus": [
            [
             0.0,
             "#0d0887"
            ],
            [
             0.1111111111111111,
             "#46039f"
            ],
            [
             0.2222222222222222,
             "#7201a8"
            ],
            [
             0.3333333333333333,
             "#9c179e"
            ],
            [
             0.4444444444444444,
             "#bd3786"
            ],
            [
             0.5555555555555556,
             "#d8576b"
            ],
            [
             0.6666666666666666,
             "#ed7953"
            ],
            [
             0.7777777777777778,
             "#fb9f3a"
            ],
            [
             0.8888888888888888,
             "#fdca26"
            ],
            [
             1.0,
             "#f0f921"
            ]
           ],
           "diverging": [
            [
             0,
             "#8e0152"
            ],
            [
             0.1,
             "#c51b7d"
            ],
            [
             0.2,
             "#de77ae"
            ],
            [
             0.3,
             "#f1b6da"
            ],
            [
             0.4,
             "#fde0ef"
            ],
            [
             0.5,
             "#f7f7f7"
            ],
            [
             0.6,
             "#e6f5d0"
            ],
            [
             0.7,
             "#b8e186"
            ],
            [
             0.8,
             "#7fbc41"
            ],
            [
             0.9,
             "#4d9221"
            ],
            [
             1,
             "#276419"
            ]
           ]
          },
          "xaxis": {
           "gridcolor": "#283442",
           "linecolor": "#506784",
           "ticks": "",
           "title": {
            "standoff": 15
           },
           "zerolinecolor": "#283442",
           "automargin": true,
           "zerolinewidth": 2
          },
          "yaxis": {
           "gridcolor": "#283442",
           "linecolor": "#506784",
           "ticks": "",
           "title": {
            "standoff": 15
           },
           "zerolinecolor": "#283442",
           "automargin": true,
           "zerolinewidth": 2
          },
          "scene": {
           "xaxis": {
            "backgroundcolor": "rgb(17,17,17)",
            "gridcolor": "#506784",
            "linecolor": "#506784",
            "showbackground": true,
            "ticks": "",
            "zerolinecolor": "#C8D4E3",
            "gridwidth": 2
           },
           "yaxis": {
            "backgroundcolor": "rgb(17,17,17)",
            "gridcolor": "#506784",
            "linecolor": "#506784",
            "showbackground": true,
            "ticks": "",
            "zerolinecolor": "#C8D4E3",
            "gridwidth": 2
           },
           "zaxis": {
            "backgroundcolor": "rgb(17,17,17)",
            "gridcolor": "#506784",
            "linecolor": "#506784",
            "showbackground": true,
            "ticks": "",
            "zerolinecolor": "#C8D4E3",
            "gridwidth": 2
           }
          },
          "shapedefaults": {
           "line": {
            "color": "#f2f5fa"
           }
          },
          "annotationdefaults": {
           "arrowcolor": "#f2f5fa",
           "arrowhead": 0,
           "arrowwidth": 1
          },
          "geo": {
           "bgcolor": "rgb(17,17,17)",
           "landcolor": "rgb(17,17,17)",
           "subunitcolor": "#506784",
           "showland": true,
           "showlakes": true,
           "lakecolor": "rgb(17,17,17)"
          },
          "title": {
           "x": 0.05
          },
          "updatemenudefaults": {
           "bgcolor": "#506784",
           "borderwidth": 0
          },
          "sliderdefaults": {
           "bgcolor": "#C8D4E3",
           "borderwidth": 1,
           "bordercolor": "rgb(17,17,17)",
           "tickwidth": 0
          },
          "mapbox": {
           "style": "dark"
          }
         }
        },
        "xaxis": {
         "anchor": "y",
         "domain": [
          0.0,
          1.0
         ],
         "title": {
          "text": "Model"
         },
         "categoryorder": "array",
         "categoryarray": [
          "5 Series",
          "M3",
          "7 Series",
          "X1",
          "3 Series",
          "X3",
          "i3",
          "M5",
          "i8",
          "X5",
          "X6"
         ],
         "tickangle": -45
        },
        "yaxis": {
         "anchor": "x",
         "domain": [
          0.0,
          1.0
         ],
         "title": {
          "text": "Count"
         }
        },
        "legend": {
         "title": {
          "text": "Model"
         },
         "tracegroupgap": 0
        },
        "title": {
         "text": "Number of Cars per BMW Model"
        },
        "barmode": "relative"
       },
       "config": {
        "plotlyServerURL": "https://plot.ly"
       }
      }
     },
     "metadata": {},
     "output_type": "display_data"
    }
   ],
   "execution_count": 11
  },
  {
   "metadata": {
    "ExecuteTime": {
     "end_time": "2025-07-16T14:29:05.582404Z",
     "start_time": "2025-07-16T14:29:05.560520Z"
    }
   },
   "cell_type": "code",
   "source": [
    "top_models = df['Model'].value_counts().nlargest(5).index\n",
    "df_top_models = df[df['Model'].isin(top_models)]\n",
    "\n",
    "fig = px.histogram(\n",
    "    df_top_models,\n",
    "    x=\"Price_USD\",\n",
    "    color=\"Model\",\n",
    "    nbins=200,\n",
    "    title=\"Price Distribution in USD (Top 5 BMW Models)\",\n",
    "    opacity=0.7\n",
    ")\n",
    "fig.show()"
   ],
   "id": "1eee17931a51e259",
   "outputs": [
    {
     "data": {
      "application/vnd.plotly.v1+json": {
       "data": [
        {
         "bingroup": "x",
         "hovertemplate": "Model=7 Series<br>Price_USD=%{x}<br>count=%{y}<extra></extra>",
         "legendgroup": "7 Series",
         "marker": {
          "color": "#636efa",
          "opacity": 0.7,
          "pattern": {
           "shape": ""
          }
         },
         "name": "7 Series",
         "nbinsx": 200,
         "orientation": "v",
         "showlegend": true,
         "x": {
          "dtype": "i4",
          "bdata": "BLsBAB5SAQDoQgEAtPQAAD3MAQAfRwEAXCQBAFuMAQApbwEAbmUBAGDZAACrcwEApEEBAMinAAAM6AAAISwBAEPfAABeDAEAq6gBADAUAQDvfAEArpQAAI17AQAoLAEAhIYAAMAdAQCfHwEA40oBAPPIAAA0CQEAwE4BAH7+AADUjgAA7IQAAIWxAABFLQEAJGgBAFGLAAARwgEAV4cAAF6xAAAaNQEA5FgBAJJKAQD0rwEAPg4BANzBAAAqdAEAnMEAAPCLAQCU/gAAOS0BAH2pAABdJgEAa2QBAESsAQC14QAAZj0BAERZAQA0jQEAwgMBACa+AADCfgEAvaoAAIVjAQBGmgAAuJYBABewAQCfKAEALVQBAEuaAABFXgEANlUBAAB0AQA50QAAVk4BAHpZAQBRgAAAeBkBADS/AQBruwAAWAkBAFlEAQAwogEAUocAAHKUAQBhzAEA5I8BAPcLAQAnyAAAHrIAAE7SAQBf7AAA5fEAAEl1AABR/AAAAB8BADeAAQB8XgEA7rwAAIXNAQBLugAAi8UBAE8OAQCPIwEAWNIBAOuxAQApGQEAs38AANooAQCDswAAEIUBADhZAQDxJgEAc9EAAKdwAQAI7AAAxeYAAB2AAQB0lQEA64oAAAePAADg7AAAlQcBANt/AQC8gQEALMAAAFFKAQAIgQAAJlcBAERIAQB4WgEAo7sAAEe9AAAtZAEAwaMAAPfRAAAX9AAA37EAANZDAQBq/AAAkHkAAGV2AACjHwEA2GUBALWaAQCf+wAAXlcBAH3FAADURgEAemsBABhdAQASsAAAKQIBANNBAQCDoQAARv4AAPJdAQBJlwEA5x0BABGWAQA4RwEAmJgBANqsAQAe2AAAh0YBAAiZAQBj4gAAPEkBAIpIAQBpjQEA+dMBADPNAQBMmAEAHKwAAJMTAQC8rQAAp6oBAOaoAABbSwEAAhMBAIhMAQCDTQEA3uYAAPUKAQBNtwAA2iIBAOquAACurgAA+NQAAKk9AQCsOAEA/3YAAHyeAQAg3wAAnz0BAIg0AQCSXgEAgWUBAA14AABakQEAIokBAFiwAACfpgEAVfQAAHK9AQCVggAA4FMBAAhzAQBNCgEAZBQBAL1GAQALYwEAqoYAAIK6AAAyWwEAkBEBAFkfAQA2hwEAIngBALXTAABhiwEAwvIAAHTuAAAjUQEAX1UBAGXYAAA8VQEAOBkBAJrkAADgygEA9bIAAPcUAQBOyAAAXXYAAO9dAQALTQEARiABABiOAQC3xQAArPAAAOIYAQCUXwEA8/wAAJLyAACLsAAAphUBAF7UAAC6wQAAjswAAKPtAADXngEAjwQBAGvPAQCF8QAAnF8BAOKMAQCqvQEARLcBAPXPAQBTDwEAoq8AAGi/AACvSAEAwDMBAIbXAAAnFgEA0KABAJrTAQDi8gAAXNwAAGWvAQBHrgEAr44AAOCVAADTUgEAALUAAAhIAQAwCQEAATIBAHDGAQDfJQEAeFkBAP2nAQDh/AAANV0BAB30AABjkgAA15cBAJTEAAD1pgAAtnUAAHSnAACZnAEAdAMBAISlAQDjdQEA2IIAAF0OAQCGjwAApx0BAB3YAACMzgAA+yQBACf6AABbjAEAf6cAADG8AQDkzQEAQjMBAESGAABbuQEANWMBAIJpAQDm2QAAshgBAE5fAQAXHgEAqOQAAADGAABr/wAAEjkBAAcdAQB5yAEAHFQBAI+RAQDGtgAAPqkBADnzAADAVgEAvQABADY1AQDN2QAAVpYAAO3gAAC4gAEAg0cBAFl+AQCRvgAAYp4AACMCAQCpjwEATkABANFGAQBS9QAAs7QBAJjNAACxkwEAQswBACQ2AQDNZQEAmfAAAMBYAQBJvwEApLIAAHcHAQDHsgAAM3cBAOBmAQDVTAEAPTEBAKaeAAD2iwEAFakAAAHMAACuTQEAafEAACKkAQBEQwEAonoAAJYlAQCkogEAPsoAAGcqAQCmvQAAGnUBAMiVAABiLwEAAnwAAHd4AABWGwEAhMEBAH/TAQCtMgEALfcAADFMAQDOogEAYqwBALixAACCpwEAIYoBAAU1AQBAggEAZz0BAA0qAQAfQgEAuBoBALA2AQCNzgEARPEAABOzAQAFpgEAx7gAAIPXAAB2XgEAvHMBAAWZAQA6KQEAjVMBAN+qAABlNwEAOMgAAFONAQA3WAEA6UgBAG+qAQCVhQAAQJwBAByiAQC53gAA6O0AAKk/AQDtOQEANmgBAN+tAQAP4gAAyqQAAJRuAQCqPQEAWh0BADKOAABMdAEAZFsBABmAAACdfwAAgJkBAD6zAQCo1gAArSEBAKO7AAB6wgEAgNYAAMY5AQALxwEAZM4AALfOAQBWgwAADc4AAAjRAAAf2wAASLgAAEWgAAC8cgEAbrQAALCjAQDUNQEAYKsBAD5BAQAIowAAN0YBAJUSAQBALQEANEMBAPZuAQC7yQAASrcBAA=="
         },
         "xaxis": "x",
         "yaxis": "y",
         "type": "histogram"
        },
        {
         "bingroup": "x",
         "hovertemplate": "Model=M3<br>Price_USD=%{x}<br>count=%{y}<extra></extra>",
         "legendgroup": "M3",
         "marker": {
          "color": "#EF553B",
          "opacity": 0.7,
          "pattern": {
           "shape": ""
          }
         },
         "name": "M3",
         "nbinsx": 200,
         "orientation": "v",
         "showlegend": true,
         "x": {
          "dtype": "i4",
          "bdata": "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"
         },
         "xaxis": "x",
         "yaxis": "y",
         "type": "histogram"
        },
        {
         "bingroup": "x",
         "hovertemplate": "Model=X1<br>Price_USD=%{x}<br>count=%{y}<extra></extra>",
         "legendgroup": "X1",
         "marker": {
          "color": "#00cc96",
          "opacity": 0.7,
          "pattern": {
           "shape": ""
          }
         },
         "name": "X1",
         "nbinsx": 200,
         "orientation": "v",
         "showlegend": true,
         "x": {
          "dtype": "i4",
          "bdata": "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"
         },
         "xaxis": "x",
         "yaxis": "y",
         "type": "histogram"
        },
        {
         "bingroup": "x",
         "hovertemplate": "Model=3 Series<br>Price_USD=%{x}<br>count=%{y}<extra></extra>",
         "legendgroup": "3 Series",
         "marker": {
          "color": "#ab63fa",
          "opacity": 0.7,
          "pattern": {
           "shape": ""
          }
         },
         "name": "3 Series",
         "nbinsx": 200,
         "orientation": "v",
         "showlegend": true,
         "x": {
          "dtype": "i4",
          "bdata": "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"
         },
         "xaxis": "x",
         "yaxis": "y",
         "type": "histogram"
        },
        {
         "bingroup": "x",
         "hovertemplate": "Model=5 Series<br>Price_USD=%{x}<br>count=%{y}<extra></extra>",
         "legendgroup": "5 Series",
         "marker": {
          "color": "#FFA15A",
          "opacity": 0.7,
          "pattern": {
           "shape": ""
          }
         },
         "name": "5 Series",
         "nbinsx": 200,
         "orientation": "v",
         "showlegend": true,
         "x": {
          "dtype": "i4",
          "bdata": "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"
         },
         "xaxis": "x",
         "yaxis": "y",
         "type": "histogram"
        }
       ],
       "layout": {
        "template": {
         "data": {
          "histogram2dcontour": [
           {
            "type": "histogram2dcontour",
            "colorbar": {
             "outlinewidth": 0,
             "ticks": ""
            },
            "colorscale": [
             [
              0.0,
              "#0d0887"
             ],
             [
              0.1111111111111111,
              "#46039f"
             ],
             [
              0.2222222222222222,
              "#7201a8"
             ],
             [
              0.3333333333333333,
              "#9c179e"
             ],
             [
              0.4444444444444444,
              "#bd3786"
             ],
             [
              0.5555555555555556,
              "#d8576b"
             ],
             [
              0.6666666666666666,
              "#ed7953"
             ],
             [
              0.7777777777777778,
              "#fb9f3a"
             ],
             [
              0.8888888888888888,
              "#fdca26"
             ],
             [
              1.0,
              "#f0f921"
             ]
            ]
           }
          ],
          "choropleth": [
           {
            "type": "choropleth",
            "colorbar": {
             "outlinewidth": 0,
             "ticks": ""
            }
           }
          ],
          "histogram2d": [
           {
            "type": "histogram2d",
            "colorbar": {
             "outlinewidth": 0,
             "ticks": ""
            },
            "colorscale": [
             [
              0.0,
              "#0d0887"
             ],
             [
              0.1111111111111111,
              "#46039f"
             ],
             [
              0.2222222222222222,
              "#7201a8"
             ],
             [
              0.3333333333333333,
              "#9c179e"
             ],
             [
              0.4444444444444444,
              "#bd3786"
             ],
             [
              0.5555555555555556,
              "#d8576b"
             ],
             [
              0.6666666666666666,
              "#ed7953"
             ],
             [
              0.7777777777777778,
              "#fb9f3a"
             ],
             [
              0.8888888888888888,
              "#fdca26"
             ],
             [
              1.0,
              "#f0f921"
             ]
            ]
           }
          ],
          "heatmap": [
           {
            "type": "heatmap",
            "colorbar": {
             "outlinewidth": 0,
             "ticks": ""
            },
            "colorscale": [
             [
              0.0,
              "#0d0887"
             ],
             [
              0.1111111111111111,
              "#46039f"
             ],
             [
              0.2222222222222222,
              "#7201a8"
             ],
             [
              0.3333333333333333,
              "#9c179e"
             ],
             [
              0.4444444444444444,
              "#bd3786"
             ],
             [
              0.5555555555555556,
              "#d8576b"
             ],
             [
              0.6666666666666666,
              "#ed7953"
             ],
             [
              0.7777777777777778,
              "#fb9f3a"
             ],
             [
              0.8888888888888888,
              "#fdca26"
             ],
             [
              1.0,
              "#f0f921"
             ]
            ]
           }
          ],
          "contourcarpet": [
           {
            "type": "contourcarpet",
            "colorbar": {
             "outlinewidth": 0,
             "ticks": ""
            }
           }
          ],
          "contour": [
           {
            "type": "contour",
            "colorbar": {
             "outlinewidth": 0,
             "ticks": ""
            },
            "colorscale": [
             [
              0.0,
              "#0d0887"
             ],
             [
              0.1111111111111111,
              "#46039f"
             ],
             [
              0.2222222222222222,
              "#7201a8"
             ],
             [
              0.3333333333333333,
              "#9c179e"
             ],
             [
              0.4444444444444444,
              "#bd3786"
             ],
             [
              0.5555555555555556,
              "#d8576b"
             ],
             [
              0.6666666666666666,
              "#ed7953"
             ],
             [
              0.7777777777777778,
              "#fb9f3a"
             ],
             [
              0.8888888888888888,
              "#fdca26"
             ],
             [
              1.0,
              "#f0f921"
             ]
            ]
           }
          ],
          "surface": [
           {
            "type": "surface",
            "colorbar": {
             "outlinewidth": 0,
             "ticks": ""
            },
            "colorscale": [
             [
              0.0,
              "#0d0887"
             ],
             [
              0.1111111111111111,
              "#46039f"
             ],
             [
              0.2222222222222222,
              "#7201a8"
             ],
             [
              0.3333333333333333,
              "#9c179e"
             ],
             [
              0.4444444444444444,
              "#bd3786"
             ],
             [
              0.5555555555555556,
              "#d8576b"
             ],
             [
              0.6666666666666666,
              "#ed7953"
             ],
             [
              0.7777777777777778,
              "#fb9f3a"
             ],
             [
              0.8888888888888888,
              "#fdca26"
             ],
             [
              1.0,
              "#f0f921"
             ]
            ]
           }
          ],
          "mesh3d": [
           {
            "type": "mesh3d",
            "colorbar": {
             "outlinewidth": 0,
             "ticks": ""
            }
           }
          ],
          "scatter": [
           {
            "marker": {
             "line": {
              "color": "#283442"
             }
            },
            "type": "scatter"
           }
          ],
          "parcoords": [
           {
            "type": "parcoords",
            "line": {
             "colorbar": {
              "outlinewidth": 0,
              "ticks": ""
             }
            }
           }
          ],
          "scatterpolargl": [
           {
            "type": "scatterpolargl",
            "marker": {
             "colorbar": {
              "outlinewidth": 0,
              "ticks": ""
             }
            }
           }
          ],
          "bar": [
           {
            "error_x": {
             "color": "#f2f5fa"
            },
            "error_y": {
             "color": "#f2f5fa"
            },
            "marker": {
             "line": {
              "color": "rgb(17,17,17)",
              "width": 0.5
             },
             "pattern": {
              "fillmode": "overlay",
              "size": 10,
              "solidity": 0.2
             }
            },
            "type": "bar"
           }
          ],
          "scattergeo": [
           {
            "type": "scattergeo",
            "marker": {
             "colorbar": {
              "outlinewidth": 0,
              "ticks": ""
             }
            }
           }
          ],
          "scatterpolar": [
           {
            "type": "scatterpolar",
            "marker": {
             "colorbar": {
              "outlinewidth": 0,
              "ticks": ""
             }
            }
           }
          ],
          "histogram": [
           {
            "marker": {
             "pattern": {
              "fillmode": "overlay",
              "size": 10,
              "solidity": 0.2
             }
            },
            "type": "histogram"
           }
          ],
          "scattergl": [
           {
            "marker": {
             "line": {
              "color": "#283442"
             }
            },
            "type": "scattergl"
           }
          ],
          "scatter3d": [
           {
            "type": "scatter3d",
            "line": {
             "colorbar": {
              "outlinewidth": 0,
              "ticks": ""
             }
            },
            "marker": {
             "colorbar": {
              "outlinewidth": 0,
              "ticks": ""
             }
            }
           }
          ],
          "scattermap": [
           {
            "type": "scattermap",
            "marker": {
             "colorbar": {
              "outlinewidth": 0,
              "ticks": ""
             }
            }
           }
          ],
          "scattermapbox": [
           {
            "type": "scattermapbox",
            "marker": {
             "colorbar": {
              "outlinewidth": 0,
              "ticks": ""
             }
            }
           }
          ],
          "scatterternary": [
           {
            "type": "scatterternary",
            "marker": {
             "colorbar": {
              "outlinewidth": 0,
              "ticks": ""
             }
            }
           }
          ],
          "scattercarpet": [
           {
            "type": "scattercarpet",
            "marker": {
             "colorbar": {
              "outlinewidth": 0,
              "ticks": ""
             }
            }
           }
          ],
          "carpet": [
           {
            "aaxis": {
             "endlinecolor": "#A2B1C6",
             "gridcolor": "#506784",
             "linecolor": "#506784",
             "minorgridcolor": "#506784",
             "startlinecolor": "#A2B1C6"
            },
            "baxis": {
             "endlinecolor": "#A2B1C6",
             "gridcolor": "#506784",
             "linecolor": "#506784",
             "minorgridcolor": "#506784",
             "startlinecolor": "#A2B1C6"
            },
            "type": "carpet"
           }
          ],
          "table": [
           {
            "cells": {
             "fill": {
              "color": "#506784"
             },
             "line": {
              "color": "rgb(17,17,17)"
             }
            },
            "header": {
             "fill": {
              "color": "#2a3f5f"
             },
             "line": {
              "color": "rgb(17,17,17)"
             }
            },
            "type": "table"
           }
          ],
          "barpolar": [
           {
            "marker": {
             "line": {
              "color": "rgb(17,17,17)",
              "width": 0.5
             },
             "pattern": {
              "fillmode": "overlay",
              "size": 10,
              "solidity": 0.2
             }
            },
            "type": "barpolar"
           }
          ],
          "pie": [
           {
            "automargin": true,
            "type": "pie"
           }
          ]
         },
         "layout": {
          "autotypenumbers": "strict",
          "colorway": [
           "#636efa",
           "#EF553B",
           "#00cc96",
           "#ab63fa",
           "#FFA15A",
           "#19d3f3",
           "#FF6692",
           "#B6E880",
           "#FF97FF",
           "#FECB52"
          ],
          "font": {
           "color": "#f2f5fa"
          },
          "hovermode": "closest",
          "hoverlabel": {
           "align": "left"
          },
          "paper_bgcolor": "rgb(17,17,17)",
          "plot_bgcolor": "rgb(17,17,17)",
          "polar": {
           "bgcolor": "rgb(17,17,17)",
           "angularaxis": {
            "gridcolor": "#506784",
            "linecolor": "#506784",
            "ticks": ""
           },
           "radialaxis": {
            "gridcolor": "#506784",
            "linecolor": "#506784",
            "ticks": ""
           }
          },
          "ternary": {
           "bgcolor": "rgb(17,17,17)",
           "aaxis": {
            "gridcolor": "#506784",
            "linecolor": "#506784",
            "ticks": ""
           },
           "baxis": {
            "gridcolor": "#506784",
            "linecolor": "#506784",
            "ticks": ""
           },
           "caxis": {
            "gridcolor": "#506784",
            "linecolor": "#506784",
            "ticks": ""
           }
          },
          "coloraxis": {
           "colorbar": {
            "outlinewidth": 0,
            "ticks": ""
           }
          },
          "colorscale": {
           "sequential": [
            [
             0.0,
             "#0d0887"
            ],
            [
             0.1111111111111111,
             "#46039f"
            ],
            [
             0.2222222222222222,
             "#7201a8"
            ],
            [
             0.3333333333333333,
             "#9c179e"
            ],
            [
             0.4444444444444444,
             "#bd3786"
            ],
            [
             0.5555555555555556,
             "#d8576b"
            ],
            [
             0.6666666666666666,
             "#ed7953"
            ],
            [
             0.7777777777777778,
             "#fb9f3a"
            ],
            [
             0.8888888888888888,
             "#fdca26"
            ],
            [
             1.0,
             "#f0f921"
            ]
           ],
           "sequentialminus": [
            [
             0.0,
             "#0d0887"
            ],
            [
             0.1111111111111111,
             "#46039f"
            ],
            [
             0.2222222222222222,
             "#7201a8"
            ],
            [
             0.3333333333333333,
             "#9c179e"
            ],
            [
             0.4444444444444444,
             "#bd3786"
            ],
            [
             0.5555555555555556,
             "#d8576b"
            ],
            [
             0.6666666666666666,
             "#ed7953"
            ],
            [
             0.7777777777777778,
             "#fb9f3a"
            ],
            [
             0.8888888888888888,
             "#fdca26"
            ],
            [
             1.0,
             "#f0f921"
            ]
           ],
           "diverging": [
            [
             0,
             "#8e0152"
            ],
            [
             0.1,
             "#c51b7d"
            ],
            [
             0.2,
             "#de77ae"
            ],
            [
             0.3,
             "#f1b6da"
            ],
            [
             0.4,
             "#fde0ef"
            ],
            [
             0.5,
             "#f7f7f7"
            ],
            [
             0.6,
             "#e6f5d0"
            ],
            [
             0.7,
             "#b8e186"
            ],
            [
             0.8,
             "#7fbc41"
            ],
            [
             0.9,
             "#4d9221"
            ],
            [
             1,
             "#276419"
            ]
           ]
          },
          "xaxis": {
           "gridcolor": "#283442",
           "linecolor": "#506784",
           "ticks": "",
           "title": {
            "standoff": 15
           },
           "zerolinecolor": "#283442",
           "automargin": true,
           "zerolinewidth": 2
          },
          "yaxis": {
           "gridcolor": "#283442",
           "linecolor": "#506784",
           "ticks": "",
           "title": {
            "standoff": 15
           },
           "zerolinecolor": "#283442",
           "automargin": true,
           "zerolinewidth": 2
          },
          "scene": {
           "xaxis": {
            "backgroundcolor": "rgb(17,17,17)",
            "gridcolor": "#506784",
            "linecolor": "#506784",
            "showbackground": true,
            "ticks": "",
            "zerolinecolor": "#C8D4E3",
            "gridwidth": 2
           },
           "yaxis": {
            "backgroundcolor": "rgb(17,17,17)",
            "gridcolor": "#506784",
            "linecolor": "#506784",
            "showbackground": true,
            "ticks": "",
            "zerolinecolor": "#C8D4E3",
            "gridwidth": 2
           },
           "zaxis": {
            "backgroundcolor": "rgb(17,17,17)",
            "gridcolor": "#506784",
            "linecolor": "#506784",
            "showbackground": true,
            "ticks": "",
            "zerolinecolor": "#C8D4E3",
            "gridwidth": 2
           }
          },
          "shapedefaults": {
           "line": {
            "color": "#f2f5fa"
           }
          },
          "annotationdefaults": {
           "arrowcolor": "#f2f5fa",
           "arrowhead": 0,
           "arrowwidth": 1
          },
          "geo": {
           "bgcolor": "rgb(17,17,17)",
           "landcolor": "rgb(17,17,17)",
           "subunitcolor": "#506784",
           "showland": true,
           "showlakes": true,
           "lakecolor": "rgb(17,17,17)"
          },
          "title": {
           "x": 0.05
          },
          "updatemenudefaults": {
           "bgcolor": "#506784",
           "borderwidth": 0
          },
          "sliderdefaults": {
           "bgcolor": "#C8D4E3",
           "borderwidth": 1,
           "bordercolor": "rgb(17,17,17)",
           "tickwidth": 0
          },
          "mapbox": {
           "style": "dark"
          }
         }
        },
        "xaxis": {
         "anchor": "y",
         "domain": [
          0.0,
          1.0
         ],
         "title": {
          "text": "Price_USD"
         }
        },
        "yaxis": {
         "anchor": "x",
         "domain": [
          0.0,
          1.0
         ],
         "title": {
          "text": "count"
         }
        },
        "legend": {
         "title": {
          "text": "Model"
         },
         "tracegroupgap": 0
        },
        "title": {
         "text": "Price Distribution in USD (Top 5 BMW Models)"
        },
        "barmode": "relative"
       },
       "config": {
        "plotlyServerURL": "https://plot.ly"
       }
      }
     },
     "metadata": {},
     "output_type": "display_data"
    }
   ],
   "execution_count": 12
  },
  {
   "metadata": {
    "ExecuteTime": {
     "end_time": "2025-07-16T14:29:05.615150Z",
     "start_time": "2025-07-16T14:29:05.593624Z"
    }
   },
   "cell_type": "code",
   "source": [
    "df_model_sales = df.groupby(\"Model\")[\"Sales_Volume\"].sum().reset_index()\n",
    "df_model_sales = df_model_sales.sort_values(by=\"Sales_Volume\", ascending=False).head(10)\n",
    "fig = px.bar(\n",
    "    df_model_sales,\n",
    "    x=\"Model\",\n",
    "    y=\"Sales_Volume\",\n",
    "    title=\"Top 10 Best-Selling BMW Models\",\n",
    "    text=\"Sales_Volume\",\n",
    "    color=\"Model\"\n",
    ")\n",
    "fig.show()"
   ],
   "id": "6afc3f872ab95a53",
   "outputs": [
    {
     "data": {
      "application/vnd.plotly.v1+json": {
       "data": [
        {
         "hovertemplate": "Model=%{x}<br>Sales_Volume=%{text}<extra></extra>",
         "legendgroup": "5 Series",
         "marker": {
          "color": "#636efa",
          "pattern": {
           "shape": ""
          }
         },
         "name": "5 Series",
         "orientation": "v",
         "showlegend": true,
         "text": {
          "dtype": "f8",
          "bdata": "AAAAgF73QkE="
         },
         "textposition": "auto",
         "x": [
          "5 Series"
         ],
         "xaxis": "x",
         "y": {
          "dtype": "i4",
          "bdata": "ve4lAA=="
         },
         "yaxis": "y",
         "type": "bar"
        },
        {
         "hovertemplate": "Model=%{x}<br>Sales_Volume=%{text}<extra></extra>",
         "legendgroup": "7 Series",
         "marker": {
          "color": "#EF553B",
          "pattern": {
           "shape": ""
          }
         },
         "name": "7 Series",
         "orientation": "v",
         "showlegend": true,
         "text": {
          "dtype": "f8",
          "bdata": "AAAAAMPrQkE="
         },
         "textposition": "auto",
         "x": [
          "7 Series"
         ],
         "xaxis": "x",
         "y": {
          "dtype": "i4",
          "bdata": "htclAA=="
         },
         "yaxis": "y",
         "type": "bar"
        },
        {
         "hovertemplate": "Model=%{x}<br>Sales_Volume=%{text}<extra></extra>",
         "legendgroup": "M3",
         "marker": {
          "color": "#00cc96",
          "pattern": {
           "shape": ""
          }
         },
         "name": "M3",
         "orientation": "v",
         "showlegend": true,
         "text": {
          "dtype": "f8",
          "bdata": "AAAAAEacQkE="
         },
         "textposition": "auto",
         "x": [
          "M3"
         ],
         "xaxis": "x",
         "y": {
          "dtype": "i4",
          "bdata": "jDglAA=="
         },
         "yaxis": "y",
         "type": "bar"
        },
        {
         "hovertemplate": "Model=%{x}<br>Sales_Volume=%{text}<extra></extra>",
         "legendgroup": "X1",
         "marker": {
          "color": "#ab63fa",
          "pattern": {
           "shape": ""
          }
         },
         "name": "X1",
         "orientation": "v",
         "showlegend": true,
         "text": {
          "dtype": "f8",
          "bdata": "AAAAgCQ0QkE="
         },
         "textposition": "auto",
         "x": [
          "X1"
         ],
         "xaxis": "x",
         "y": {
          "dtype": "i4",
          "bdata": "SWgkAA=="
         },
         "yaxis": "y",
         "type": "bar"
        },
        {
         "hovertemplate": "Model=%{x}<br>Sales_Volume=%{text}<extra></extra>",
         "legendgroup": "X3",
         "marker": {
          "color": "#FFA15A",
          "pattern": {
           "shape": ""
          }
         },
         "name": "X3",
         "orientation": "v",
         "showlegend": true,
         "text": {
          "dtype": "f8",
          "bdata": "AAAAgAoWQkE="
         },
         "textposition": "auto",
         "x": [
          "X3"
         ],
         "xaxis": "x",
         "y": {
          "dtype": "i4",
          "bdata": "FSwkAA=="
         },
         "yaxis": "y",
         "type": "bar"
        },
        {
         "hovertemplate": "Model=%{x}<br>Sales_Volume=%{text}<extra></extra>",
         "legendgroup": "3 Series",
         "marker": {
          "color": "#19d3f3",
          "pattern": {
           "shape": ""
          }
         },
         "name": "3 Series",
         "orientation": "v",
         "showlegend": true,
         "text": {
          "dtype": "f8",
          "bdata": "AAAAgDXzQUE="
         },
         "textposition": "auto",
         "x": [
          "3 Series"
         ],
         "xaxis": "x",
         "y": {
          "dtype": "i4",
          "bdata": "a+YjAA=="
         },
         "yaxis": "y",
         "type": "bar"
        },
        {
         "hovertemplate": "Model=%{x}<br>Sales_Volume=%{text}<extra></extra>",
         "legendgroup": "M5",
         "marker": {
          "color": "#FF6692",
          "pattern": {
           "shape": ""
          }
         },
         "name": "M5",
         "orientation": "v",
         "showlegend": true,
         "text": {
          "dtype": "f8",
          "bdata": "AAAAgH2cQUE="
         },
         "textposition": "auto",
         "x": [
          "M5"
         ],
         "xaxis": "x",
         "y": {
          "dtype": "i4",
          "bdata": "+zgjAA=="
         },
         "yaxis": "y",
         "type": "bar"
        },
        {
         "hovertemplate": "Model=%{x}<br>Sales_Volume=%{text}<extra></extra>",
         "legendgroup": "X5",
         "marker": {
          "color": "#B6E880",
          "pattern": {
           "shape": ""
          }
         },
         "name": "X5",
         "orientation": "v",
         "showlegend": true,
         "text": {
          "dtype": "f8",
          "bdata": "AAAAgBeAQUE="
         },
         "textposition": "auto",
         "x": [
          "X5"
         ],
         "xaxis": "x",
         "y": {
          "dtype": "i4",
          "bdata": "LwAjAA=="
         },
         "yaxis": "y",
         "type": "bar"
        },
        {
         "hovertemplate": "Model=%{x}<br>Sales_Volume=%{text}<extra></extra>",
         "legendgroup": "i8",
         "marker": {
          "color": "#FF97FF",
          "pattern": {
           "shape": ""
          }
         },
         "name": "i8",
         "orientation": "v",
         "showlegend": true,
         "text": {
          "dtype": "f8",
          "bdata": "AAAAAJjzQEE="
         },
         "textposition": "auto",
         "x": [
          "i8"
         ],
         "xaxis": "x",
         "y": {
          "dtype": "i4",
          "bdata": "MOchAA=="
         },
         "yaxis": "y",
         "type": "bar"
        },
        {
         "hovertemplate": "Model=%{x}<br>Sales_Volume=%{text}<extra></extra>",
         "legendgroup": "i3",
         "marker": {
          "color": "#FECB52",
          "pattern": {
           "shape": ""
          }
         },
         "name": "i3",
         "orientation": "v",
         "showlegend": true,
         "text": {
          "dtype": "f8",
          "bdata": "AAAAADfgQEE="
         },
         "textposition": "auto",
         "x": [
          "i3"
         ],
         "xaxis": "x",
         "y": {
          "dtype": "i4",
          "bdata": "bsAhAA=="
         },
         "yaxis": "y",
         "type": "bar"
        }
       ],
       "layout": {
        "template": {
         "data": {
          "histogram2dcontour": [
           {
            "type": "histogram2dcontour",
            "colorbar": {
             "outlinewidth": 0,
             "ticks": ""
            },
            "colorscale": [
             [
              0.0,
              "#0d0887"
             ],
             [
              0.1111111111111111,
              "#46039f"
             ],
             [
              0.2222222222222222,
              "#7201a8"
             ],
             [
              0.3333333333333333,
              "#9c179e"
             ],
             [
              0.4444444444444444,
              "#bd3786"
             ],
             [
              0.5555555555555556,
              "#d8576b"
             ],
             [
              0.6666666666666666,
              "#ed7953"
             ],
             [
              0.7777777777777778,
              "#fb9f3a"
             ],
             [
              0.8888888888888888,
              "#fdca26"
             ],
             [
              1.0,
              "#f0f921"
             ]
            ]
           }
          ],
          "choropleth": [
           {
            "type": "choropleth",
            "colorbar": {
             "outlinewidth": 0,
             "ticks": ""
            }
           }
          ],
          "histogram2d": [
           {
            "type": "histogram2d",
            "colorbar": {
             "outlinewidth": 0,
             "ticks": ""
            },
            "colorscale": [
             [
              0.0,
              "#0d0887"
             ],
             [
              0.1111111111111111,
              "#46039f"
             ],
             [
              0.2222222222222222,
              "#7201a8"
             ],
             [
              0.3333333333333333,
              "#9c179e"
             ],
             [
              0.4444444444444444,
              "#bd3786"
             ],
             [
              0.5555555555555556,
              "#d8576b"
             ],
             [
              0.6666666666666666,
              "#ed7953"
             ],
             [
              0.7777777777777778,
              "#fb9f3a"
             ],
             [
              0.8888888888888888,
              "#fdca26"
             ],
             [
              1.0,
              "#f0f921"
             ]
            ]
           }
          ],
          "heatmap": [
           {
            "type": "heatmap",
            "colorbar": {
             "outlinewidth": 0,
             "ticks": ""
            },
            "colorscale": [
             [
              0.0,
              "#0d0887"
             ],
             [
              0.1111111111111111,
              "#46039f"
             ],
             [
              0.2222222222222222,
              "#7201a8"
             ],
             [
              0.3333333333333333,
              "#9c179e"
             ],
             [
              0.4444444444444444,
              "#bd3786"
             ],
             [
              0.5555555555555556,
              "#d8576b"
             ],
             [
              0.6666666666666666,
              "#ed7953"
             ],
             [
              0.7777777777777778,
              "#fb9f3a"
             ],
             [
              0.8888888888888888,
              "#fdca26"
             ],
             [
              1.0,
              "#f0f921"
             ]
            ]
           }
          ],
          "contourcarpet": [
           {
            "type": "contourcarpet",
            "colorbar": {
             "outlinewidth": 0,
             "ticks": ""
            }
           }
          ],
          "contour": [
           {
            "type": "contour",
            "colorbar": {
             "outlinewidth": 0,
             "ticks": ""
            },
            "colorscale": [
             [
              0.0,
              "#0d0887"
             ],
             [
              0.1111111111111111,
              "#46039f"
             ],
             [
              0.2222222222222222,
              "#7201a8"
             ],
             [
              0.3333333333333333,
              "#9c179e"
             ],
             [
              0.4444444444444444,
              "#bd3786"
             ],
             [
              0.5555555555555556,
              "#d8576b"
             ],
             [
              0.6666666666666666,
              "#ed7953"
             ],
             [
              0.7777777777777778,
              "#fb9f3a"
             ],
             [
              0.8888888888888888,
              "#fdca26"
             ],
             [
              1.0,
              "#f0f921"
             ]
            ]
           }
          ],
          "surface": [
           {
            "type": "surface",
            "colorbar": {
             "outlinewidth": 0,
             "ticks": ""
            },
            "colorscale": [
             [
              0.0,
              "#0d0887"
             ],
             [
              0.1111111111111111,
              "#46039f"
             ],
             [
              0.2222222222222222,
              "#7201a8"
             ],
             [
              0.3333333333333333,
              "#9c179e"
             ],
             [
              0.4444444444444444,
              "#bd3786"
             ],
             [
              0.5555555555555556,
              "#d8576b"
             ],
             [
              0.6666666666666666,
              "#ed7953"
             ],
             [
              0.7777777777777778,
              "#fb9f3a"
             ],
             [
              0.8888888888888888,
              "#fdca26"
             ],
             [
              1.0,
              "#f0f921"
             ]
            ]
           }
          ],
          "mesh3d": [
           {
            "type": "mesh3d",
            "colorbar": {
             "outlinewidth": 0,
             "ticks": ""
            }
           }
          ],
          "scatter": [
           {
            "marker": {
             "line": {
              "color": "#283442"
             }
            },
            "type": "scatter"
           }
          ],
          "parcoords": [
           {
            "type": "parcoords",
            "line": {
             "colorbar": {
              "outlinewidth": 0,
              "ticks": ""
             }
            }
           }
          ],
          "scatterpolargl": [
           {
            "type": "scatterpolargl",
            "marker": {
             "colorbar": {
              "outlinewidth": 0,
              "ticks": ""
             }
            }
           }
          ],
          "bar": [
           {
            "error_x": {
             "color": "#f2f5fa"
            },
            "error_y": {
             "color": "#f2f5fa"
            },
            "marker": {
             "line": {
              "color": "rgb(17,17,17)",
              "width": 0.5
             },
             "pattern": {
              "fillmode": "overlay",
              "size": 10,
              "solidity": 0.2
             }
            },
            "type": "bar"
           }
          ],
          "scattergeo": [
           {
            "type": "scattergeo",
            "marker": {
             "colorbar": {
              "outlinewidth": 0,
              "ticks": ""
             }
            }
           }
          ],
          "scatterpolar": [
           {
            "type": "scatterpolar",
            "marker": {
             "colorbar": {
              "outlinewidth": 0,
              "ticks": ""
             }
            }
           }
          ],
          "histogram": [
           {
            "marker": {
             "pattern": {
              "fillmode": "overlay",
              "size": 10,
              "solidity": 0.2
             }
            },
            "type": "histogram"
           }
          ],
          "scattergl": [
           {
            "marker": {
             "line": {
              "color": "#283442"
             }
            },
            "type": "scattergl"
           }
          ],
          "scatter3d": [
           {
            "type": "scatter3d",
            "line": {
             "colorbar": {
              "outlinewidth": 0,
              "ticks": ""
             }
            },
            "marker": {
             "colorbar": {
              "outlinewidth": 0,
              "ticks": ""
             }
            }
           }
          ],
          "scattermap": [
           {
            "type": "scattermap",
            "marker": {
             "colorbar": {
              "outlinewidth": 0,
              "ticks": ""
             }
            }
           }
          ],
          "scattermapbox": [
           {
            "type": "scattermapbox",
            "marker": {
             "colorbar": {
              "outlinewidth": 0,
              "ticks": ""
             }
            }
           }
          ],
          "scatterternary": [
           {
            "type": "scatterternary",
            "marker": {
             "colorbar": {
              "outlinewidth": 0,
              "ticks": ""
             }
            }
           }
          ],
          "scattercarpet": [
           {
            "type": "scattercarpet",
            "marker": {
             "colorbar": {
              "outlinewidth": 0,
              "ticks": ""
             }
            }
           }
          ],
          "carpet": [
           {
            "aaxis": {
             "endlinecolor": "#A2B1C6",
             "gridcolor": "#506784",
             "linecolor": "#506784",
             "minorgridcolor": "#506784",
             "startlinecolor": "#A2B1C6"
            },
            "baxis": {
             "endlinecolor": "#A2B1C6",
             "gridcolor": "#506784",
             "linecolor": "#506784",
             "minorgridcolor": "#506784",
             "startlinecolor": "#A2B1C6"
            },
            "type": "carpet"
           }
          ],
          "table": [
           {
            "cells": {
             "fill": {
              "color": "#506784"
             },
             "line": {
              "color": "rgb(17,17,17)"
             }
            },
            "header": {
             "fill": {
              "color": "#2a3f5f"
             },
             "line": {
              "color": "rgb(17,17,17)"
             }
            },
            "type": "table"
           }
          ],
          "barpolar": [
           {
            "marker": {
             "line": {
              "color": "rgb(17,17,17)",
              "width": 0.5
             },
             "pattern": {
              "fillmode": "overlay",
              "size": 10,
              "solidity": 0.2
             }
            },
            "type": "barpolar"
           }
          ],
          "pie": [
           {
            "automargin": true,
            "type": "pie"
           }
          ]
         },
         "layout": {
          "autotypenumbers": "strict",
          "colorway": [
           "#636efa",
           "#EF553B",
           "#00cc96",
           "#ab63fa",
           "#FFA15A",
           "#19d3f3",
           "#FF6692",
           "#B6E880",
           "#FF97FF",
           "#FECB52"
          ],
          "font": {
           "color": "#f2f5fa"
          },
          "hovermode": "closest",
          "hoverlabel": {
           "align": "left"
          },
          "paper_bgcolor": "rgb(17,17,17)",
          "plot_bgcolor": "rgb(17,17,17)",
          "polar": {
           "bgcolor": "rgb(17,17,17)",
           "angularaxis": {
            "gridcolor": "#506784",
            "linecolor": "#506784",
            "ticks": ""
           },
           "radialaxis": {
            "gridcolor": "#506784",
            "linecolor": "#506784",
            "ticks": ""
           }
          },
          "ternary": {
           "bgcolor": "rgb(17,17,17)",
           "aaxis": {
            "gridcolor": "#506784",
            "linecolor": "#506784",
            "ticks": ""
           },
           "baxis": {
            "gridcolor": "#506784",
            "linecolor": "#506784",
            "ticks": ""
           },
           "caxis": {
            "gridcolor": "#506784",
            "linecolor": "#506784",
            "ticks": ""
           }
          },
          "coloraxis": {
           "colorbar": {
            "outlinewidth": 0,
            "ticks": ""
           }
          },
          "colorscale": {
           "sequential": [
            [
             0.0,
             "#0d0887"
            ],
            [
             0.1111111111111111,
             "#46039f"
            ],
            [
             0.2222222222222222,
             "#7201a8"
            ],
            [
             0.3333333333333333,
             "#9c179e"
            ],
            [
             0.4444444444444444,
             "#bd3786"
            ],
            [
             0.5555555555555556,
             "#d8576b"
            ],
            [
             0.6666666666666666,
             "#ed7953"
            ],
            [
             0.7777777777777778,
             "#fb9f3a"
            ],
            [
             0.8888888888888888,
             "#fdca26"
            ],
            [
             1.0,
             "#f0f921"
            ]
           ],
           "sequentialminus": [
            [
             0.0,
             "#0d0887"
            ],
            [
             0.1111111111111111,
             "#46039f"
            ],
            [
             0.2222222222222222,
             "#7201a8"
            ],
            [
             0.3333333333333333,
             "#9c179e"
            ],
            [
             0.4444444444444444,
             "#bd3786"
            ],
            [
             0.5555555555555556,
             "#d8576b"
            ],
            [
             0.6666666666666666,
             "#ed7953"
            ],
            [
             0.7777777777777778,
             "#fb9f3a"
            ],
            [
             0.8888888888888888,
             "#fdca26"
            ],
            [
             1.0,
             "#f0f921"
            ]
           ],
           "diverging": [
            [
             0,
             "#8e0152"
            ],
            [
             0.1,
             "#c51b7d"
            ],
            [
             0.2,
             "#de77ae"
            ],
            [
             0.3,
             "#f1b6da"
            ],
            [
             0.4,
             "#fde0ef"
            ],
            [
             0.5,
             "#f7f7f7"
            ],
            [
             0.6,
             "#e6f5d0"
            ],
            [
             0.7,
             "#b8e186"
            ],
            [
             0.8,
             "#7fbc41"
            ],
            [
             0.9,
             "#4d9221"
            ],
            [
             1,
             "#276419"
            ]
           ]
          },
          "xaxis": {
           "gridcolor": "#283442",
           "linecolor": "#506784",
           "ticks": "",
           "title": {
            "standoff": 15
           },
           "zerolinecolor": "#283442",
           "automargin": true,
           "zerolinewidth": 2
          },
          "yaxis": {
           "gridcolor": "#283442",
           "linecolor": "#506784",
           "ticks": "",
           "title": {
            "standoff": 15
           },
           "zerolinecolor": "#283442",
           "automargin": true,
           "zerolinewidth": 2
          },
          "scene": {
           "xaxis": {
            "backgroundcolor": "rgb(17,17,17)",
            "gridcolor": "#506784",
            "linecolor": "#506784",
            "showbackground": true,
            "ticks": "",
            "zerolinecolor": "#C8D4E3",
            "gridwidth": 2
           },
           "yaxis": {
            "backgroundcolor": "rgb(17,17,17)",
            "gridcolor": "#506784",
            "linecolor": "#506784",
            "showbackground": true,
            "ticks": "",
            "zerolinecolor": "#C8D4E3",
            "gridwidth": 2
           },
           "zaxis": {
            "backgroundcolor": "rgb(17,17,17)",
            "gridcolor": "#506784",
            "linecolor": "#506784",
            "showbackground": true,
            "ticks": "",
            "zerolinecolor": "#C8D4E3",
            "gridwidth": 2
           }
          },
          "shapedefaults": {
           "line": {
            "color": "#f2f5fa"
           }
          },
          "annotationdefaults": {
           "arrowcolor": "#f2f5fa",
           "arrowhead": 0,
           "arrowwidth": 1
          },
          "geo": {
           "bgcolor": "rgb(17,17,17)",
           "landcolor": "rgb(17,17,17)",
           "subunitcolor": "#506784",
           "showland": true,
           "showlakes": true,
           "lakecolor": "rgb(17,17,17)"
          },
          "title": {
           "x": 0.05
          },
          "updatemenudefaults": {
           "bgcolor": "#506784",
           "borderwidth": 0
          },
          "sliderdefaults": {
           "bgcolor": "#C8D4E3",
           "borderwidth": 1,
           "bordercolor": "rgb(17,17,17)",
           "tickwidth": 0
          },
          "mapbox": {
           "style": "dark"
          }
         }
        },
        "xaxis": {
         "anchor": "y",
         "domain": [
          0.0,
          1.0
         ],
         "title": {
          "text": "Model"
         },
         "categoryorder": "array",
         "categoryarray": [
          "5 Series",
          "7 Series",
          "M3",
          "X1",
          "X3",
          "3 Series",
          "M5",
          "X5",
          "i8",
          "i3"
         ]
        },
        "yaxis": {
         "anchor": "x",
         "domain": [
          0.0,
          1.0
         ],
         "title": {
          "text": "Sales_Volume"
         }
        },
        "legend": {
         "title": {
          "text": "Model"
         },
         "tracegroupgap": 0
        },
        "title": {
         "text": "Top 10 Best-Selling BMW Models"
        },
        "barmode": "relative"
       },
       "config": {
        "plotlyServerURL": "https://plot.ly"
       }
      }
     },
     "metadata": {},
     "output_type": "display_data"
    }
   ],
   "execution_count": 13
  },
  {
   "metadata": {
    "ExecuteTime": {
     "end_time": "2025-07-16T14:29:05.694227Z",
     "start_time": "2025-07-16T14:29:05.677928Z"
    }
   },
   "cell_type": "code",
   "source": [
    "#PARALLEL CORRDINATES PLOT\n",
    "fig=px.parallel_coordinates(df,color=\"Price_USD\",title=\"PARALLEL PLOT\",\n",
    "                              #dimensions=[\"carat\",\"depth\"] choose columns\n",
    "                              )\n",
    "fig.show()"
   ],
   "id": "a008b215b0b9210e",
   "outputs": [
    {
     "data": {
      "application/vnd.plotly.v1+json": {
       "data": [
        {
         "dimensions": [
          {
           "label": "Year",
           "values": {
            "dtype": "i2",
            "bdata": "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"
           }
          },
          {
           "label": "Engine_Size_L",
           "values": {
            "dtype": "f8",
            "bdata": "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"
           }
          },
          {
           "label": "Mileage_KM",
           "values": {
            "dtype": "i4",
            "bdata": "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"
           }
          },
          {
           "label": "Price_USD",
           "values": {
            "dtype": "i4",
            "bdata": "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"
           }
          },
          {
           "label": "Sales_Volume",
           "values": {
            "dtype": "i2",
            "bdata": "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"
           }
          }
         ],
         "domain": {
          "x": [
           0.0,
           1.0
          ],
          "y": [
           0.0,
           1.0
          ]
         },
         "line": {
          "color": {
           "dtype": "i4",
           "bdata": "BLsBACrPAQCFsgEA13gBAPyrAQCVqwAAo4IBAB5SAQBlOwEA68cAAA+rAQDoQgEAmH8AAMk2AQBntgAA+nMBANH0AACqoQAAoXQBAEC4AQC09AAA+ZkAAD3MAQDyzAEABoEBAKChAQBTsAEAum0BAMkLAQA4MAEA45ABACqaAQAyRAEALW0BACi6AQCZ+gAAsKQBAIeIAAA1HgEA87UBAGdcAQDcIQEA070BAASCAABUOAEAnQkBAApPAQAF6wAAiqMBALClAAD/VAEA5aQBAKuRAQBEMAEAnbYAAEj/AAD2+wAABFcBADexAAAfRwEA6pQAANTTAAAlbgEAWFUBAKoGAQCnOgEAms0AALu8AACDKwEAEeUAAM8jAQAiEAEAZv0AAMsyAQAuBAEAK90AAMfNAQA3xQEAerQAAOyCAADygwEAeNIAAL8/AQBnwwEAoZQBAH+4AQDRqgEAgssBAMB9AAALygAAotgAAApTAQD7DgEA0zUBANGFAABcJAEAILQBAARoAQBbjAEAW4cBAKGPAACSDwEAKW8BAGnWAAAfawEAhmMBAMAYAQBuZQEA2JoAAOWRAQCMnAAAkXYBALDCAQB3uwEAYNkAAGldAQA4uQAAq3MBAMHeAADxsgAAu7kAANy5AABZGQEAd6IBALvaAABx0gAAtnYAAMgpAQC9gwEA4TkBABidAABFbAEA5HUAACA5AQBjQQEAta8BAPYLAQCieQAAi78BAIeVAADkDAEANy0BABQWAQD2igAA8oYAAIKYAQAA3wAAGYoAAI+vAABR4AAAZ8kBACM0AQDEAQEAk4IAABZ/AACTlgAAzYsBAIiiAADokwEAtMUAAB5HAQCVVwEApEEBAG8xAQAx5AAAYbUAAM1wAQCyiQAAYagBADHqAADvHQEAOpUBAHp/AADURQEAUswBAEciAQDjJAEAS38AAGSVAADIpwAAonwBACZ8AQDC/AAAE78AAI4yAQCNdQEAl74AABOoAQC+HQEAybsBACgWAQAM6AAABrkBAJLDAACNvwEAm6wBACFVAQCawQEAISwBAEPfAADwxAEALykBADKOAABrXQEAeRcBAIP2AADAUgEAICwBAK+/AABwZAEAcDcBAEioAAB8uAAAPBwBAGduAQCmjgEAr7MBADWjAQDiUgEA6RcBAEzOAACPqAEATGEBAAD8AAB36wAA0VMBABdCAQC9pgAAXgwBAD6sAABg6QAASgUBADvNAQBpzwEAq6gBACSFAQCJugAAJVkBABS1AAD5zwEA38MBAJXLAQBgrQEAbswBAHitAAAwFAEADwoBAO98AQCefgAAU9IBALi/AAAkEAEAV8QAAKEJAQAaSwEAo5QBAG2PAADggwAAbpoAAK6UAAAk+gAAIYgAAHPPAQCNewEAQvgAAEwuAQAyZAEAjMkBAG92AQCl+QAAlKABAIvOAABttwAAKCwBAHO8AACxXQEAMqoBAF3pAACinQEAhIYAAMFyAQAnNQEAO44BANvIAQDAHQEAyDsBAORJAQAvjAAAnx8BANeyAACPZAEA/Z0AAJAxAQAGDgEAYocAAMXVAACXDgEAIn8AAJl/AAB+zQEAcCABAPcKAQBrDgEAfpIAAPRrAQBGegAAR5kBAMVaAQApvQAA+PQAALuOAQB9+AAA2qMAAKIYAQDJmQEA1ZEAAFK3AQDjSgEA88gAAB+AAQCOfQAApX0AADMBAQB2RAEA6D8BAADDAQDWfgAAkM0BABduAQCTMAEALVMBAGU5AQBMYAEA37QBACz5AAB9qAAA+TsBABUDAQCEAwEAA+sAAEBvAQBdlwAAfIsBAAyaAQDVQQEAlpQAANpOAQBHxAEAnAwBAJF4AQBPmwAAf/oAADQJAQAbjQAAtGkBAKWiAAABxQEAtJ4BALd9AACwcAEAOYoBAA7LAACK2wAAtIgBAOa+AQCGcwEAdoMAAPxEAQCuKAEAYAoBADqFAQD6igAA1H0BAIf/AACEtwAARuwAALgJAQAetgAAaXsBAOxKAQB3SgEAQ4ABAMBOAQCueQAAe7MAAGK4AQDLrAAAgLkAAJtmAQAnWQEAB9QBAPb/AACwswAAfv4AAO9gAQCl5wAATIIBAEEEAQDUjgAACMQAAOiRAQD7rwAAx64BAGigAQAmhwEA018BAEH7AAAxLQEAHa4BAHrFAABPiwEA7IQAAK55AACHIAEADFUBAD3LAADLyAAAKQABALP9AABmVgEArEABAB76AAAEVAEAfgoBAJ+aAACgvAEAhbEAALIHAQBOFQEAr60BAErkAAAC2wAAgrEBABxwAQClEQEABd8AAEUtAQAvmgAAYLwAAAG6AQDQmwAAlIsAABVRAQAkaAEAUYsAAOSbAAAkMQEAa8sBALK2AABHwAAAcpUBAK3ZAADEQAEA43IBABT3AAAKogEAQL8BALB7AAAchwAA/aoAABHCAQAlVQEAV4cAADqHAAC0rQEAuH8AAELPAABOeAEAIX0AAAstAQBQrwEAjJ0BAEzaAACueQAA3MgAACCEAQBeGQEAiJMAAF6xAADXoQEANssBADM2AQAaNQEAuYYAAJqpAACT8AAAuXMBAAA1AQCOpgAAD0YBAGtVAQCIiwAACXcBAJ7KAQBCpwEAv0MBAPsxAQB38gAAV/EAAO3zAAC53wAAEJ0BAN2RAQCBRwEAYZ8AAMhxAQCocwEAR00BAIi3AABTDAEAQrIBAORYAQCSSgEA6SABABF+AQDY5QAAb88BAGeSAABtJgEA1LAAACxdAQB+wQEAufgAAD35AAABeAAArq0BAG9xAQCPaAEAUF8BAJ7UAAAedAEAF4gBABedAABGhAEAxigBACrPAQD0rwEAv7wBAMIBAQC2eAAA3BwBAEvHAQDlwwAAr8QAACnhAAA+DgEAiaUBAAaqAADlxwAAA2UBAKRIAQB5WQEA5gABAAphAQDo2AAAscEBACpZAQDSrQAAndQAAPLcAADsQwEAk8UAADyTAQDCmQAAHRcBAD62AQD1/gAAoecAAANfAQDBZgEATVQBAEniAACLEAEAYhcBABSyAABsWgEAXaQBABP2AADQxwAANpcBAH5/AABZNQEAPigBANzBAADMyQEAHNIBAKsrAQC/BQEAHNkAANUfAQDj+gAA11UBADDJAAAMIQEAuMIBAEF7AQBO0QEARgMBAOrJAQCxkwAAEQgBAK8MAQA0kgAA0ksBABhLAQAqdAEA+W4BAEGXAACyqAEAnMEAAN+JAAB4dgAAJvYAAJlmAQBN+QAAD9EAAHW6AACjdwAAZUABAF11AQAWCAEAb/8AAFlUAQBFoAAAU4kAABmJAQDwiwEAEZkBAJT+AADzggAAOS0BAOjQAQA/zAEAe04BAD6QAQDamAEAcEoBAGuSAQBfhQAAHQcBAPRyAQCYGwEAkf4AAKyhAQCaOgEAEcgAAH2pAAAQ4QAARuEAAEu/AQBdJgEAa2QBADzVAAA3BQEARKwBAOxkAQAN3QAAQ8sAAPVwAQB3HQEAiTMBAI8MAQDpnQAAW2QBAHq7AQBFfQAAlsgAAMF2AQA8gQAAaKEAAMFsAQCqpgEARy4BABK7AQC14QAAEJwAALciAQAtbwEAbYUBAJaqAABmPQEAf9IAAH+vAABo5QAAOLABAFilAQDPqwAAyY8AAOiqAACmQgEAEo4BAN6tAQBEWQEA+MgBAA+AAADdCQEAlKEBAOzFAABtGQEA8eUAABWQAAC1QQEAPUsBAEslAQBwyAAAH/YAAFvkAAAtcAEA5JQBAIybAQCf8wAApzYBACkiAQA0jQEArq0AAOkNAQDrdwEA65YAADaqAAAB4gAAyqgAAKYsAQDj2wAA4gwBAMZ+AQDDyAAASwQBAMVPAQB58wAA0qoAABhsAQAbkgAAwFcBAKBTAQCQsAEA33EBAMdqAQDCAwEAK3MBAIK4AQAARAEAuxwBAB2UAADuyQAAuo8BACa+AACOmwAAdN4AAKJkAQDxvgEA05cBANZTAQBkeQAA7kMBAD3qAAA4EwEAW1IBAN8DAQBeWQEAInYAAP9yAQCkZQEAdcIAALXzAAB/wwAAD0cBAOSZAQAYLwEApoAAAMJ+AQC9qgAAhWMBAOK7AADi+gAAK1UBAHDGAQAsgwAAv6oBAOAfAQC/fgAAJyMBALE8AQB9wwAARxUBAH/jAAD04wAA8EsBAFJ7AADXhgEA/HgAAEaaAAAqnAEAuJYBABewAQDkswEACaoAAP3FAQBacQEAnygBAOfqAADA0gAAcOwAAIvEAQCmaAEAUIcAACdvAQD95QAA1HIBAG47AQA7vQEAJYUBAC1UAQAMSgEAw4IBAMbGAAACeQEAEK0AAJTwAAAbcwEAkN4AAAd1AQBD/AAAFNEBAGerAAANYAEAblMBAK9nAQDJIgEAxU4BAECJAACyvQAA7NIBAHlNAQAKNQEAe5gAANS2AQAGNgEAnm8BAHHOAADESgEAS5oAAF7IAQC0qQEARV4BAJ4cAQD7TwEA8oYBAP6DAACPCwEAqQcBAPzEAQCuxAAAdZ4AAI0TAQD1rAEAbHMBACDAAAAz0wAAA7UBADZVAQCZpgAA0SQBAFDXAACEgwEA/5EAANeEAQAGdwAAMlwBANNFAQB/jAAAsl0BAJljAQAOwgEA+bYBALSkAQDbrwEAAHQBAPUeAQBPmQAApAoBAJzvAADVmAEA3XEBAM0yAQDcFQEAidIAAGBhAQDdiwEApI4AAIe5AACU0AAAOdEAANy1AQCBdgEALYkAALrDAQCOTAEAe7kAAKM4AQBWTgEAKHoAAAspAQC5GAEAelkBAKjgAADTsAEAGs0AAHa/AQBHuwEA/qQBAAoYAQC3rgEAgBkBAOuEAQBVTwEALpsBACz7AABClAEASUQBAG9LAQD2ewEAaC0BAPXMAQDjOwEAUYAAAOjaAABinAAAgIgAAM/BAAB4GQEANL8BAMkaAQBCwAEA1ssBAGADAQBjGQEAAR0BAPsJAQB3oAAA2b0BADqdAAAnmAAAa7sAAFBxAQDC8gAAFDYBAFgJAQBZRAEAIvwAAB2CAADEpgAAm70AAPGcAADL/wAAeZ4BABkzAQDhtAAAhJEAADjlAAD4jgEAtoYAADCiAQBShwAAcpQBAPSkAQCWgwEA3D4BACyOAQD3dgAAzlQBAE/CAQBXugAA150BADCQAQCUhAEA3q0BACbIAQB8BQEA2o4BAH2jAQCxRgEABRUBAIqSAAAhFAEAd1QBAJK5AQBhzAEAdjsBALvJAQC3tQAA7TUBAGJeAQB+rAEAN0cBANpBAQAtdgAAB8UBADm8AQA4CgEAaX8AAOSPAQCKkgEA9wsBAGstAQAnyAAAMr0BANYDAQAhzgAA1pkBAB6yAADliAEA41ABAGStAAB2pwEAPooBABn1AAB6FQEAMLcBAKXIAACNpAAAKFcBAN52AABPkQEAp0gBAOGtAQAjnAEA+pkBAEqgAQBO0gEAPz8BAC2CAQBdvgAAF0ABAO12AABXxAEALAUBAJNhAQDXqwEAKUABAF/sAADl8QAAtmsBAIOZAABQ/gAAhcYAAHt8AQD7iAEAiBQBAF20AACoRwEASXUAAPKgAADlrwAAzJEBAFH8AAAVuQEAeS8BADzZAAD/9AAAHIABAAAfAQDa+QAA41sBAI/qAAC0YwEABf4AAGJ5AADPuwEAyHkAAKzoAAA5uAEAa40AAILxAAAoVQEA7xkBAI6xAAAooQEAkzEBADeAAQDtMQEAZt4AANzaAAALdwAAemkBAA3OAQCbyAEAa5wBAFGfAQBKAQEA1KMAAP70AADoawEAAOcAAKZ1AQDz6wAAJrQBANy9AQBg2gAAHdUAAPbqAAAyzAEAfSUBAI1rAQB8XgEAhX8AAEsFAQBInAAAW4QAAO68AABPfQAAhc0BANONAAD0TgEA5MoAAESLAABLugAA6rABAA/IAACLxQEAuVQBAKjFAQChWQEASRIBANqxAAC2tAEAeWwBACN6AAAarAEAsTUBADxqAQCkGAEAIr8BAPfOAQBddgAATw4BAD9TAQDUbQEA474AAMfSAACKlAAAa1EBAO03AQDXywAA82oBAOWzAADfkgAAb5UAALPoAACIXAEAqcUBAPbSAADv+gAAdT4BAFUuAQAUugAA0OUAAI8jAQC8mgEAvYABAB45AQBM4QAAvK8BACq7AABFEQEAm3sBALgbAQCJ6QAAyvcAACDLAADaSwEA+cAAAJXUAACS2AAAt6gAAGm3AQDGggAAWNIBAOuxAQDVLgEAtdwAABWnAQAcbgEApkoBADVvAQCzfgAAi6EAAK4sAQCXlAEAhc4AALW1AADERgEAHwoBAOOyAAAEeAAASWwBACkZAQC/uwAAqsQAAFJHAQAw2QAA08UBABe2AABreAEALdwAAA95AQCgFAEAChYBAHa1AACgfQEAk6kBAMy7AAAbGwEAWN0AALyMAQBTWAEA8rkAADIuAQDJsgEA/5cBAK1gAQBHkQAAYioBAIuHAADQmAAA1SMBAFe/AQCzfwAA2igBAIOzAAA3mwAAh+kAADSFAQDPQQEA4FcBAOh2AQBa9AAAKrgBAKtLAQDahwAASrkBAOqOAQDLtwEAs04BALirAABVhgAANnEBAGc7AQBFXwEADssAAGSMAACwuQEAxLgAAHEXAQDp9gAAEIUBAMcgAQCPJgEATFcBALyrAAC28AAAWocBAJPmAAD0vAEAxcMAAJrGAAA4WQEA0L4BAPSXAACnUwEAKdcAAIiTAQBZ2wAAN6wBAF9LAQCY2AAAj4QAAN2JAADxJgEAOFoBAEGnAQBi5wAAqKMAAId/AAAfYQEAc9EAAKMxAQB6PgEAvf8AAAtIAQAuZwEAlZ4AADOIAACncAEA7MUAAC2JAQDy0AAA75QBACxXAQCNswAAuP8AAAjsAABNMAEApYkBAAvLAQDijgAAKbEAAJAvAQB1gQAAhSIBAM+4AABbXQEArowBAKHXAABeQQEAfpgAAPADAQCDdgAARWsBAGepAQBv/QAAb1oBAF+bAADzmgAAbOgAAOk2AQDMewAAxeYAANt8AQD7VAEAswUBAFZyAQDm0QEACQABAB2AAQBIhAAAK5QBALRTAQD3TAEAKTwBAHSVAQDnpwEA64oAALlgAQDovwAAtJwAAAePAAA3rQEAgXABAE5zAQAEgAEA+aABANfVAABFdQEARmgBAPxDAQCtuAEAcYABANaSAQBs4AAA/bcAAO3JAAAFRwEAlL8AAHyUAAD2JQEA4OwAAGgdAQC/uwAA6sgAADysAACVBwEARZsBABdgAQDDIAEA24oBAMPnAAB3DwEA238BAFXAAQC8gQEA3qwAAF0VAQCKwQEA0awAADY1AQAswAAAhYAAAKLHAQAAwwEAf6YBAAa/AQBkngAAcM0BAAWbAQCIDQEAvH4AANB3AQBFoAEALncAAHbiAABRSgEATZMAAKSEAADQywAAAaYAAK5sAQD30QAAbY0AAH6TAADllAAACIEAAAZ+AADCXwEAVlUBALSbAAALYgEA1XsAAGnmAABNwAAA3kEBACuJAQDDGgEArZgAAHgSAQAs4wAAJlcBAPOHAQAnjgEAKMQBABCiAQBESAEAxXkAAHhaAQC0TwEAG1gBAOe5AAA0ywEAW/kAAPt8AQCewQEAjqYBAE6AAQAE3wAAOW8BALa9AQCjuwAADZUAAPHJAQBDDgEAEQ0BAJS6AQBBzwEAprsBAIPRAABHvQAA1SkBANJdAQBD1AEAV3EBAOI4AQC88wAAOVIBAJp4AQBVAAEAzwwBAH30AABVwwEAlYoBAPvJAABNoAEAdoEAAAYHAQD12wAAUq8AALu3AAAs9gAAWWYBAGsmAQCjngAADlkBAKEGAQDIUgEABjABAI7OAABPpAAAAvQAABxPAQAtZAEA5d0AAB7fAADBowAAB7gBAPfRAACnWgEAujwBAI+BAABMgQAA6w0BAMQuAQAX9AAAaDwBAEvIAQDfsQAAXaoAAGPTAQD+OAEAufAAANZDAQBq/AAAlj4BAEakAQA63gAA6RwBAEiHAQC8vwEAhr0BACbXAAAG0wAAQY8BAHJmAQDmVgEAHIoAAJPtAAD1HQEAXBABADZ9AQDc/QAA6ogAAN2wAQDFpwEAkHkAABkMAQBnggEAdMEAAGV2AAALFwEAL4cBAIUZAQBMeAAAN1YBAN/SAAB0igAALqUAAPywAAATzgAAA6kBAKMfAQDKmAEA4YABANhlAQDEigAAtZoBAP6XAAATegAAQdMAAKyHAQBytQAAd7MBADROAQAz3QAAn/sAAF5XAQBM4AAAPBABAH3FAACz3QAA/pMBAH6TAQAbawEAW2YBAMFZAQBHxQAAUlABAPJ6AAD2qgAAz6UBAAe9AADURgEAbzMBALIhAQBcgwAA8asAAMBhAQCY4AAAV6MAAL1wAQDSMAEAsaEAAJzuAADaggEAQ+oAALnqAADFpAAAzsYBAMtxAQBFawEA/PUAAIerAQDsKgEAfFsBACK4AQB2hgEAw5IAAEfBAAB6awEAzx4BADh3AQBylAEAFzwBAE8ZAQC4dQEAvrABAAYbAQC/BgEAzFMBACUaAQA1kgEAOc0BAOV5AQDPLAEAnscBAH1QAQD43wAAGF0BAC8qAQAViQEAwaQBADHIAABHhQEA4bAAAIPkAAB9MAEAg5oBAJajAQAfyAEAyIYAAIzUAQBtJgEAErAAAFbVAADsQgEAPQcBAPPaAADmxQEAcy4BAE6UAACiQgEAKQIBAJGcAQBouQEAbBQBACmtAACKpAAAYNgAANNBAQAN+QAAzw8BABAnAQASKgEAOkoBACywAABMAwEAjqgAAHjPAQDfpwAAg6EAADXxAADjgwEAjfcAAIp4AQBM6gAA8JQAAEyHAAAAfwEA8L8BAIyNAABorwEAuXMBAC6zAACbdwEAKh0BAIrTAQAiSwEARTQBAP9OAQCoywEADBkBAEb+AAANswEArDMBACPIAADmogEAnKUBAPN3AQCy0QEA+sEBAK7iAADn8QAAbpoAAA2pAQDyXQEApMgBAEmXAQDKDwEABGUBAEO4AQBqpgEADqQBAKiWAQCTywEAXSIBACiOAQDM7AAATYQAAOcdAQBF0QAAzewAAJppAQDwxQEA9FABAAr0AAC2hQEAJ8UAAB4SAQDQwgAA4WQBAN2XAACwNgEACk4BAHtqAQA8rAEAjcQBALvUAAD6fgEAS/UAABGWAQC3iwEAOEcBAEjBAQBa2gAABp8BAJiYAQCw/QAAmdIBAKbIAACiVwEAosQBAA/kAABwYAEA2KUAAEgdAQBYdwEATpIBAHDMAQDN0wEASO0AABgqAQDFywEAw18BANqsAQAe2AAAh0YBAAiZAQB/ZAEAGmMBAH2xAACvRgEADqwBAHKuAQCQ0gEAb6ABALWEAQD1qQAAY+IAAEDMAAAfoAEAlJEAAMMOAQBaoAEArJwBAHHcAAAzHQEAXpgAADvAAQC3RwEAF84AACTAAQAUdgEA38oAACY7AQAzagEAE2wBANjsAABalAEAtGABAPdPAQA8SQEA5H4AAIGwAADRPwEAjQgBAHOaAQCKSAEApl4BAJLmAACA2QAAclwBAPQAAQDlhQEAAVwBAKcIAQAadwAALoIBAGCWAAAOXAEA27sAAFCaAADj6wAAiIIBAJxeAQCNdgAA1mkBAIm2AQD1SwEAX8sAAJ43AQBQjwAAF6IAAJqMAQBpjQEAPrsAANOQAQD50wEA0YcAAB7+AAAMlQAAwNoAADPNAQDK+AAAAa0AAPgrAQBvqwEAposAABh/AAC3BgEAErkAACXGAQBdzgEATJgBADwJAQCyLwEAgEIBACquAAAcrAAA4nUAAC8dAQAPpQEAhVEBAJMTAQD9QQEAs4sBADPRAQApkwAABggBAMsKAQB6JgEAvK0AAK56AQBTTAEAf8MBAEa7AADHuQAAnb4BAKeqAQBLhAEAerEBALUyAQCo1AAAZsoAAE6WAADmqAAAabYAAKPqAAB/xQAA0acAAJvNAACfOQEAGsUAAC7CAACWlgEAbH4BAPI1AQCSzwEAxP8AAAPIAADrggEAW0sBACitAACalQEATAIBAPXJAQAU8wAAsKAAADOPAQAZdgEAFL4AAIUqAQC5QwEAi8sBAJ1sAQC2eAEAt7QAACh6AADgHAEANpYAACwOAQDWcQEAKooAAOfyAAAzMAEAmIQAAN+cAAAyVQEADIcBADCFAQDOzgAAZZsAAKiKAAACEwEAokIBAJhlAQDeaQEApaYBAKKxAQD/FwEAiEwBAPWRAQDapwAAg00BAN+WAADe5gAAYVkBACFAAQCb+gAAufIAAN6QAQAUbwEAhRsBANuTAQCQeAAAHIkAAMpKAQC82gAA9QoBAPrlAADgeQEABgIBACrQAQDCngAAaYwBAFnXAAAvnwEABogBAEpuAQBgsQAAdVIBAGVyAQBDhwAAXcUAAOA0AQBAzwEA5qsAALpvAQBQ+gAAz78BADyYAABNtwAA6hIBALcrAQBskQAAe9kAAGbJAQDUjAAA5zkBAFNJAQDBeQAAeNMAAFZIAQD9pAAA03cAANoiAQA6sAEA63wBAN7fAACuEAEArp4AAP+kAAD0xgEAvC4BAEktAQDqrgAAl0MBACWsAQBo4wAAgqUAAK6uAACtwAEA340AAJlGAQBppwEAX/oAAG//AAC9PAEAN1QBAKOPAACZmAEAQecAAPDTAQBimQAA1e8AAG8cAQAosQAA+NQAABTDAAB+1wAAvbEBAEX7AACjpQEAiZQAAKk9AQCsOAEADu8AAFtHAQATaAEAEa8BAAm2AQAtFgEAqWIBAP92AACKEQEA8n8BAHyeAQCfuQAA3TcBAJ4QAQCe/gAA2DcBACDfAABQcgEAvIMAAJPpAAC8ggEAZVwBANrQAQCzgwEARL0AAHOfAQCfPQEAl5wAAP2xAACTxgEAd8kAAFLGAQCKxAAAvsIBAA2gAADLDQEACg4BACWvAQDQmgAAiDQBABjSAABsCwEAb8EBAHO8AQCSXgEA0q4BAOR3AACSegEADkEBAOq4AADBjgEAwiwBAHPaAADWXgEASEABAPr3AAB+IAEAL6IAANwbAQCWtwAAoAoBALTfAAC2ggEAUZMBACGOAACN4wAAMrABAOKMAABxdwEAFa0BAP4wAQBgggEA9BwBAPXQAAAuUwEAY00BAD6eAQAA5gAAP8YBAD2xAQBPgwAAARUBAPrTAACbTwEARToBAOKiAACySQEAOiUBAMqQAAAqHwEANtQAAIFlAQDN7wAA1aAAAIs3AQDuWwEACpkAAAKDAQAWEwEAmdQBAFV2AQDVfQEAxxoBANaWAAAgKQEACMAAAOR2AQD49gAAxL0BAKN8AAANeAAALYQBAAECAQBakQEACcYAAC1EAQDZSQEABjUBADevAADfsQEAIowAABTwAABcdgAAIokBALbCAABCrgAA3PYAAPReAQDwRAEAoJkBAHqXAACj2QAAhKwBAFVnAQBYsAAA+k8BALNLAQCQaQEAELkAAMMyAQCfpgEA360AANSJAAAX5AAAzKwAAPckAQDGwQEAFSMBAL0SAQDDbQEA1BIBAJZLAQBspgAAvvsAAG2jAAAyHgEAuRoBAP5XAQDgpQEAVfQAALMTAQAQSwEAvCwBAGa6AQAHqQEAh8oAAHK9AQCwZgEAo7sBAGNeAQCiigEAOZUBACaCAQAICQEAvqgAAP/GAQCVggAAgTsBAGZfAQDj2gAAMZMAAOBTAQAIcwEAW+EAALbDAAC+wwAA1V8BADEpAQBHqwEAMJQAANPKAQBNCgEAUG4BAO6dAQBh1gAAm+IAAKJpAQBuVwEAo9EBAH2IAQAo/wAAd18BAGQUAQBYTQEAV7EAACPBAACejwAAMycBADcKAQBvhgEAWDIBAGRKAQB9AQEA268AAL1GAQBOMgEAGCcBAEXPAQBWwQEA1CoBAF7nAACGVgEAJD0BAL3EAQCB/AAA5pwBAAtjAQDHvgAAlpMBADp5AQBaUgEA46gBAIbFAACJBQEAf7AAAJufAQBNJAEAqoYAAIK6AAAxSwEAMlsBABKIAQBRlAAAf5UAAB+gAQCexwAAI64BAFiLAQDMcAEAUgsBANHyAAAJhwEAQ7cAAMW1AAAcNwEARwUBAISYAABSjwEAwcUAAD7DAQBzRQEA1EgBAH0fAQBRhAAAfVoBAIURAQAJMgEA2rYAAPaWAAB56wAAv2kBAJARAQB+rwEAWR8BAFYzAQDo0QEAQ8cAAL9+AQB20wEArokAAN1OAQCm+AAA21YBADaHAQDirwAAL6ABACJ4AQB2zgAAqzIBALXTAAAB4QAA9BUBANlTAQBhiwEAQiABAJgyAQDSoQEA2ZYAAMLyAADjgwAAt6YBAHTuAAAjUQEApA4BAG/GAQDQsAEAgwIBALPLAABfVQEA5JcBALwuAQCxiwEAWJgAAFkCAQDozQAAZdgAAAgMAQDcXAEAVbQAAOdeAQChzQEAKKABAMj4AACBsAEAsykBAAzMAACeIAEAVaMAADxVAQC4TwEAhLwAADgZAQAPwQEAstABAEyVAQDDoAAASIoAAAupAAACeAAA68EAAG4iAQCa5AAAsY4AAEiuAQCOeAEAafcAAODKAQD1sgAACd8AAIVBAQDCoQEAlZUBAP+tAQAvNgEAU3oAAPcUAQAuXAEAylwBAMrIAQAAvAEA+kwBAPXHAABezQAAkR0BALurAAD4ZwEAPRQBACsBAQBypwEA13wBAC6jAQB+HAEA6zABAHx/AADxIwEAPWQBAMGfAABCiQAARSkBAOz4AAAUhgAAOEoBANLkAACZ9gAAtCwBAITQAQC8eQAAq68BAOiYAQCzSwEAJjABAOCPAQBwaAEAFiMBAA8YAQBOyAAAKoMBABPZAACUnQEARfoAAMnrAADRnQAA640BAGmqAACR8wAAO20BAPDXAAACtgAAIpYAACvMAAAoiAAAXXYAAHhaAQCKdgAAJ40AAO9dAQBODwEAp8UAACN5AADliAEA1XMBACOiAAAFsQEA374AAP0tAQDyDAEAy5MBAAtNAQCpRAEA8IMBAAkPAQDSygAASr0BAKfJAACcAgEAs8YBAAhqAQB30wEA6HcBAMKLAQCd1gAARiABACC4AADm5QAALGEBAJCfAQAzqQAAGI4BAGXPAADfQQEAOccBAFNqAQCXuwEA+cEAAO22AQCS1gAAt8UAAJEKAQCNpgEAcJABAJseAQCPmgAAwsoBAFXDAAA5gwAAQ+sAAGLnAABhOgEApeUAAKzwAAB72AAAPdEBAFGUAQAZowAAJS4BAJFEAQBsEgEA1LwBAJR2AQCzgwEAcqoAAJa/AQC9swAAJ/oAAArIAQAmtgAAyaMBAHklAQCNzgEAJY8AAMH4AACXpAAAZH4BAM2KAABH5AAAgrIBAJ2JAQDAKQEAiOwAAFfUAQB1IgEAw1wBAOaJAADKDgEAqnsAAOIYAQCGBgEAwloBAKLIAACUXwEA8/wAAJjEAAAsrgAACxwBAPzbAAAsbwEAKNEBAOHbAACsTAEA2/kAAO+QAACT0wAAHNoAAEOaAQDeYwEAreQAAEV9AAAiBgEA260AAIS7AQDHlAAA8LQAACVSAQAOhQEAGUgBAELLAQCfWAEAHykBAJmZAQBt/AAAoxYBAPjzAAAqOwEAs74BAFezAABt2QAAfC4BAAXNAQBuOwEAihYBANWuAACS8gAAf+4AAIuwAAA0rgEAphUBAAS5AABWwAEAfOQAAI9KAQDguQAAvYQBAHoaAQB9jwAA7MABAJalAACvqQAAkVUBAHhsAQAUPgEAXtQAAIaBAQAqRwEAtIUAAJXUAAD1yQEAlXkBAPXqAABB8wAA+YsBAIjLAABMgwEAWbAAAO1pAQBqZAEAapgAALrBAADTFwEA5AgBAJEOAQCTxAEA5lIBAI7MAABe1wAAVlQBANOkAACj7QAAHQ4BAKbvAAD0lQEAIZkAANeeAQAWZQEAZ0kBAOQdAQDyDAEA7pkBACA6AQAOfwEAjwQBAC7DAADivQAALPMAANAWAQDuCgEA/tIAAEWLAQBYhQAAKLQBAO22AABrzwEAApgAADieAADEnQAADNMBAHnAAABdhwAAgIwAAGNlAQA5ewAAREMBAI9dAQCOewEAQdoAAFu8AAD8+QAAjaIBAEq2AAALcwEAan4BAG5DAQBexQAAkhABAObGAACR+AAAAPsAABYrAQAfLgEAb/0AAFvDAACvYAEAddQAAIbMAQDOdQEASdsAAFqxAAA3jQAAnI4BAAEdAQBkAwEAJMsBABj4AACF8QAAH8wAABL/AABc8gAA7SoBAJxfAQDWBAEA/RgBAEIHAQAeewEAUeEAAOKMAQBcOQEA8aMBANl/AQCqvQEAk7YBAPCtAACNvAEAqr8AAC+QAABQkwEAkYEAAMQRAQBnTwEAw30BANt3AADnoAAA4o4BAO2xAQCjmAEA838BACpMAQBVoQAAPMgAAJz4AAC2KwEAEP8AALQtAQBEtwEABikBAKgpAQA5iwEA9c8BAD2eAQA00wAAPkUBANOMAQBoPAEAUw8BADUPAQDopgAA0O4AAL7DAQCirwAAaL8AAFYaAQB+jAEALdkAAC2SAQCurQAA8H0AAKkOAQDYoAEArI4AAAe3AAD+AgEAr0gBAOC8AQAogQEAj2kBAE6aAQAVJQEAosUAAJeTAAD/FgEA0AMBANimAQDdDwEAlZQBAB5+AQDAMwEAhtcAAMy3AACvngEADJMBAE+JAQBhFwEAiXkBAPUPAQAnFgEAmxoBAJMpAQACtAEAk80BANCgAQBoUgEA1GABALDAAAAGEAEAKlwBAHKfAQCa0wEAOIUAAEo1AQDZhgEAJvIAAJ8rAQDi8gAA8XkAAEXNAADPYAEAhZ4AAAcUAQBc3AAAHRgBAGVfAQAg8AAA+pUBABeXAQAYLAEANnIBABR6AADmyAAAUIgBAA/fAADg5wAApigBAF2iAQBHeQAApaMAAN+RAACWsAEAFK0AAM1zAQDf7AAA158AAH9TAQBlrwEAQ7cAAHKrAQBekAEAR64BABRtAQA+ewEAxhgBAMjlAADqMAEASJkBAK+OAAA9CwEACicBAMqCAAANbQEAnh8BAOCVAADSPAEANsMAABw0AQBrmQAACbQBAN7uAAASSwEA9rIAAPkwAQCHpwAAmxkBAJqgAADhwgEAfsEAAA0cAQCCqAAA01IBAHaXAADHmgAAZLEAAOvYAABGGwEAlFgBAIu2AACiEQEA1kABAGy8AABE+QAAIugAAPyQAADFLgEAraEBALXpAADsuAAAALUAAFYNAQDeDwEA2IUAAJPGAQALEQEA64gAANR6AQCoWwEAdIUAAF5HAQAzoAEAmrAAAETvAAA5ggAAiw0BAGTLAACANwEA/ZcAAHqFAQDT+wAA8NQAANRoAQBvKwEAp1oBAOUYAQCByQAAxy4BAGiIAAATVAEAb8cAAGN/AQDRwQEABREBAP16AQDPywAA2lIBANG0AQC0kQEACEgBAKipAAA6PQEAhXoAAO2PAADZJgEAMAkBAPfBAQCFzQAAh/gAANZaAQBmIgEAiRABANpSAQDSWQEAATIBAHDGAQDnQgEA1NEAAEu5AQDJhQAAqH0AAFJ3AQCKzwAAbnUBAPd+AQAiTQEA3yUBAHhZAQC5FgEA/acBAISuAQCfhgEAEd4AAOH8AAB9VAEAPAMBAMDrAACOqQEAUEMBAE4XAQBnuwAAUs8AAMyyAQBr8wAAiH4AAO7kAAB+GgEAPhMBAKTkAADiqwAAdWUBALyjAABcRQEANV0BAMgEAQDLBQEAU4MBADrwAAB/cQEAJ2QBAB30AACTtgAA7LsBAGOSAADkeAAARmcBALMeAQBT+gAAxRABAFKWAABG5AAAP2gBACXxAACboAAApkABANeXAQCg9AAAAXQBACcwAQCUxAAARXwBADr5AACVigAA9aYAAK6oAACMlAEAJgkBAIP6AACrjQAAtnUAAJezAABP1gAAGJkAAPsoAQBCOwEAJ4kAAF8KAQB0pwAAImoBAA3mAAC1CgEAfqgAAGt5AACYswAAsuAAAGEWAQDI9QAAGVcBAEaoAQCK1AEAvGsBABrJAAAIygAAbzsBAGbOAACdqgEAl34BAP0DAQAmqgAAmZwBAGzXAAAZKwEAdAMBADliAQAYLAEAG5IBAAL/AABsCAEAVhcBAISlAQDbcwEA43UBAD0/AQBc4gAAucYBAOiRAAAUEQEAdaYAAPknAQBvmwAA43UBAMOQAAAttwAAbH0AAH9ZAQCwcQEAXJwAAJORAABkwAEA6DoBAPTzAADYggAABX8AAHXaAACM+gAAjdIAAJhMAQACNAEAeTcBAHQQAQApzQEAie8AAENIAQDHmQEA/NMAAHf5AABMwAEAGagBAK6dAQBFigEAS60AAAqLAACqXQEAcroAAIpcAQDmyQAAdQgBAAKWAQBV3QAA0z8BAHi8AADPcgEAXQ4BAFD2AACwJwEAq7kBAHKlAADNhwAAMMQBANDOAACLEAEAFl4BAA2WAAAcowAApo0BAK99AACGjwAAKJsBAHG8AQAflAAANdQBAPO7AADd/gAAJw0BAKcdAQDOkAEApgYBAPXPAAAtAgEA2DkBANQ8AQCyQAEA0LQAAKBQAQC3fgAAzP0AAGw3AQAVxAAAE+EAACOEAABCrAEAraEAADDCAQDk1gAA1rwBANWtAQAd2AAAlJMAAB/vAACvrwEA/EoBAAukAADVugEA1p0BAIzOAADk5gAAaSEBALLCAABQhgAA1VEBAM0HAQD7JAEAyY4AAIGSAQDQmQEAh00BAKAHAQBWhwAAYzMBAKYjAQAhpgAAjI8AAL0wAQA4FwEAXmgBAM2wAQAvlwAAiBgBAOINAQB0iAAAl8EAAIbPAQAMGAEALd4AAD+wAAATagEAjLQBAPwNAQBmSwEAhScBAJyJAABpUQEABhoBAACFAQCeVwEArNIAAFErAQD3XQEANYkAALKBAQDduQEACLUAAMFqAQDElAEAO7cBAHtTAQDUWwEAUlkBAJKSAQBjzgAAJ/oAAAKxAQBDrwEAZmoBACJQAQABCgEAR8EAALC9AQAyMQEA61IBAG//AABhtwEAW1gBADNOAQCszAAAW4wBAIa+AQBINQEAzq8AACctAQDr8QAAf6cAACj/AAB+EwEAHO4AAJn/AABZdAEAVI0AAKOVAQDWCwEAiTQBAHctAQB3/QAA+loBANHGAAAxvAEAYrsBAM3QAQBzgQEA3loBAFSTAACmhgAA14cBADBeAQAxrgAAgT8BAKa6AABEtQEAX4EBABPLAAAcNAEA5M0BACC2AQDligEA00wBAGIaAQBaCQEAxZQBAHR/AAD+mgAAQjMBAGfjAABazwAAA04BAK/EAAA3/AAA+oYBAL/AAQD6tQEALqMBADSYAACVjQAAVRsBAIWOAQDGsAAA+aoBALnkAADApgAAjKIBAESGAADgqAAA+awBAOm0AQCEoAEAuFUBAI5hAQCaxgAA8kcBAFu5AQAdswEAEsYBAHDSAABwGAEAei4BAJtAAQBslAAAqvoAAB2uAACGBwEAnc8AAJ7GAQBdfgEAn80AACuAAAAhOAEAER8BAMfHAACUuQAANWMBACRbAQCYhwEAUKIBABaRAACvFgEAv+YAALWhAABKeQEAj8cBAGuFAQBsxgEAV74BAJ8jAQCCaQEATDgBADO9AADm2QAABZkAAOTTAAAcCQEAT7QAAIGBAQAYjAEAbIYBALIYAQBqqgEAicUBANS+AQBYdwAAtlkBAG98AQDslgAABfQAAL1CAQDDdwEA3wMBANmwAQB35wAAPTEBAEtxAQB9nwAAMqQAALPJAQCXYgEAbQ4BAE5fAQB/6wAA5MQBAEyHAAAP/wAASZsAALNSAQDn0wEArRUBAD2qAADcbAEAPqQAABceAQAGIwEArM0AAOL0AABbfwEAfAwBAD2aAACNywAAjMQAAKjkAADBCAEA2CcBAADGAAD9jwAATaMBAJlmAQBMlgAAKgIBAI28AACc7wAA0kABAHO5AABr/wAA1rUBAI1aAQAdxgAAm6YAAKyMAABqyAAA54kBAMqYAACA/gAA4kABAEEOAQCSEAEAqlMBAIjTAQChoAAAeqQBABI5AQCR8AAA39wAAIstAQA2bwEAg7UBAJ6HAACmRAEACxMBAIOzAAAQnQAA3PUAAIUvAQDRqwEABx0BAGTUAQAOugAAF4kBAImpAACcwAEA4UIBAL3aAAC8kAEAojIBAFJ6AAAVdwAAZzwBAHnIAQAcVAEAT7YBAJuXAABFxAAAlLkAAFsyAQDnYAEAhNUAAJTBAQB6NAEACUcBAM5YAQAsjAEATb8BACfcAAANugAAHAkBADDXAAAGzgAA9dMAADLMAQCXwwEAgBMBAAwcAQDqIwEA8pABAIauAAAk7QAAV8ABAGf6AABadAEARn8BAMuZAACPkQEA98AAABVPAQAq/gAAD5UBADsPAQC6qQEAD1sBAHs0AQClMQEAIjQBAIOvAQC9zwEAbeUAACMBAQDOewAAz74AAG4TAQBBtwEACVQBAOmsAADxNwEAZvYAAA+yAACWxAEA6mgBADFoAQCglQAAIQUBAPFdAQBjRAEAxrYAAD6pAQDmmAAAOfMAAIOoAABnugEAWu4AAOevAQCYeAEAnGUBAFwFAQB6uwEAk/gAANSeAQChbwEAUHkAALCoAQCTnwAAEvIAALbrAAB6+AAAKP8AAPFbAQAl/QAAyakBAMDOAACBKgEAnywBABDKAQB/OgEAR7cBAGMWAQCmzAEAI4kAAC7HAAAgtQAAEysBALCQAAAKUAEA7lUBAHTSAAD3DwEAwFYBAB3aAAD55gAAjBcBAE2wAAB6xwEAAmMBAD6lAAC6iQEAF0wBAEuSAQBA/gAApnsAAHZeAQDhlgEAvQABACaOAADjVwEAGa8AAKq1AAB/8wAA7rkAAFlVAQA2NQEAC3wBAA6oAAC1zAAAf9UAAGmZAAAYiAEAIWkBAFfWAAD9nAAAbY4BAOraAAADPQEAJ10BABZoAQDN2QAAfWQBAKW4AQDpeQEAJrcBAMKzAAB+qwAAfYIBAJUYAQD8awEA7cQAAPnWAACStwAAeLABAKK5AACLiQEAWYUBAKjDAQDGXAEAA2ABAGAgAQCEuwAAK/MAAAHzAABdowAAVpYAAFAhAQBCLwEA7eAAAKePAQBvqwAA4KQAAF+UAACPKgEAIocAANtAAQBvlgAAX2QBALiAAQAnxwEAUvMAAM+AAADgkQEAL+oAAINHAQBDSgEAz+8AAGCBAABcgQEAE+sAAMTvAADDswAAzrQBADKDAQDTJgEAkzoBAA/NAAAoTgEATY8AALpSAQAp/QAAfLkAAA1sAQCFpAEAWX4BADG5AACHeQEAkK4BAGWgAABXxAEAg4MAAHT1AAAmfgEASJIBAHnDAADahAAAVrkAAHNxAQAflgEAoC0BAIT3AAAAugAALk8BAOXrAAB8GAEAW4kBABtJAQDA6gAAbmABABQnAQBShwAAwGoBAJWjAQCRvgAARoMAAH7AAAADGwEAYp4AAAK6AAAjkQEAIwIBAIBRAQAjQAEA9mIBAKPlAABpZQEAkqYAAD75AAAd8AAAkr8AADgjAQDulAAALH0BAKmPAQASqwAAKS0BAHewAAAngAAA2cgBAGPLAQB/egEANkABAIXFAAAYEwEAehcBAJ12AQBhswEAuaoBAM62AQD2FQEALogBAKx6AQAucQEAh7oBAE5AAQDRRgEA3dsAACtvAQDaTgEAwj4BAMhFAQDd9gAAGM0AAL3VAACJ2gAA+qYBAFL1AACRwQEApFwBAOhHAQDLsAAA7dEAAJJNAQAC/wAAi6IAAIqkAQCbxQEA7B4BAAFvAQAmWgEAM6wAAJTZAACzZwEAgK0BAHzQAACOJgEAGXsBAAmaAQDYiwEA1EUBAI5XAQCmDwEARzUBADpfAQCddgEAFpkAADubAQCbzgEA/p0AAI4DAQAfWQEAGYcAAMmTAQCsJwEAX7MBAJPTAQCPHQEA66sAAJQqAQDlUAEA1XIBALO0AQBYnAEAbHkAAPt5AQAePQEAkYkBAEy/AACYzQAA+psBALGTAQDHjgEAqDwBAGyxAACADwEA5aoBAAPzAADwYwEADDABABmvAAC1awEAtZIAAIB5AQDaOAEA4RYBAEyUAQB7dgAAwL8BAN6/AQCcWwEAN6EAADq4AQCM8QAANMoBAMi3AQDRqQEAeMsBALc1AQBpUwEAFjIBADo+AQDd/QAAiCgBAELMAQBQkQEAQvMAAMOeAQBDeQEAQrkBADoZAQDKDQEAIIIBALJ5AACNXwEAWK8BAFLCAAAehgEAAa0BANZ7AABxkwEAfqEBALayAQA8fwAAnZgBAGXPAADMxQAAAOcAAPq5AABPlAAAQ+YAAJP7AACK+gAAP/wAAP5kAQCKhAEAfkwBALzJAQBL0wAAF64AACQ2AQAR7wAAxY4AANMwAQC8YwEA688BANSvAQCxdgEAgYEAAI1mAQBOeQEA6RkBAM1lAQCuxwEA8YwAAPUWAQCJPAEA5M8AAB27AACVygAAmfAAAG7iAACYKgEAwFgBAIIcAQAHowAAXyoBAEm/AQA1rwAAnk4BAGl0AQDZSAEA9NEBAA7iAABhdAEAk0sBAGAsAQB1swAAF2sBAPpxAQDinQEApLIAAF/kAACxRwEAf6YAACsTAQASzwEA/ScBAFm+AAC/ggEAZ8UAAGmwAAA8HgEAdwcBANQ2AQALywAAJYgAAGCAAQAPqQEAZW8BANC4AQAYigEAzGgBAAxfAQBlvQEAUi0BAMeyAAAXvgAAnFQBAMe/AQChTgEA9P4AAEJ/AQAa6QAA+4ABAC3UAQAzdwEADBoBANqWAABQRAEAxbwAAPqhAADB7gAAI4ABAEGRAQA39AAAC+kAAMbQAQCkggEA4GYBABsdAQCeRQEAN1ABAGKpAQA95AAAVJwBAFmSAADa/QAAt7gBADiWAAAZOgEA1UwBAAuVAAAZXgEA3m8BAFmZAQASLQEAhGQBAFq2AQDyrAEAUKgAAKuYAAA9MQEApp4AAGyEAQBEDQEA7k4BANmGAAD1xQEAsMYBAKpIAQBkNwEAs8sBALKvAQBNkQAA4e0AAM21AAD2iwEAPsABAP7zAAAm3QAAFakAAArKAACs4QAAJ7ABAIfDAQBFgwEAkmABAPGWAQB8twEA3HABAC+oAADiSgEAQjUBANYRAQB15gAA5DQBAAHMAABlCAEAF3wBAOusAQBrwAAAaZYAAMV6AQD2wQEAgtIBAKRtAQCuTQEAIwkBAAqUAQBBHwEAUrUBAGh2AAA8iwEAcMcBAPrsAACxrwAAvWMBAPTMAQD7LAEAMZAAALJHAQCk/wAAeZ4AAO7NAABp8QAAlswAAB/LAQDsdgAAUakAAMStAQAipAEAe3oBAIpzAQAgjgAASFIBAPisAACMiQEATdkAAKgdAQBt6QAAib4BAL2lAQBcngAA/TEBANSkAQDt6wAAe/MAAEVOAQDLMQEAfBIBAERDAQDv3QAA1bkAAO8RAQDTewAABHkBAKpcAQCyfgAAOjYBAHwkAQA9vgAAf5cAAIZDAQDgBAEA8XcBAJGeAQAargAAfwQBAPrzAACiegAAliUBAPZ+AQB4OAEA88kBAFGCAQBmnQEAHIwAAGUKAQArcwEAVQIBAHp6AQC/tQAAAfQAAAX1AAAE6wAAstIAAIeNAAD7igEAF0EBALMQAQDrkAEAJ+UAAO7aAADMBAEAvJ0AAKSiAQBv0QAAJ/gAADLeAADpRgEAug0BABjvAAA+ygAAniUBAPSGAQC6qwEAlSsBADvLAQDAEAEABrMBAEyuAACiqAEAxsUAAFoFAQAgiwEAZyoBAFw9AQDDAAEApmEBAH7qAAA1ewEA9McAACXcAADghgAADwkBAGX7AAACwQAAnSsBAG+FAQBfoAEAQHUBAAEAAQCmvQAAYjIBAL0vAQCB0gAAwS0BAG+zAAC5qgEAKGMBAO+5AADOTgEARKoAAInLAQDfTwEAYE4BAGJnAQCiVQEAJpIBAJPXAAC3HQEAc5wBAA4MAQBqcAEAOJcBAJk0AQAwrAAABVEBAGFLAQCBjQEA0OQAAEdiAQCRjwEATrIAACdIAQAadQEA2ocAALh2AAC3wwAAnqEAAG3IAQC43gAAYwQBAG48AQA81gAAR6MAAPtRAQD/kwEAE5oBAJ7EAQBEsQEAxfIAAORGAQBHyQAACM4AAN1rAQD5igAAxGkBAJiIAQDIlQAAiNgAAI1pAQAi4wAAxNIBAKGcAQDExgEAY3cBABtNAQBarQEAmqYAACK+AQBazgEAiacAACm3AQBUsgAA6PcAAEx2AQDXygEApqMAAGIvAQCVJwEA7WIBAHuuAQCBoAAADG0BAGc+AQD1vQEAyMsAANE0AQBw5gAAD8UAAC7AAAACfAAAX0UBAOd8AACUlQAAMtoAAC9iAQDaEAEANvcAAKr5AAAwtAAAsycBAC95AQC0gQAAa5oAAPOtAQB3eAAANaABAPaOAAAqLQEAn/QAAFYbAQCwaAEAlYUBAAaBAQBoZAEA9GsBAITBAQA7igAALLUAAHm9AABDigEAvEUBABd7AAByhAAAKokAAGCRAQDM8AAAf9MBAK0yAQDXLAEAy+8AAJyeAQA/GgEAXZcBAEHPAQAnzAAABrwAAC33AABn4AAAOHgAADFMAQDOogEAcj4BAEr1AABZvAAAqfoAAM3CAQBB/gAAu+8AAD8BAQDmwQEAMBcBAI3/AABG5wAAfJcAAKa9AACLZwEAYqwBAO1kAQBO+QAAQs8BAFFQAQBvxQAAuvUAAOyuAABKrwEAQfAAAKwkAQBAtQAAPcgBABQSAQBUrwEAAJ0AAMKMAACxmQAAYh4BAC4TAQAx1gAA5sMBACZ8AABgUgEACBYBAN8AAQAzHAEAjbEBAJI4AQBfMQEAZpcAAPW2AAD4oQEAHKkAAFu5AAC4sQAAgqcBACxUAQDsqgEAKtYAAHyoAQB+tQAA3c0AAOmmAQDMZwEAmdcAAHM1AQCsVgEA0IsBACPNAABG3QAAs6YBAJHmAAAPzAEAy5QAACGKAQC/wgAAVP0AAAU1AQB1zgAA/tkAAPLQAABQRgEAUOkAAGMCAQAojgEAqPsAACZnAQAxBQEAup4BAFl9AABsoAEAlVwBAGfqAAC0nwAASE4BAG+IAQAv0gEAK1UBAAZnAQBAggEAZz0BAEFKAQDCdwEAGx8BAC2SAAANKgEAQYEAAAdTAQBtewEAaRQBADooAQC96gAABK0BAPHKAADdkwAAH0IBAP0pAQCR5AAAQ7sBANo9AQCxzwEAbugAAMB3AQCAHwEAn8ABALgaAQD5fgEAiEIBALA2AQA8ugAAitwAAG0IAQCgjAEAK60AAI3OAQAlswAAjLsBAGCNAAAWgwAA1xkBAJvAAQCEjwEARNQBAHNhAQA2uwEAzIkAAMeTAAA+lQAAseoAAPM6AQBE8QAA1xgBADyQAAAbnAAAE7MBAIytAACoYQEAQbkBAE2RAAAFpgEAx7gAADaPAQDKKwEAg9cAAE3wAABmrgAAGSwBAK1yAQDttAEAOigBAOpgAQA3fgAAOGYBAGl5AACEWwEAxM4BAHZeAQCuHAEAx9MAALxzAQAFmQEAxPIAAAvsAAA6KQEAjVMBAJjIAQBImwEAx90AAHHCAQAyMgEABSMBADhAAQDqiQAATJAAAK7gAADfqgAA9LMBAHYfAQA5MgEA3PUAAC6bAQBenAAAcJQAAIZGAQB/sQEA1XwAAJGCAADyTgEA8zcBACS4AQBlNwEAAPoAADjIAADOqwAAZ8YAAAidAACX9wAAsmgBAPFNAQDRqwAA2ZgBAI1kAQCZ6wAAW1cBACOuAABTjQEAdE0BADdYAQAl6wAAuI0BAOlIAQBJDgEA8w4BAFFbAQDtzgAAb6oBAOR4AAA/oAAAFlEBACIBAQD0vgEANJYBAGrQAABlsgEAXZQBAHCfAQBQjgAAM7AAAGavAAAKvQEAq7ABAC/9AADqoQAAgr8BAOh5AQCdJgEAErkBAExHAQBQMgEAKJABAAacAQDvEwEAWPkAABSMAQADaAEATW0BANH2AAD2owEAtr0BAIPfAABL4wAAeGkBADN+AQCnaQEA/yoBAFjoAABUxgEAlYUAAHU/AQAUnQAA3+8AAECcAQD1fwAAAcUAAFWfAQAm3wAAu2sBAByiAQCY1AEATtoAAPojAQAUBgEAZ4MBAMWXAQANjAEAo5IAAFW/AQAgOQEAgcQAADlBAQC4sAAA5dABAIEmAQC53gAA7hgBAFuwAADOigEAnEEBANCCAADo7QAA0DIBAPPyAACBqAEACLAAABmZAQCm6gAAe4UAAHQXAQBFrAEA+psAACCSAACarwEAEjoBAH9aAQCW8wAASaQBAAaaAQBenQEA1/MAABqRAADd1AAAGscBAMuCAQAmhQEA5rkBAOHgAADhJgEAMvkAABWXAACpPwEAlUwBAAiXAQBohQAAEjcBAIBDAQB50QAA3q0BAMWSAADtOQEANmgBAKy5AQB8VQEATk0BAOE7AQDnmAAA2pABAN+tAQAP4gAApr4BACDYAADy0gAAVSABAOePAQBHsgEAHqoBACQkAQA5NgEArAABAMW1AAD8AAEAlI8AABIuAQBCqwEAqF4BAAPEAACuLgEAmA0BAJcBAQDWIQEAzHUBANchAQBlLgEA3bgAAAjtAABudAEAG5kAAMKZAADKpAAANA4BAHm0AAD6agEAO+oAAKZ2AADqOQEAlG4BAOtrAQCqPQEA2P0AAF9dAQCQ0QAAQL8BAJDMAQDEPAEAcp4AAN7oAAAK4wAA9xgBAPK8AAAKnAAAqjQBAF+OAAAk7gAAAoYBACiuAAAA4wAATJ8BADCpAQAslwEAEMABAJEWAQBaHQEAMo4AAEx0AQB2DAEAH1cBAAkTAQAJSAEA7iEBAG/BAQCgywAAIKgAAOc2AQBuKAEAYpIAAH9YAQDVtgEAb2MBAGRbAQBmsgAAJ3gBAIc5AQChSgEARcwBABqhAADziQEAdc0BACt2AQDKDwEAGYAAAKOeAQCdfwAA99gAAEGFAQCAmQEAgDoBAJgUAQD7dwEAHLYBAB13AAA+swEAPokAAJe8AACo1gAAGeAAAGAOAQCgOQEArSEBAIbPAADP0QAAo7sAAFarAAAtnAAACJwBAFYxAQDynwEAFHoAALd6AAAQFAEAGaAAALNtAQAQwQEAodIAAFABAQBzMAEA0LkAAPHyAAB76gAAyasBAJM8AQB6wgEANMUAACTRAQDLrgAAx/EAAEuTAQAIIAEAsagBAIDWAABNAgEAm+0AAArIAQDH4gAAinsAAFMzAQDyjwEAQyMBALx1AQBQggAAoHEBADBgAQAYywEAV5wAACx9AADChgEAhAwBAC/EAACmWAEAR5wBAP6sAQDGOQEAKCEBAG2TAACqtgEA80EBAIc9AQDkPQEA+PoAALKMAQCZtAEAIAABAHjPAAALxwEAoGIBAFZ5AACNnAEAXbgAAJFWAQBZCgEAlZ8BALvcAAB5mQAA5jsBAPgVAQBI3gAAxckAAEYYAQCwmAEAKFwBAGnyAABkzgAA9IUAAOyIAACD7wAAyT8BAHJRAQDEbgEAFjYBALpyAQBRzQAAR7kAAKvYAABijQEA25gBAKXuAABMJQEAf74BAJaUAADPEwEAO7wAAHyrAABv5QAA97QBAFc/AQC3zgEA3u8AAI05AQAGbQEAtr8AACaBAQBWgwAAk0wBAGlKAQANzgAAsrQAAAjRAADsRwEA4a0AAJF9AAA0iwEAPPcAAB/bAAD/lAEAjJoAAM3uAAAqjgEAlNoAAGbBAQD/SgEAh9IBAIfUAQCyxwAASLgAAK3UAABFoAAA5nsBAGqpAAC8cgEAsfQAAG/aAADBYgEAlqIAAG60AADKjAAAsKMBAJwqAQBi0QEAzO4AAEuRAQBozgAA5KIAANKbAQCifwAAVBgBAOBrAQBQjwAAd0gBAJ9QAQDowwAArXABAJylAADq5wAA8ncBAOPeAADI1QAAcMEBABmpAABg9wAAiTwBAMgxAQCmbgEA1DUBAGEOAQBgqwEA/4cBAD5BAQDU0QEAunkBACuFAQCTvAAArZUBAPZFAQBPuQAA7IQBAHkZAQAIowAA5G4BADdGAQA/twAAgdcAAPunAACVEgEAbJQBAIDpAABY3QAAolIBAIqQAQDCwgEAQC0BAKlZAQCEygAAPH0BANXbAAA0QwEAnUkBAMwRAQD2bgEAugIBAJPRAADT5QAAhTQBAKewAQD2uAEAXcoBACglAQCHiAEAr1EBAGq3AADYlwEAlocBAOWhAQBBQAEANkwBAAKHAADXjQEA9SkBADmLAQC7yQAANssBAKEaAQAS9gAAwQEBAEJ3AQBPbgEADHYAAOEdAQBUeQEAyJAAAMTFAQB9qwEAXQcBADveAADfHgEA6NcAACQfAQBKtwEAF/IAAGijAQDnDwEASX0AAAufAQA="
          },
          "coloraxis": "coloraxis"
         },
         "name": "",
         "type": "parcoords"
        }
       ],
       "layout": {
        "template": {
         "data": {
          "histogram2dcontour": [
           {
            "type": "histogram2dcontour",
            "colorbar": {
             "outlinewidth": 0,
             "ticks": ""
            },
            "colorscale": [
             [
              0.0,
              "#0d0887"
             ],
             [
              0.1111111111111111,
              "#46039f"
             ],
             [
              0.2222222222222222,
              "#7201a8"
             ],
             [
              0.3333333333333333,
              "#9c179e"
             ],
             [
              0.4444444444444444,
              "#bd3786"
             ],
             [
              0.5555555555555556,
              "#d8576b"
             ],
             [
              0.6666666666666666,
              "#ed7953"
             ],
             [
              0.7777777777777778,
              "#fb9f3a"
             ],
             [
              0.8888888888888888,
              "#fdca26"
             ],
             [
              1.0,
              "#f0f921"
             ]
            ]
           }
          ],
          "choropleth": [
           {
            "type": "choropleth",
            "colorbar": {
             "outlinewidth": 0,
             "ticks": ""
            }
           }
          ],
          "histogram2d": [
           {
            "type": "histogram2d",
            "colorbar": {
             "outlinewidth": 0,
             "ticks": ""
            },
            "colorscale": [
             [
              0.0,
              "#0d0887"
             ],
             [
              0.1111111111111111,
              "#46039f"
             ],
             [
              0.2222222222222222,
              "#7201a8"
             ],
             [
              0.3333333333333333,
              "#9c179e"
             ],
             [
              0.4444444444444444,
              "#bd3786"
             ],
             [
              0.5555555555555556,
              "#d8576b"
             ],
             [
              0.6666666666666666,
              "#ed7953"
             ],
             [
              0.7777777777777778,
              "#fb9f3a"
             ],
             [
              0.8888888888888888,
              "#fdca26"
             ],
             [
              1.0,
              "#f0f921"
             ]
            ]
           }
          ],
          "heatmap": [
           {
            "type": "heatmap",
            "colorbar": {
             "outlinewidth": 0,
             "ticks": ""
            },
            "colorscale": [
             [
              0.0,
              "#0d0887"
             ],
             [
              0.1111111111111111,
              "#46039f"
             ],
             [
              0.2222222222222222,
              "#7201a8"
             ],
             [
              0.3333333333333333,
              "#9c179e"
             ],
             [
              0.4444444444444444,
              "#bd3786"
             ],
             [
              0.5555555555555556,
              "#d8576b"
             ],
             [
              0.6666666666666666,
              "#ed7953"
             ],
             [
              0.7777777777777778,
              "#fb9f3a"
             ],
             [
              0.8888888888888888,
              "#fdca26"
             ],
             [
              1.0,
              "#f0f921"
             ]
            ]
           }
          ],
          "contourcarpet": [
           {
            "type": "contourcarpet",
            "colorbar": {
             "outlinewidth": 0,
             "ticks": ""
            }
           }
          ],
          "contour": [
           {
            "type": "contour",
            "colorbar": {
             "outlinewidth": 0,
             "ticks": ""
            },
            "colorscale": [
             [
              0.0,
              "#0d0887"
             ],
             [
              0.1111111111111111,
              "#46039f"
             ],
             [
              0.2222222222222222,
              "#7201a8"
             ],
             [
              0.3333333333333333,
              "#9c179e"
             ],
             [
              0.4444444444444444,
              "#bd3786"
             ],
             [
              0.5555555555555556,
              "#d8576b"
             ],
             [
              0.6666666666666666,
              "#ed7953"
             ],
             [
              0.7777777777777778,
              "#fb9f3a"
             ],
             [
              0.8888888888888888,
              "#fdca26"
             ],
             [
              1.0,
              "#f0f921"
             ]
            ]
           }
          ],
          "surface": [
           {
            "type": "surface",
            "colorbar": {
             "outlinewidth": 0,
             "ticks": ""
            },
            "colorscale": [
             [
              0.0,
              "#0d0887"
             ],
             [
              0.1111111111111111,
              "#46039f"
             ],
             [
              0.2222222222222222,
              "#7201a8"
             ],
             [
              0.3333333333333333,
              "#9c179e"
             ],
             [
              0.4444444444444444,
              "#bd3786"
             ],
             [
              0.5555555555555556,
              "#d8576b"
             ],
             [
              0.6666666666666666,
              "#ed7953"
             ],
             [
              0.7777777777777778,
              "#fb9f3a"
             ],
             [
              0.8888888888888888,
              "#fdca26"
             ],
             [
              1.0,
              "#f0f921"
             ]
            ]
           }
          ],
          "mesh3d": [
           {
            "type": "mesh3d",
            "colorbar": {
             "outlinewidth": 0,
             "ticks": ""
            }
           }
          ],
          "scatter": [
           {
            "marker": {
             "line": {
              "color": "#283442"
             }
            },
            "type": "scatter"
           }
          ],
          "parcoords": [
           {
            "type": "parcoords",
            "line": {
             "colorbar": {
              "outlinewidth": 0,
              "ticks": ""
             }
            }
           }
          ],
          "scatterpolargl": [
           {
            "type": "scatterpolargl",
            "marker": {
             "colorbar": {
              "outlinewidth": 0,
              "ticks": ""
             }
            }
           }
          ],
          "bar": [
           {
            "error_x": {
             "color": "#f2f5fa"
            },
            "error_y": {
             "color": "#f2f5fa"
            },
            "marker": {
             "line": {
              "color": "rgb(17,17,17)",
              "width": 0.5
             },
             "pattern": {
              "fillmode": "overlay",
              "size": 10,
              "solidity": 0.2
             }
            },
            "type": "bar"
           }
          ],
          "scattergeo": [
           {
            "type": "scattergeo",
            "marker": {
             "colorbar": {
              "outlinewidth": 0,
              "ticks": ""
             }
            }
           }
          ],
          "scatterpolar": [
           {
            "type": "scatterpolar",
            "marker": {
             "colorbar": {
              "outlinewidth": 0,
              "ticks": ""
             }
            }
           }
          ],
          "histogram": [
           {
            "marker": {
             "pattern": {
              "fillmode": "overlay",
              "size": 10,
              "solidity": 0.2
             }
            },
            "type": "histogram"
           }
          ],
          "scattergl": [
           {
            "marker": {
             "line": {
              "color": "#283442"
             }
            },
            "type": "scattergl"
           }
          ],
          "scatter3d": [
           {
            "type": "scatter3d",
            "line": {
             "colorbar": {
              "outlinewidth": 0,
              "ticks": ""
             }
            },
            "marker": {
             "colorbar": {
              "outlinewidth": 0,
              "ticks": ""
             }
            }
           }
          ],
          "scattermap": [
           {
            "type": "scattermap",
            "marker": {
             "colorbar": {
              "outlinewidth": 0,
              "ticks": ""
             }
            }
           }
          ],
          "scattermapbox": [
           {
            "type": "scattermapbox",
            "marker": {
             "colorbar": {
              "outlinewidth": 0,
              "ticks": ""
             }
            }
           }
          ],
          "scatterternary": [
           {
            "type": "scatterternary",
            "marker": {
             "colorbar": {
              "outlinewidth": 0,
              "ticks": ""
             }
            }
           }
          ],
          "scattercarpet": [
           {
            "type": "scattercarpet",
            "marker": {
             "colorbar": {
              "outlinewidth": 0,
              "ticks": ""
             }
            }
           }
          ],
          "carpet": [
           {
            "aaxis": {
             "endlinecolor": "#A2B1C6",
             "gridcolor": "#506784",
             "linecolor": "#506784",
             "minorgridcolor": "#506784",
             "startlinecolor": "#A2B1C6"
            },
            "baxis": {
             "endlinecolor": "#A2B1C6",
             "gridcolor": "#506784",
             "linecolor": "#506784",
             "minorgridcolor": "#506784",
             "startlinecolor": "#A2B1C6"
            },
            "type": "carpet"
           }
          ],
          "table": [
           {
            "cells": {
             "fill": {
              "color": "#506784"
             },
             "line": {
              "color": "rgb(17,17,17)"
             }
            },
            "header": {
             "fill": {
              "color": "#2a3f5f"
             },
             "line": {
              "color": "rgb(17,17,17)"
             }
            },
            "type": "table"
           }
          ],
          "barpolar": [
           {
            "marker": {
             "line": {
              "color": "rgb(17,17,17)",
              "width": 0.5
             },
             "pattern": {
              "fillmode": "overlay",
              "size": 10,
              "solidity": 0.2
             }
            },
            "type": "barpolar"
           }
          ],
          "pie": [
           {
            "automargin": true,
            "type": "pie"
           }
          ]
         },
         "layout": {
          "autotypenumbers": "strict",
          "colorway": [
           "#636efa",
           "#EF553B",
           "#00cc96",
           "#ab63fa",
           "#FFA15A",
           "#19d3f3",
           "#FF6692",
           "#B6E880",
           "#FF97FF",
           "#FECB52"
          ],
          "font": {
           "color": "#f2f5fa"
          },
          "hovermode": "closest",
          "hoverlabel": {
           "align": "left"
          },
          "paper_bgcolor": "rgb(17,17,17)",
          "plot_bgcolor": "rgb(17,17,17)",
          "polar": {
           "bgcolor": "rgb(17,17,17)",
           "angularaxis": {
            "gridcolor": "#506784",
            "linecolor": "#506784",
            "ticks": ""
           },
           "radialaxis": {
            "gridcolor": "#506784",
            "linecolor": "#506784",
            "ticks": ""
           }
          },
          "ternary": {
           "bgcolor": "rgb(17,17,17)",
           "aaxis": {
            "gridcolor": "#506784",
            "linecolor": "#506784",
            "ticks": ""
           },
           "baxis": {
            "gridcolor": "#506784",
            "linecolor": "#506784",
            "ticks": ""
           },
           "caxis": {
            "gridcolor": "#506784",
            "linecolor": "#506784",
            "ticks": ""
           }
          },
          "coloraxis": {
           "colorbar": {
            "outlinewidth": 0,
            "ticks": ""
           }
          },
          "colorscale": {
           "sequential": [
            [
             0.0,
             "#0d0887"
            ],
            [
             0.1111111111111111,
             "#46039f"
            ],
            [
             0.2222222222222222,
             "#7201a8"
            ],
            [
             0.3333333333333333,
             "#9c179e"
            ],
            [
             0.4444444444444444,
             "#bd3786"
            ],
            [
             0.5555555555555556,
             "#d8576b"
            ],
            [
             0.6666666666666666,
             "#ed7953"
            ],
            [
             0.7777777777777778,
             "#fb9f3a"
            ],
            [
             0.8888888888888888,
             "#fdca26"
            ],
            [
             1.0,
             "#f0f921"
            ]
           ],
           "sequentialminus": [
            [
             0.0,
             "#0d0887"
            ],
            [
             0.1111111111111111,
             "#46039f"
            ],
            [
             0.2222222222222222,
             "#7201a8"
            ],
            [
             0.3333333333333333,
             "#9c179e"
            ],
            [
             0.4444444444444444,
             "#bd3786"
            ],
            [
             0.5555555555555556,
             "#d8576b"
            ],
            [
             0.6666666666666666,
             "#ed7953"
            ],
            [
             0.7777777777777778,
             "#fb9f3a"
            ],
            [
             0.8888888888888888,
             "#fdca26"
            ],
            [
             1.0,
             "#f0f921"
            ]
           ],
           "diverging": [
            [
             0,
             "#8e0152"
            ],
            [
             0.1,
             "#c51b7d"
            ],
            [
             0.2,
             "#de77ae"
            ],
            [
             0.3,
             "#f1b6da"
            ],
            [
             0.4,
             "#fde0ef"
            ],
            [
             0.5,
             "#f7f7f7"
            ],
            [
             0.6,
             "#e6f5d0"
            ],
            [
             0.7,
             "#b8e186"
            ],
            [
             0.8,
             "#7fbc41"
            ],
            [
             0.9,
             "#4d9221"
            ],
            [
             1,
             "#276419"
            ]
           ]
          },
          "xaxis": {
           "gridcolor": "#283442",
           "linecolor": "#506784",
           "ticks": "",
           "title": {
            "standoff": 15
           },
           "zerolinecolor": "#283442",
           "automargin": true,
           "zerolinewidth": 2
          },
          "yaxis": {
           "gridcolor": "#283442",
           "linecolor": "#506784",
           "ticks": "",
           "title": {
            "standoff": 15
           },
           "zerolinecolor": "#283442",
           "automargin": true,
           "zerolinewidth": 2
          },
          "scene": {
           "xaxis": {
            "backgroundcolor": "rgb(17,17,17)",
            "gridcolor": "#506784",
            "linecolor": "#506784",
            "showbackground": true,
            "ticks": "",
            "zerolinecolor": "#C8D4E3",
            "gridwidth": 2
           },
           "yaxis": {
            "backgroundcolor": "rgb(17,17,17)",
            "gridcolor": "#506784",
            "linecolor": "#506784",
            "showbackground": true,
            "ticks": "",
            "zerolinecolor": "#C8D4E3",
            "gridwidth": 2
           },
           "zaxis": {
            "backgroundcolor": "rgb(17,17,17)",
            "gridcolor": "#506784",
            "linecolor": "#506784",
            "showbackground": true,
            "ticks": "",
            "zerolinecolor": "#C8D4E3",
            "gridwidth": 2
           }
          },
          "shapedefaults": {
           "line": {
            "color": "#f2f5fa"
           }
          },
          "annotationdefaults": {
           "arrowcolor": "#f2f5fa",
           "arrowhead": 0,
           "arrowwidth": 1
          },
          "geo": {
           "bgcolor": "rgb(17,17,17)",
           "landcolor": "rgb(17,17,17)",
           "subunitcolor": "#506784",
           "showland": true,
           "showlakes": true,
           "lakecolor": "rgb(17,17,17)"
          },
          "title": {
           "x": 0.05
          },
          "updatemenudefaults": {
           "bgcolor": "#506784",
           "borderwidth": 0
          },
          "sliderdefaults": {
           "bgcolor": "#C8D4E3",
           "borderwidth": 1,
           "bordercolor": "rgb(17,17,17)",
           "tickwidth": 0
          },
          "mapbox": {
           "style": "dark"
          }
         }
        },
        "coloraxis": {
         "colorbar": {
          "title": {
           "text": "Price_USD"
          }
         },
         "colorscale": [
          [
           0.0,
           "#0d0887"
          ],
          [
           0.1111111111111111,
           "#46039f"
          ],
          [
           0.2222222222222222,
           "#7201a8"
          ],
          [
           0.3333333333333333,
           "#9c179e"
          ],
          [
           0.4444444444444444,
           "#bd3786"
          ],
          [
           0.5555555555555556,
           "#d8576b"
          ],
          [
           0.6666666666666666,
           "#ed7953"
          ],
          [
           0.7777777777777778,
           "#fb9f3a"
          ],
          [
           0.8888888888888888,
           "#fdca26"
          ],
          [
           1.0,
           "#f0f921"
          ]
         ]
        },
        "legend": {
         "tracegroupgap": 0
        },
        "title": {
         "text": "PARALLEL PLOT"
        }
       },
       "config": {
        "plotlyServerURL": "https://plot.ly"
       }
      }
     },
     "metadata": {},
     "output_type": "display_data"
    }
   ],
   "execution_count": 15
  },
  {
   "metadata": {
    "ExecuteTime": {
     "end_time": "2025-07-16T14:31:43.818623Z",
     "start_time": "2025-07-16T14:31:43.787915Z"
    }
   },
   "cell_type": "code",
   "outputs": [
    {
     "data": {
      "application/vnd.plotly.v1+json": {
       "data": [
        {
         "hovertemplate": "Color=%{x}<br>Sales_Volume=%{text}<extra></extra>",
         "legendgroup": "Silver",
         "marker": {
          "color": "#636efa",
          "pattern": {
           "shape": ""
          }
         },
         "name": "Silver",
         "orientation": "v",
         "showlegend": true,
         "text": {
          "dtype": "f8",
          "bdata": "AAAAwIMSUUE="
         },
         "textposition": "auto",
         "x": [
          "Silver"
         ],
         "xaxis": "x",
         "y": {
          "dtype": "i4",
          "bdata": "D0pEAA=="
         },
         "yaxis": "y",
         "type": "bar"
        },
        {
         "hovertemplate": "Color=%{x}<br>Sales_Volume=%{text}<extra></extra>",
         "legendgroup": "Grey",
         "marker": {
          "color": "#EF553B",
          "pattern": {
           "shape": ""
          }
         },
         "name": "Grey",
         "orientation": "v",
         "showlegend": true,
         "text": {
          "dtype": "f8",
          "bdata": "AAAAAD3oUEE="
         },
         "textposition": "auto",
         "x": [
          "Grey"
         ],
         "xaxis": "x",
         "y": {
          "dtype": "i4",
          "bdata": "9KBDAA=="
         },
         "yaxis": "y",
         "type": "bar"
        },
        {
         "hovertemplate": "Color=%{x}<br>Sales_Volume=%{text}<extra></extra>",
         "legendgroup": "Black",
         "marker": {
          "color": "#00cc96",
          "pattern": {
           "shape": ""
          }
         },
         "name": "Black",
         "orientation": "v",
         "showlegend": true,
         "text": {
          "dtype": "f8",
          "bdata": "AAAAQKfOUEE="
         },
         "textposition": "auto",
         "x": [
          "Black"
         ],
         "xaxis": "x",
         "y": {
          "dtype": "i4",
          "bdata": "nTpDAA=="
         },
         "yaxis": "y",
         "type": "bar"
        },
        {
         "hovertemplate": "Color=%{x}<br>Sales_Volume=%{text}<extra></extra>",
         "legendgroup": "White",
         "marker": {
          "color": "#ab63fa",
          "pattern": {
           "shape": ""
          }
         },
         "name": "White",
         "orientation": "v",
         "showlegend": true,
         "text": {
          "dtype": "f8",
          "bdata": "AAAAgJR8T0E="
         },
         "textposition": "auto",
         "x": [
          "White"
         ],
         "xaxis": "x",
         "y": {
          "dtype": "i4",
          "bdata": "Kfk+AA=="
         },
         "yaxis": "y",
         "type": "bar"
        },
        {
         "hovertemplate": "Color=%{x}<br>Sales_Volume=%{text}<extra></extra>",
         "legendgroup": "Blue",
         "marker": {
          "color": "#FFA15A",
          "pattern": {
           "shape": ""
          }
         },
         "name": "Blue",
         "orientation": "v",
         "showlegend": true,
         "text": {
          "dtype": "f8",
          "bdata": "AAAAAAB0T0E="
         },
         "textposition": "auto",
         "x": [
          "Blue"
         ],
         "xaxis": "x",
         "y": {
          "dtype": "i4",
          "bdata": "AOg+AA=="
         },
         "yaxis": "y",
         "type": "bar"
        },
        {
         "hovertemplate": "Color=%{x}<br>Sales_Volume=%{text}<extra></extra>",
         "legendgroup": "Red",
         "marker": {
          "color": "#19d3f3",
          "pattern": {
           "shape": ""
          }
         },
         "name": "Red",
         "orientation": "v",
         "showlegend": true,
         "text": {
          "dtype": "f8",
          "bdata": "AAAAgOhrT0E="
         },
         "textposition": "auto",
         "x": [
          "Red"
         ],
         "xaxis": "x",
         "y": {
          "dtype": "i4",
          "bdata": "0dc+AA=="
         },
         "yaxis": "y",
         "type": "bar"
        }
       ],
       "layout": {
        "template": {
         "data": {
          "histogram2dcontour": [
           {
            "type": "histogram2dcontour",
            "colorbar": {
             "outlinewidth": 0,
             "ticks": ""
            },
            "colorscale": [
             [
              0.0,
              "#0d0887"
             ],
             [
              0.1111111111111111,
              "#46039f"
             ],
             [
              0.2222222222222222,
              "#7201a8"
             ],
             [
              0.3333333333333333,
              "#9c179e"
             ],
             [
              0.4444444444444444,
              "#bd3786"
             ],
             [
              0.5555555555555556,
              "#d8576b"
             ],
             [
              0.6666666666666666,
              "#ed7953"
             ],
             [
              0.7777777777777778,
              "#fb9f3a"
             ],
             [
              0.8888888888888888,
              "#fdca26"
             ],
             [
              1.0,
              "#f0f921"
             ]
            ]
           }
          ],
          "choropleth": [
           {
            "type": "choropleth",
            "colorbar": {
             "outlinewidth": 0,
             "ticks": ""
            }
           }
          ],
          "histogram2d": [
           {
            "type": "histogram2d",
            "colorbar": {
             "outlinewidth": 0,
             "ticks": ""
            },
            "colorscale": [
             [
              0.0,
              "#0d0887"
             ],
             [
              0.1111111111111111,
              "#46039f"
             ],
             [
              0.2222222222222222,
              "#7201a8"
             ],
             [
              0.3333333333333333,
              "#9c179e"
             ],
             [
              0.4444444444444444,
              "#bd3786"
             ],
             [
              0.5555555555555556,
              "#d8576b"
             ],
             [
              0.6666666666666666,
              "#ed7953"
             ],
             [
              0.7777777777777778,
              "#fb9f3a"
             ],
             [
              0.8888888888888888,
              "#fdca26"
             ],
             [
              1.0,
              "#f0f921"
             ]
            ]
           }
          ],
          "heatmap": [
           {
            "type": "heatmap",
            "colorbar": {
             "outlinewidth": 0,
             "ticks": ""
            },
            "colorscale": [
             [
              0.0,
              "#0d0887"
             ],
             [
              0.1111111111111111,
              "#46039f"
             ],
             [
              0.2222222222222222,
              "#7201a8"
             ],
             [
              0.3333333333333333,
              "#9c179e"
             ],
             [
              0.4444444444444444,
              "#bd3786"
             ],
             [
              0.5555555555555556,
              "#d8576b"
             ],
             [
              0.6666666666666666,
              "#ed7953"
             ],
             [
              0.7777777777777778,
              "#fb9f3a"
             ],
             [
              0.8888888888888888,
              "#fdca26"
             ],
             [
              1.0,
              "#f0f921"
             ]
            ]
           }
          ],
          "contourcarpet": [
           {
            "type": "contourcarpet",
            "colorbar": {
             "outlinewidth": 0,
             "ticks": ""
            }
           }
          ],
          "contour": [
           {
            "type": "contour",
            "colorbar": {
             "outlinewidth": 0,
             "ticks": ""
            },
            "colorscale": [
             [
              0.0,
              "#0d0887"
             ],
             [
              0.1111111111111111,
              "#46039f"
             ],
             [
              0.2222222222222222,
              "#7201a8"
             ],
             [
              0.3333333333333333,
              "#9c179e"
             ],
             [
              0.4444444444444444,
              "#bd3786"
             ],
             [
              0.5555555555555556,
              "#d8576b"
             ],
             [
              0.6666666666666666,
              "#ed7953"
             ],
             [
              0.7777777777777778,
              "#fb9f3a"
             ],
             [
              0.8888888888888888,
              "#fdca26"
             ],
             [
              1.0,
              "#f0f921"
             ]
            ]
           }
          ],
          "surface": [
           {
            "type": "surface",
            "colorbar": {
             "outlinewidth": 0,
             "ticks": ""
            },
            "colorscale": [
             [
              0.0,
              "#0d0887"
             ],
             [
              0.1111111111111111,
              "#46039f"
             ],
             [
              0.2222222222222222,
              "#7201a8"
             ],
             [
              0.3333333333333333,
              "#9c179e"
             ],
             [
              0.4444444444444444,
              "#bd3786"
             ],
             [
              0.5555555555555556,
              "#d8576b"
             ],
             [
              0.6666666666666666,
              "#ed7953"
             ],
             [
              0.7777777777777778,
              "#fb9f3a"
             ],
             [
              0.8888888888888888,
              "#fdca26"
             ],
             [
              1.0,
              "#f0f921"
             ]
            ]
           }
          ],
          "mesh3d": [
           {
            "type": "mesh3d",
            "colorbar": {
             "outlinewidth": 0,
             "ticks": ""
            }
           }
          ],
          "scatter": [
           {
            "marker": {
             "line": {
              "color": "#283442"
             }
            },
            "type": "scatter"
           }
          ],
          "parcoords": [
           {
            "type": "parcoords",
            "line": {
             "colorbar": {
              "outlinewidth": 0,
              "ticks": ""
             }
            }
           }
          ],
          "scatterpolargl": [
           {
            "type": "scatterpolargl",
            "marker": {
             "colorbar": {
              "outlinewidth": 0,
              "ticks": ""
             }
            }
           }
          ],
          "bar": [
           {
            "error_x": {
             "color": "#f2f5fa"
            },
            "error_y": {
             "color": "#f2f5fa"
            },
            "marker": {
             "line": {
              "color": "rgb(17,17,17)",
              "width": 0.5
             },
             "pattern": {
              "fillmode": "overlay",
              "size": 10,
              "solidity": 0.2
             }
            },
            "type": "bar"
           }
          ],
          "scattergeo": [
           {
            "type": "scattergeo",
            "marker": {
             "colorbar": {
              "outlinewidth": 0,
              "ticks": ""
             }
            }
           }
          ],
          "scatterpolar": [
           {
            "type": "scatterpolar",
            "marker": {
             "colorbar": {
              "outlinewidth": 0,
              "ticks": ""
             }
            }
           }
          ],
          "histogram": [
           {
            "marker": {
             "pattern": {
              "fillmode": "overlay",
              "size": 10,
              "solidity": 0.2
             }
            },
            "type": "histogram"
           }
          ],
          "scattergl": [
           {
            "marker": {
             "line": {
              "color": "#283442"
             }
            },
            "type": "scattergl"
           }
          ],
          "scatter3d": [
           {
            "type": "scatter3d",
            "line": {
             "colorbar": {
              "outlinewidth": 0,
              "ticks": ""
             }
            },
            "marker": {
             "colorbar": {
              "outlinewidth": 0,
              "ticks": ""
             }
            }
           }
          ],
          "scattermap": [
           {
            "type": "scattermap",
            "marker": {
             "colorbar": {
              "outlinewidth": 0,
              "ticks": ""
             }
            }
           }
          ],
          "scattermapbox": [
           {
            "type": "scattermapbox",
            "marker": {
             "colorbar": {
              "outlinewidth": 0,
              "ticks": ""
             }
            }
           }
          ],
          "scatterternary": [
           {
            "type": "scatterternary",
            "marker": {
             "colorbar": {
              "outlinewidth": 0,
              "ticks": ""
             }
            }
           }
          ],
          "scattercarpet": [
           {
            "type": "scattercarpet",
            "marker": {
             "colorbar": {
              "outlinewidth": 0,
              "ticks": ""
             }
            }
           }
          ],
          "carpet": [
           {
            "aaxis": {
             "endlinecolor": "#A2B1C6",
             "gridcolor": "#506784",
             "linecolor": "#506784",
             "minorgridcolor": "#506784",
             "startlinecolor": "#A2B1C6"
            },
            "baxis": {
             "endlinecolor": "#A2B1C6",
             "gridcolor": "#506784",
             "linecolor": "#506784",
             "minorgridcolor": "#506784",
             "startlinecolor": "#A2B1C6"
            },
            "type": "carpet"
           }
          ],
          "table": [
           {
            "cells": {
             "fill": {
              "color": "#506784"
             },
             "line": {
              "color": "rgb(17,17,17)"
             }
            },
            "header": {
             "fill": {
              "color": "#2a3f5f"
             },
             "line": {
              "color": "rgb(17,17,17)"
             }
            },
            "type": "table"
           }
          ],
          "barpolar": [
           {
            "marker": {
             "line": {
              "color": "rgb(17,17,17)",
              "width": 0.5
             },
             "pattern": {
              "fillmode": "overlay",
              "size": 10,
              "solidity": 0.2
             }
            },
            "type": "barpolar"
           }
          ],
          "pie": [
           {
            "automargin": true,
            "type": "pie"
           }
          ]
         },
         "layout": {
          "autotypenumbers": "strict",
          "colorway": [
           "#636efa",
           "#EF553B",
           "#00cc96",
           "#ab63fa",
           "#FFA15A",
           "#19d3f3",
           "#FF6692",
           "#B6E880",
           "#FF97FF",
           "#FECB52"
          ],
          "font": {
           "color": "#f2f5fa"
          },
          "hovermode": "closest",
          "hoverlabel": {
           "align": "left"
          },
          "paper_bgcolor": "rgb(17,17,17)",
          "plot_bgcolor": "rgb(17,17,17)",
          "polar": {
           "bgcolor": "rgb(17,17,17)",
           "angularaxis": {
            "gridcolor": "#506784",
            "linecolor": "#506784",
            "ticks": ""
           },
           "radialaxis": {
            "gridcolor": "#506784",
            "linecolor": "#506784",
            "ticks": ""
           }
          },
          "ternary": {
           "bgcolor": "rgb(17,17,17)",
           "aaxis": {
            "gridcolor": "#506784",
            "linecolor": "#506784",
            "ticks": ""
           },
           "baxis": {
            "gridcolor": "#506784",
            "linecolor": "#506784",
            "ticks": ""
           },
           "caxis": {
            "gridcolor": "#506784",
            "linecolor": "#506784",
            "ticks": ""
           }
          },
          "coloraxis": {
           "colorbar": {
            "outlinewidth": 0,
            "ticks": ""
           }
          },
          "colorscale": {
           "sequential": [
            [
             0.0,
             "#0d0887"
            ],
            [
             0.1111111111111111,
             "#46039f"
            ],
            [
             0.2222222222222222,
             "#7201a8"
            ],
            [
             0.3333333333333333,
             "#9c179e"
            ],
            [
             0.4444444444444444,
             "#bd3786"
            ],
            [
             0.5555555555555556,
             "#d8576b"
            ],
            [
             0.6666666666666666,
             "#ed7953"
            ],
            [
             0.7777777777777778,
             "#fb9f3a"
            ],
            [
             0.8888888888888888,
             "#fdca26"
            ],
            [
             1.0,
             "#f0f921"
            ]
           ],
           "sequentialminus": [
            [
             0.0,
             "#0d0887"
            ],
            [
             0.1111111111111111,
             "#46039f"
            ],
            [
             0.2222222222222222,
             "#7201a8"
            ],
            [
             0.3333333333333333,
             "#9c179e"
            ],
            [
             0.4444444444444444,
             "#bd3786"
            ],
            [
             0.5555555555555556,
             "#d8576b"
            ],
            [
             0.6666666666666666,
             "#ed7953"
            ],
            [
             0.7777777777777778,
             "#fb9f3a"
            ],
            [
             0.8888888888888888,
             "#fdca26"
            ],
            [
             1.0,
             "#f0f921"
            ]
           ],
           "diverging": [
            [
             0,
             "#8e0152"
            ],
            [
             0.1,
             "#c51b7d"
            ],
            [
             0.2,
             "#de77ae"
            ],
            [
             0.3,
             "#f1b6da"
            ],
            [
             0.4,
             "#fde0ef"
            ],
            [
             0.5,
             "#f7f7f7"
            ],
            [
             0.6,
             "#e6f5d0"
            ],
            [
             0.7,
             "#b8e186"
            ],
            [
             0.8,
             "#7fbc41"
            ],
            [
             0.9,
             "#4d9221"
            ],
            [
             1,
             "#276419"
            ]
           ]
          },
          "xaxis": {
           "gridcolor": "#283442",
           "linecolor": "#506784",
           "ticks": "",
           "title": {
            "standoff": 15
           },
           "zerolinecolor": "#283442",
           "automargin": true,
           "zerolinewidth": 2
          },
          "yaxis": {
           "gridcolor": "#283442",
           "linecolor": "#506784",
           "ticks": "",
           "title": {
            "standoff": 15
           },
           "zerolinecolor": "#283442",
           "automargin": true,
           "zerolinewidth": 2
          },
          "scene": {
           "xaxis": {
            "backgroundcolor": "rgb(17,17,17)",
            "gridcolor": "#506784",
            "linecolor": "#506784",
            "showbackground": true,
            "ticks": "",
            "zerolinecolor": "#C8D4E3",
            "gridwidth": 2
           },
           "yaxis": {
            "backgroundcolor": "rgb(17,17,17)",
            "gridcolor": "#506784",
            "linecolor": "#506784",
            "showbackground": true,
            "ticks": "",
            "zerolinecolor": "#C8D4E3",
            "gridwidth": 2
           },
           "zaxis": {
            "backgroundcolor": "rgb(17,17,17)",
            "gridcolor": "#506784",
            "linecolor": "#506784",
            "showbackground": true,
            "ticks": "",
            "zerolinecolor": "#C8D4E3",
            "gridwidth": 2
           }
          },
          "shapedefaults": {
           "line": {
            "color": "#f2f5fa"
           }
          },
          "annotationdefaults": {
           "arrowcolor": "#f2f5fa",
           "arrowhead": 0,
           "arrowwidth": 1
          },
          "geo": {
           "bgcolor": "rgb(17,17,17)",
           "landcolor": "rgb(17,17,17)",
           "subunitcolor": "#506784",
           "showland": true,
           "showlakes": true,
           "lakecolor": "rgb(17,17,17)"
          },
          "title": {
           "x": 0.05
          },
          "updatemenudefaults": {
           "bgcolor": "#506784",
           "borderwidth": 0
          },
          "sliderdefaults": {
           "bgcolor": "#C8D4E3",
           "borderwidth": 1,
           "bordercolor": "rgb(17,17,17)",
           "tickwidth": 0
          },
          "mapbox": {
           "style": "dark"
          }
         }
        },
        "xaxis": {
         "anchor": "y",
         "domain": [
          0.0,
          1.0
         ],
         "title": {
          "text": "Color"
         },
         "categoryorder": "array",
         "categoryarray": [
          "Silver",
          "Grey",
          "Black",
          "White",
          "Blue",
          "Red"
         ]
        },
        "yaxis": {
         "anchor": "x",
         "domain": [
          0.0,
          1.0
         ],
         "title": {
          "text": "Sales_Volume"
         }
        },
        "legend": {
         "title": {
          "text": "Color"
         },
         "tracegroupgap": 0
        },
        "title": {
         "text": "Top 10 Best-Selling BMW Models"
        },
        "barmode": "relative"
       },
       "config": {
        "plotlyServerURL": "https://plot.ly"
       }
      }
     },
     "metadata": {},
     "output_type": "display_data"
    }
   ],
   "execution_count": 21,
   "source": [
    "# TOP SELLING COLORS\n",
    "df_colors=df.groupby(\"Color\")[\"Sales_Volume\"].sum().reset_index()\n",
    "df_colors = df_colors.sort_values(by=\"Sales_Volume\", ascending=False).head(10)\n",
    "fig = px.bar(\n",
    "    df_colors,\n",
    "    x=\"Color\",\n",
    "    y=\"Sales_Volume\",\n",
    "    title=\"Top 10 Best-Selling BMW Models\",\n",
    "    text=\"Sales_Volume\",\n",
    "    color=\"Color\",\n",
    ")\n",
    "fig.show()"
   ],
   "id": "d7a6b6b2a31d2d5f"
  },
  {
   "metadata": {
    "ExecuteTime": {
     "end_time": "2025-07-16T14:29:23.856185Z",
     "start_time": "2025-07-16T14:29:23.831764Z"
    }
   },
   "cell_type": "code",
   "source": [
    "# MOST BMW SELLS IN WHICH REGION\n",
    "df_region=df.groupby(\"Region\")[\"Sales_Volume\"].sum().reset_index()\n",
    "df_region = df_region.sort_values(by=\"Sales_Volume\", ascending=False)\n",
    "\n",
    "fig = px.pie(\n",
    "    df_region,\n",
    "    names=\"Region\",\n",
    "    values=\"Sales_Volume\",\n",
    "    title=\"BMW Sales Distribution by Region\",\n",
    "    hole=0.4  # donut-style\n",
    ")\n",
    "fig.show()"
   ],
   "id": "2b1ab72d3625db49",
   "outputs": [
    {
     "data": {
      "application/vnd.plotly.v1+json": {
       "data": [
        {
         "domain": {
          "x": [
           0.0,
           1.0
          ],
          "y": [
           0.0,
           1.0
          ]
         },
         "hole": 0.4,
         "hovertemplate": "Region=%{label}<br>Sales_Volume=%{value}<extra></extra>",
         "labels": [
          "Asia",
          "Middle East",
          "North America",
          "Europe",
          "South America",
          "Africa"
         ],
         "legendgroup": "",
         "name": "",
         "showlegend": true,
         "values": {
          "dtype": "i4",
          "bdata": "4QVGAEhVQgBWj0EA6RxBADrEPgD4Ej4A"
         },
         "type": "pie"
        }
       ],
       "layout": {
        "template": {
         "data": {
          "histogram2dcontour": [
           {
            "type": "histogram2dcontour",
            "colorbar": {
             "outlinewidth": 0,
             "ticks": ""
            },
            "colorscale": [
             [
              0.0,
              "#0d0887"
             ],
             [
              0.1111111111111111,
              "#46039f"
             ],
             [
              0.2222222222222222,
              "#7201a8"
             ],
             [
              0.3333333333333333,
              "#9c179e"
             ],
             [
              0.4444444444444444,
              "#bd3786"
             ],
             [
              0.5555555555555556,
              "#d8576b"
             ],
             [
              0.6666666666666666,
              "#ed7953"
             ],
             [
              0.7777777777777778,
              "#fb9f3a"
             ],
             [
              0.8888888888888888,
              "#fdca26"
             ],
             [
              1.0,
              "#f0f921"
             ]
            ]
           }
          ],
          "choropleth": [
           {
            "type": "choropleth",
            "colorbar": {
             "outlinewidth": 0,
             "ticks": ""
            }
           }
          ],
          "histogram2d": [
           {
            "type": "histogram2d",
            "colorbar": {
             "outlinewidth": 0,
             "ticks": ""
            },
            "colorscale": [
             [
              0.0,
              "#0d0887"
             ],
             [
              0.1111111111111111,
              "#46039f"
             ],
             [
              0.2222222222222222,
              "#7201a8"
             ],
             [
              0.3333333333333333,
              "#9c179e"
             ],
             [
              0.4444444444444444,
              "#bd3786"
             ],
             [
              0.5555555555555556,
              "#d8576b"
             ],
             [
              0.6666666666666666,
              "#ed7953"
             ],
             [
              0.7777777777777778,
              "#fb9f3a"
             ],
             [
              0.8888888888888888,
              "#fdca26"
             ],
             [
              1.0,
              "#f0f921"
             ]
            ]
           }
          ],
          "heatmap": [
           {
            "type": "heatmap",
            "colorbar": {
             "outlinewidth": 0,
             "ticks": ""
            },
            "colorscale": [
             [
              0.0,
              "#0d0887"
             ],
             [
              0.1111111111111111,
              "#46039f"
             ],
             [
              0.2222222222222222,
              "#7201a8"
             ],
             [
              0.3333333333333333,
              "#9c179e"
             ],
             [
              0.4444444444444444,
              "#bd3786"
             ],
             [
              0.5555555555555556,
              "#d8576b"
             ],
             [
              0.6666666666666666,
              "#ed7953"
             ],
             [
              0.7777777777777778,
              "#fb9f3a"
             ],
             [
              0.8888888888888888,
              "#fdca26"
             ],
             [
              1.0,
              "#f0f921"
             ]
            ]
           }
          ],
          "contourcarpet": [
           {
            "type": "contourcarpet",
            "colorbar": {
             "outlinewidth": 0,
             "ticks": ""
            }
           }
          ],
          "contour": [
           {
            "type": "contour",
            "colorbar": {
             "outlinewidth": 0,
             "ticks": ""
            },
            "colorscale": [
             [
              0.0,
              "#0d0887"
             ],
             [
              0.1111111111111111,
              "#46039f"
             ],
             [
              0.2222222222222222,
              "#7201a8"
             ],
             [
              0.3333333333333333,
              "#9c179e"
             ],
             [
              0.4444444444444444,
              "#bd3786"
             ],
             [
              0.5555555555555556,
              "#d8576b"
             ],
             [
              0.6666666666666666,
              "#ed7953"
             ],
             [
              0.7777777777777778,
              "#fb9f3a"
             ],
             [
              0.8888888888888888,
              "#fdca26"
             ],
             [
              1.0,
              "#f0f921"
             ]
            ]
           }
          ],
          "surface": [
           {
            "type": "surface",
            "colorbar": {
             "outlinewidth": 0,
             "ticks": ""
            },
            "colorscale": [
             [
              0.0,
              "#0d0887"
             ],
             [
              0.1111111111111111,
              "#46039f"
             ],
             [
              0.2222222222222222,
              "#7201a8"
             ],
             [
              0.3333333333333333,
              "#9c179e"
             ],
             [
              0.4444444444444444,
              "#bd3786"
             ],
             [
              0.5555555555555556,
              "#d8576b"
             ],
             [
              0.6666666666666666,
              "#ed7953"
             ],
             [
              0.7777777777777778,
              "#fb9f3a"
             ],
             [
              0.8888888888888888,
              "#fdca26"
             ],
             [
              1.0,
              "#f0f921"
             ]
            ]
           }
          ],
          "mesh3d": [
           {
            "type": "mesh3d",
            "colorbar": {
             "outlinewidth": 0,
             "ticks": ""
            }
           }
          ],
          "scatter": [
           {
            "marker": {
             "line": {
              "color": "#283442"
             }
            },
            "type": "scatter"
           }
          ],
          "parcoords": [
           {
            "type": "parcoords",
            "line": {
             "colorbar": {
              "outlinewidth": 0,
              "ticks": ""
             }
            }
           }
          ],
          "scatterpolargl": [
           {
            "type": "scatterpolargl",
            "marker": {
             "colorbar": {
              "outlinewidth": 0,
              "ticks": ""
             }
            }
           }
          ],
          "bar": [
           {
            "error_x": {
             "color": "#f2f5fa"
            },
            "error_y": {
             "color": "#f2f5fa"
            },
            "marker": {
             "line": {
              "color": "rgb(17,17,17)",
              "width": 0.5
             },
             "pattern": {
              "fillmode": "overlay",
              "size": 10,
              "solidity": 0.2
             }
            },
            "type": "bar"
           }
          ],
          "scattergeo": [
           {
            "type": "scattergeo",
            "marker": {
             "colorbar": {
              "outlinewidth": 0,
              "ticks": ""
             }
            }
           }
          ],
          "scatterpolar": [
           {
            "type": "scatterpolar",
            "marker": {
             "colorbar": {
              "outlinewidth": 0,
              "ticks": ""
             }
            }
           }
          ],
          "histogram": [
           {
            "marker": {
             "pattern": {
              "fillmode": "overlay",
              "size": 10,
              "solidity": 0.2
             }
            },
            "type": "histogram"
           }
          ],
          "scattergl": [
           {
            "marker": {
             "line": {
              "color": "#283442"
             }
            },
            "type": "scattergl"
           }
          ],
          "scatter3d": [
           {
            "type": "scatter3d",
            "line": {
             "colorbar": {
              "outlinewidth": 0,
              "ticks": ""
             }
            },
            "marker": {
             "colorbar": {
              "outlinewidth": 0,
              "ticks": ""
             }
            }
           }
          ],
          "scattermap": [
           {
            "type": "scattermap",
            "marker": {
             "colorbar": {
              "outlinewidth": 0,
              "ticks": ""
             }
            }
           }
          ],
          "scattermapbox": [
           {
            "type": "scattermapbox",
            "marker": {
             "colorbar": {
              "outlinewidth": 0,
              "ticks": ""
             }
            }
           }
          ],
          "scatterternary": [
           {
            "type": "scatterternary",
            "marker": {
             "colorbar": {
              "outlinewidth": 0,
              "ticks": ""
             }
            }
           }
          ],
          "scattercarpet": [
           {
            "type": "scattercarpet",
            "marker": {
             "colorbar": {
              "outlinewidth": 0,
              "ticks": ""
             }
            }
           }
          ],
          "carpet": [
           {
            "aaxis": {
             "endlinecolor": "#A2B1C6",
             "gridcolor": "#506784",
             "linecolor": "#506784",
             "minorgridcolor": "#506784",
             "startlinecolor": "#A2B1C6"
            },
            "baxis": {
             "endlinecolor": "#A2B1C6",
             "gridcolor": "#506784",
             "linecolor": "#506784",
             "minorgridcolor": "#506784",
             "startlinecolor": "#A2B1C6"
            },
            "type": "carpet"
           }
          ],
          "table": [
           {
            "cells": {
             "fill": {
              "color": "#506784"
             },
             "line": {
              "color": "rgb(17,17,17)"
             }
            },
            "header": {
             "fill": {
              "color": "#2a3f5f"
             },
             "line": {
              "color": "rgb(17,17,17)"
             }
            },
            "type": "table"
           }
          ],
          "barpolar": [
           {
            "marker": {
             "line": {
              "color": "rgb(17,17,17)",
              "width": 0.5
             },
             "pattern": {
              "fillmode": "overlay",
              "size": 10,
              "solidity": 0.2
             }
            },
            "type": "barpolar"
           }
          ],
          "pie": [
           {
            "automargin": true,
            "type": "pie"
           }
          ]
         },
         "layout": {
          "autotypenumbers": "strict",
          "colorway": [
           "#636efa",
           "#EF553B",
           "#00cc96",
           "#ab63fa",
           "#FFA15A",
           "#19d3f3",
           "#FF6692",
           "#B6E880",
           "#FF97FF",
           "#FECB52"
          ],
          "font": {
           "color": "#f2f5fa"
          },
          "hovermode": "closest",
          "hoverlabel": {
           "align": "left"
          },
          "paper_bgcolor": "rgb(17,17,17)",
          "plot_bgcolor": "rgb(17,17,17)",
          "polar": {
           "bgcolor": "rgb(17,17,17)",
           "angularaxis": {
            "gridcolor": "#506784",
            "linecolor": "#506784",
            "ticks": ""
           },
           "radialaxis": {
            "gridcolor": "#506784",
            "linecolor": "#506784",
            "ticks": ""
           }
          },
          "ternary": {
           "bgcolor": "rgb(17,17,17)",
           "aaxis": {
            "gridcolor": "#506784",
            "linecolor": "#506784",
            "ticks": ""
           },
           "baxis": {
            "gridcolor": "#506784",
            "linecolor": "#506784",
            "ticks": ""
           },
           "caxis": {
            "gridcolor": "#506784",
            "linecolor": "#506784",
            "ticks": ""
           }
          },
          "coloraxis": {
           "colorbar": {
            "outlinewidth": 0,
            "ticks": ""
           }
          },
          "colorscale": {
           "sequential": [
            [
             0.0,
             "#0d0887"
            ],
            [
             0.1111111111111111,
             "#46039f"
            ],
            [
             0.2222222222222222,
             "#7201a8"
            ],
            [
             0.3333333333333333,
             "#9c179e"
            ],
            [
             0.4444444444444444,
             "#bd3786"
            ],
            [
             0.5555555555555556,
             "#d8576b"
            ],
            [
             0.6666666666666666,
             "#ed7953"
            ],
            [
             0.7777777777777778,
             "#fb9f3a"
            ],
            [
             0.8888888888888888,
             "#fdca26"
            ],
            [
             1.0,
             "#f0f921"
            ]
           ],
           "sequentialminus": [
            [
             0.0,
             "#0d0887"
            ],
            [
             0.1111111111111111,
             "#46039f"
            ],
            [
             0.2222222222222222,
             "#7201a8"
            ],
            [
             0.3333333333333333,
             "#9c179e"
            ],
            [
             0.4444444444444444,
             "#bd3786"
            ],
            [
             0.5555555555555556,
             "#d8576b"
            ],
            [
             0.6666666666666666,
             "#ed7953"
            ],
            [
             0.7777777777777778,
             "#fb9f3a"
            ],
            [
             0.8888888888888888,
             "#fdca26"
            ],
            [
             1.0,
             "#f0f921"
            ]
           ],
           "diverging": [
            [
             0,
             "#8e0152"
            ],
            [
             0.1,
             "#c51b7d"
            ],
            [
             0.2,
             "#de77ae"
            ],
            [
             0.3,
             "#f1b6da"
            ],
            [
             0.4,
             "#fde0ef"
            ],
            [
             0.5,
             "#f7f7f7"
            ],
            [
             0.6,
             "#e6f5d0"
            ],
            [
             0.7,
             "#b8e186"
            ],
            [
             0.8,
             "#7fbc41"
            ],
            [
             0.9,
             "#4d9221"
            ],
            [
             1,
             "#276419"
            ]
           ]
          },
          "xaxis": {
           "gridcolor": "#283442",
           "linecolor": "#506784",
           "ticks": "",
           "title": {
            "standoff": 15
           },
           "zerolinecolor": "#283442",
           "automargin": true,
           "zerolinewidth": 2
          },
          "yaxis": {
           "gridcolor": "#283442",
           "linecolor": "#506784",
           "ticks": "",
           "title": {
            "standoff": 15
           },
           "zerolinecolor": "#283442",
           "automargin": true,
           "zerolinewidth": 2
          },
          "scene": {
           "xaxis": {
            "backgroundcolor": "rgb(17,17,17)",
            "gridcolor": "#506784",
            "linecolor": "#506784",
            "showbackground": true,
            "ticks": "",
            "zerolinecolor": "#C8D4E3",
            "gridwidth": 2
           },
           "yaxis": {
            "backgroundcolor": "rgb(17,17,17)",
            "gridcolor": "#506784",
            "linecolor": "#506784",
            "showbackground": true,
            "ticks": "",
            "zerolinecolor": "#C8D4E3",
            "gridwidth": 2
           },
           "zaxis": {
            "backgroundcolor": "rgb(17,17,17)",
            "gridcolor": "#506784",
            "linecolor": "#506784",
            "showbackground": true,
            "ticks": "",
            "zerolinecolor": "#C8D4E3",
            "gridwidth": 2
           }
          },
          "shapedefaults": {
           "line": {
            "color": "#f2f5fa"
           }
          },
          "annotationdefaults": {
           "arrowcolor": "#f2f5fa",
           "arrowhead": 0,
           "arrowwidth": 1
          },
          "geo": {
           "bgcolor": "rgb(17,17,17)",
           "landcolor": "rgb(17,17,17)",
           "subunitcolor": "#506784",
           "showland": true,
           "showlakes": true,
           "lakecolor": "rgb(17,17,17)"
          },
          "title": {
           "x": 0.05
          },
          "updatemenudefaults": {
           "bgcolor": "#506784",
           "borderwidth": 0
          },
          "sliderdefaults": {
           "bgcolor": "#C8D4E3",
           "borderwidth": 1,
           "bordercolor": "rgb(17,17,17)",
           "tickwidth": 0
          },
          "mapbox": {
           "style": "dark"
          }
         }
        },
        "legend": {
         "tracegroupgap": 0
        },
        "title": {
         "text": "BMW Sales Distribution by Region"
        }
       },
       "config": {
        "plotlyServerURL": "https://plot.ly"
       }
      }
     },
     "metadata": {},
     "output_type": "display_data"
    }
   ],
   "execution_count": 19
  },
  {
   "metadata": {
    "ExecuteTime": {
     "end_time": "2025-07-16T14:29:05.782987Z",
     "start_time": "2025-07-16T14:29:05.767620Z"
    }
   },
   "cell_type": "code",
   "source": [
    "df_region = df.groupby(\"Region\")[\"Sales_Volume\"].sum().reset_index()\n",
    "region_to_country = {\n",
    "    \"Asia\": \"India\",\n",
    "    \"Europe\": \"Germany\",\n",
    "    \"North America\": \"United States\",\n",
    "    \"South America\": \"Brazil\",\n",
    "    \"Middle East\": \"United Arab Emirates\",\n",
    "    \"Africa\": \"South Africa\",\n",
    "    \"Oceania\": \"Australia\"\n",
    "}\n",
    "df_region[\"Country\"] = df_region[\"Region\"].map(region_to_country)\n",
    "fig = px.choropleth(\n",
    "    df_region,\n",
    "    locations=\"Country\",\n",
    "    locationmode='country names',\n",
    "    color=\"Sales_Volume\",\n",
    "    hover_name=\"Country\",\n",
    "    color_continuous_scale=px.colors.sequential.Plasma,\n",
    "    title=\"BMW Sales Volume by Region\"\n",
    ")\n",
    "fig.update_layout(\n",
    "    geo=dict(showframe=False, showcoastlines=True, projection_type='equirectangular'),\n",
    "    coloraxis_colorbar=dict(title=\"Sales Volume\")\n",
    ")\n",
    "fig.show()"
   ],
   "id": "b6b48cc59681e9a3",
   "outputs": [
    {
     "data": {
      "application/vnd.plotly.v1+json": {
       "data": [
        {
         "coloraxis": "coloraxis",
         "geo": "geo",
         "hovertemplate": "<b>%{hovertext}</b><br><br>Country=%{location}<br>Sales_Volume=%{z}<extra></extra>",
         "hovertext": [
          "South Africa",
          "India",
          "Germany",
          "United Arab Emirates",
          "United States",
          "Brazil"
         ],
         "locationmode": "country names",
         "locations": [
          "South Africa",
          "India",
          "Germany",
          "United Arab Emirates",
          "United States",
          "Brazil"
         ],
         "name": "",
         "z": {
          "dtype": "i4",
          "bdata": "+BI+AOEFRgDpHEEASFVCAFaPQQA6xD4A"
         },
         "type": "choropleth"
        }
       ],
       "layout": {
        "template": {
         "data": {
          "histogram2dcontour": [
           {
            "type": "histogram2dcontour",
            "colorbar": {
             "outlinewidth": 0,
             "ticks": ""
            },
            "colorscale": [
             [
              0.0,
              "#0d0887"
             ],
             [
              0.1111111111111111,
              "#46039f"
             ],
             [
              0.2222222222222222,
              "#7201a8"
             ],
             [
              0.3333333333333333,
              "#9c179e"
             ],
             [
              0.4444444444444444,
              "#bd3786"
             ],
             [
              0.5555555555555556,
              "#d8576b"
             ],
             [
              0.6666666666666666,
              "#ed7953"
             ],
             [
              0.7777777777777778,
              "#fb9f3a"
             ],
             [
              0.8888888888888888,
              "#fdca26"
             ],
             [
              1.0,
              "#f0f921"
             ]
            ]
           }
          ],
          "choropleth": [
           {
            "type": "choropleth",
            "colorbar": {
             "outlinewidth": 0,
             "ticks": ""
            }
           }
          ],
          "histogram2d": [
           {
            "type": "histogram2d",
            "colorbar": {
             "outlinewidth": 0,
             "ticks": ""
            },
            "colorscale": [
             [
              0.0,
              "#0d0887"
             ],
             [
              0.1111111111111111,
              "#46039f"
             ],
             [
              0.2222222222222222,
              "#7201a8"
             ],
             [
              0.3333333333333333,
              "#9c179e"
             ],
             [
              0.4444444444444444,
              "#bd3786"
             ],
             [
              0.5555555555555556,
              "#d8576b"
             ],
             [
              0.6666666666666666,
              "#ed7953"
             ],
             [
              0.7777777777777778,
              "#fb9f3a"
             ],
             [
              0.8888888888888888,
              "#fdca26"
             ],
             [
              1.0,
              "#f0f921"
             ]
            ]
           }
          ],
          "heatmap": [
           {
            "type": "heatmap",
            "colorbar": {
             "outlinewidth": 0,
             "ticks": ""
            },
            "colorscale": [
             [
              0.0,
              "#0d0887"
             ],
             [
              0.1111111111111111,
              "#46039f"
             ],
             [
              0.2222222222222222,
              "#7201a8"
             ],
             [
              0.3333333333333333,
              "#9c179e"
             ],
             [
              0.4444444444444444,
              "#bd3786"
             ],
             [
              0.5555555555555556,
              "#d8576b"
             ],
             [
              0.6666666666666666,
              "#ed7953"
             ],
             [
              0.7777777777777778,
              "#fb9f3a"
             ],
             [
              0.8888888888888888,
              "#fdca26"
             ],
             [
              1.0,
              "#f0f921"
             ]
            ]
           }
          ],
          "contourcarpet": [
           {
            "type": "contourcarpet",
            "colorbar": {
             "outlinewidth": 0,
             "ticks": ""
            }
           }
          ],
          "contour": [
           {
            "type": "contour",
            "colorbar": {
             "outlinewidth": 0,
             "ticks": ""
            },
            "colorscale": [
             [
              0.0,
              "#0d0887"
             ],
             [
              0.1111111111111111,
              "#46039f"
             ],
             [
              0.2222222222222222,
              "#7201a8"
             ],
             [
              0.3333333333333333,
              "#9c179e"
             ],
             [
              0.4444444444444444,
              "#bd3786"
             ],
             [
              0.5555555555555556,
              "#d8576b"
             ],
             [
              0.6666666666666666,
              "#ed7953"
             ],
             [
              0.7777777777777778,
              "#fb9f3a"
             ],
             [
              0.8888888888888888,
              "#fdca26"
             ],
             [
              1.0,
              "#f0f921"
             ]
            ]
           }
          ],
          "surface": [
           {
            "type": "surface",
            "colorbar": {
             "outlinewidth": 0,
             "ticks": ""
            },
            "colorscale": [
             [
              0.0,
              "#0d0887"
             ],
             [
              0.1111111111111111,
              "#46039f"
             ],
             [
              0.2222222222222222,
              "#7201a8"
             ],
             [
              0.3333333333333333,
              "#9c179e"
             ],
             [
              0.4444444444444444,
              "#bd3786"
             ],
             [
              0.5555555555555556,
              "#d8576b"
             ],
             [
              0.6666666666666666,
              "#ed7953"
             ],
             [
              0.7777777777777778,
              "#fb9f3a"
             ],
             [
              0.8888888888888888,
              "#fdca26"
             ],
             [
              1.0,
              "#f0f921"
             ]
            ]
           }
          ],
          "mesh3d": [
           {
            "type": "mesh3d",
            "colorbar": {
             "outlinewidth": 0,
             "ticks": ""
            }
           }
          ],
          "scatter": [
           {
            "marker": {
             "line": {
              "color": "#283442"
             }
            },
            "type": "scatter"
           }
          ],
          "parcoords": [
           {
            "type": "parcoords",
            "line": {
             "colorbar": {
              "outlinewidth": 0,
              "ticks": ""
             }
            }
           }
          ],
          "scatterpolargl": [
           {
            "type": "scatterpolargl",
            "marker": {
             "colorbar": {
              "outlinewidth": 0,
              "ticks": ""
             }
            }
           }
          ],
          "bar": [
           {
            "error_x": {
             "color": "#f2f5fa"
            },
            "error_y": {
             "color": "#f2f5fa"
            },
            "marker": {
             "line": {
              "color": "rgb(17,17,17)",
              "width": 0.5
             },
             "pattern": {
              "fillmode": "overlay",
              "size": 10,
              "solidity": 0.2
             }
            },
            "type": "bar"
           }
          ],
          "scattergeo": [
           {
            "type": "scattergeo",
            "marker": {
             "colorbar": {
              "outlinewidth": 0,
              "ticks": ""
             }
            }
           }
          ],
          "scatterpolar": [
           {
            "type": "scatterpolar",
            "marker": {
             "colorbar": {
              "outlinewidth": 0,
              "ticks": ""
             }
            }
           }
          ],
          "histogram": [
           {
            "marker": {
             "pattern": {
              "fillmode": "overlay",
              "size": 10,
              "solidity": 0.2
             }
            },
            "type": "histogram"
           }
          ],
          "scattergl": [
           {
            "marker": {
             "line": {
              "color": "#283442"
             }
            },
            "type": "scattergl"
           }
          ],
          "scatter3d": [
           {
            "type": "scatter3d",
            "line": {
             "colorbar": {
              "outlinewidth": 0,
              "ticks": ""
             }
            },
            "marker": {
             "colorbar": {
              "outlinewidth": 0,
              "ticks": ""
             }
            }
           }
          ],
          "scattermap": [
           {
            "type": "scattermap",
            "marker": {
             "colorbar": {
              "outlinewidth": 0,
              "ticks": ""
             }
            }
           }
          ],
          "scattermapbox": [
           {
            "type": "scattermapbox",
            "marker": {
             "colorbar": {
              "outlinewidth": 0,
              "ticks": ""
             }
            }
           }
          ],
          "scatterternary": [
           {
            "type": "scatterternary",
            "marker": {
             "colorbar": {
              "outlinewidth": 0,
              "ticks": ""
             }
            }
           }
          ],
          "scattercarpet": [
           {
            "type": "scattercarpet",
            "marker": {
             "colorbar": {
              "outlinewidth": 0,
              "ticks": ""
             }
            }
           }
          ],
          "carpet": [
           {
            "aaxis": {
             "endlinecolor": "#A2B1C6",
             "gridcolor": "#506784",
             "linecolor": "#506784",
             "minorgridcolor": "#506784",
             "startlinecolor": "#A2B1C6"
            },
            "baxis": {
             "endlinecolor": "#A2B1C6",
             "gridcolor": "#506784",
             "linecolor": "#506784",
             "minorgridcolor": "#506784",
             "startlinecolor": "#A2B1C6"
            },
            "type": "carpet"
           }
          ],
          "table": [
           {
            "cells": {
             "fill": {
              "color": "#506784"
             },
             "line": {
              "color": "rgb(17,17,17)"
             }
            },
            "header": {
             "fill": {
              "color": "#2a3f5f"
             },
             "line": {
              "color": "rgb(17,17,17)"
             }
            },
            "type": "table"
           }
          ],
          "barpolar": [
           {
            "marker": {
             "line": {
              "color": "rgb(17,17,17)",
              "width": 0.5
             },
             "pattern": {
              "fillmode": "overlay",
              "size": 10,
              "solidity": 0.2
             }
            },
            "type": "barpolar"
           }
          ],
          "pie": [
           {
            "automargin": true,
            "type": "pie"
           }
          ]
         },
         "layout": {
          "autotypenumbers": "strict",
          "colorway": [
           "#636efa",
           "#EF553B",
           "#00cc96",
           "#ab63fa",
           "#FFA15A",
           "#19d3f3",
           "#FF6692",
           "#B6E880",
           "#FF97FF",
           "#FECB52"
          ],
          "font": {
           "color": "#f2f5fa"
          },
          "hovermode": "closest",
          "hoverlabel": {
           "align": "left"
          },
          "paper_bgcolor": "rgb(17,17,17)",
          "plot_bgcolor": "rgb(17,17,17)",
          "polar": {
           "bgcolor": "rgb(17,17,17)",
           "angularaxis": {
            "gridcolor": "#506784",
            "linecolor": "#506784",
            "ticks": ""
           },
           "radialaxis": {
            "gridcolor": "#506784",
            "linecolor": "#506784",
            "ticks": ""
           }
          },
          "ternary": {
           "bgcolor": "rgb(17,17,17)",
           "aaxis": {
            "gridcolor": "#506784",
            "linecolor": "#506784",
            "ticks": ""
           },
           "baxis": {
            "gridcolor": "#506784",
            "linecolor": "#506784",
            "ticks": ""
           },
           "caxis": {
            "gridcolor": "#506784",
            "linecolor": "#506784",
            "ticks": ""
           }
          },
          "coloraxis": {
           "colorbar": {
            "outlinewidth": 0,
            "ticks": ""
           }
          },
          "colorscale": {
           "sequential": [
            [
             0.0,
             "#0d0887"
            ],
            [
             0.1111111111111111,
             "#46039f"
            ],
            [
             0.2222222222222222,
             "#7201a8"
            ],
            [
             0.3333333333333333,
             "#9c179e"
            ],
            [
             0.4444444444444444,
             "#bd3786"
            ],
            [
             0.5555555555555556,
             "#d8576b"
            ],
            [
             0.6666666666666666,
             "#ed7953"
            ],
            [
             0.7777777777777778,
             "#fb9f3a"
            ],
            [
             0.8888888888888888,
             "#fdca26"
            ],
            [
             1.0,
             "#f0f921"
            ]
           ],
           "sequentialminus": [
            [
             0.0,
             "#0d0887"
            ],
            [
             0.1111111111111111,
             "#46039f"
            ],
            [
             0.2222222222222222,
             "#7201a8"
            ],
            [
             0.3333333333333333,
             "#9c179e"
            ],
            [
             0.4444444444444444,
             "#bd3786"
            ],
            [
             0.5555555555555556,
             "#d8576b"
            ],
            [
             0.6666666666666666,
             "#ed7953"
            ],
            [
             0.7777777777777778,
             "#fb9f3a"
            ],
            [
             0.8888888888888888,
             "#fdca26"
            ],
            [
             1.0,
             "#f0f921"
            ]
           ],
           "diverging": [
            [
             0,
             "#8e0152"
            ],
            [
             0.1,
             "#c51b7d"
            ],
            [
             0.2,
             "#de77ae"
            ],
            [
             0.3,
             "#f1b6da"
            ],
            [
             0.4,
             "#fde0ef"
            ],
            [
             0.5,
             "#f7f7f7"
            ],
            [
             0.6,
             "#e6f5d0"
            ],
            [
             0.7,
             "#b8e186"
            ],
            [
             0.8,
             "#7fbc41"
            ],
            [
             0.9,
             "#4d9221"
            ],
            [
             1,
             "#276419"
            ]
           ]
          },
          "xaxis": {
           "gridcolor": "#283442",
           "linecolor": "#506784",
           "ticks": "",
           "title": {
            "standoff": 15
           },
           "zerolinecolor": "#283442",
           "automargin": true,
           "zerolinewidth": 2
          },
          "yaxis": {
           "gridcolor": "#283442",
           "linecolor": "#506784",
           "ticks": "",
           "title": {
            "standoff": 15
           },
           "zerolinecolor": "#283442",
           "automargin": true,
           "zerolinewidth": 2
          },
          "scene": {
           "xaxis": {
            "backgroundcolor": "rgb(17,17,17)",
            "gridcolor": "#506784",
            "linecolor": "#506784",
            "showbackground": true,
            "ticks": "",
            "zerolinecolor": "#C8D4E3",
            "gridwidth": 2
           },
           "yaxis": {
            "backgroundcolor": "rgb(17,17,17)",
            "gridcolor": "#506784",
            "linecolor": "#506784",
            "showbackground": true,
            "ticks": "",
            "zerolinecolor": "#C8D4E3",
            "gridwidth": 2
           },
           "zaxis": {
            "backgroundcolor": "rgb(17,17,17)",
            "gridcolor": "#506784",
            "linecolor": "#506784",
            "showbackground": true,
            "ticks": "",
            "zerolinecolor": "#C8D4E3",
            "gridwidth": 2
           }
          },
          "shapedefaults": {
           "line": {
            "color": "#f2f5fa"
           }
          },
          "annotationdefaults": {
           "arrowcolor": "#f2f5fa",
           "arrowhead": 0,
           "arrowwidth": 1
          },
          "geo": {
           "bgcolor": "rgb(17,17,17)",
           "landcolor": "rgb(17,17,17)",
           "subunitcolor": "#506784",
           "showland": true,
           "showlakes": true,
           "lakecolor": "rgb(17,17,17)"
          },
          "title": {
           "x": 0.05
          },
          "updatemenudefaults": {
           "bgcolor": "#506784",
           "borderwidth": 0
          },
          "sliderdefaults": {
           "bgcolor": "#C8D4E3",
           "borderwidth": 1,
           "bordercolor": "rgb(17,17,17)",
           "tickwidth": 0
          },
          "mapbox": {
           "style": "dark"
          }
         }
        },
        "geo": {
         "domain": {
          "x": [
           0.0,
           1.0
          ],
          "y": [
           0.0,
           1.0
          ]
         },
         "center": {},
         "projection": {
          "type": "equirectangular"
         },
         "showframe": false,
         "showcoastlines": true
        },
        "coloraxis": {
         "colorbar": {
          "title": {
           "text": "Sales Volume"
          }
         },
         "colorscale": [
          [
           0.0,
           "#0d0887"
          ],
          [
           0.1111111111111111,
           "#46039f"
          ],
          [
           0.2222222222222222,
           "#7201a8"
          ],
          [
           0.3333333333333333,
           "#9c179e"
          ],
          [
           0.4444444444444444,
           "#bd3786"
          ],
          [
           0.5555555555555556,
           "#d8576b"
          ],
          [
           0.6666666666666666,
           "#ed7953"
          ],
          [
           0.7777777777777778,
           "#fb9f3a"
          ],
          [
           0.8888888888888888,
           "#fdca26"
          ],
          [
           1.0,
           "#f0f921"
          ]
         ]
        },
        "legend": {
         "tracegroupgap": 0
        },
        "title": {
         "text": "BMW Sales Volume by Region"
        }
       },
       "config": {
        "plotlyServerURL": "https://plot.ly"
       }
      }
     },
     "metadata": {},
     "output_type": "display_data"
    }
   ],
   "execution_count": 17
  },
  {
   "metadata": {
    "ExecuteTime": {
     "end_time": "2025-07-16T14:29:05.807193Z",
     "start_time": "2025-07-16T14:29:05.792482Z"
    }
   },
   "cell_type": "code",
   "source": [
    "#Average Price by Fuel Type\n",
    "df_price=df.groupby(\"Fuel_Type\")[\"Price_USD\"].sum().reset_index()\n",
    "df_price = df_price.sort_values(by=\"Price_USD\", ascending=False).reset_index()\n",
    "fig = px.bar(df_price, x=\"Fuel_Type\",y=\"Price_USD\", color=\"Price_USD\", title=\" Price Distribution by Fuel Type\")\n",
    "fig.show()"
   ],
   "id": "5826e68ca2dbe571",
   "outputs": [
    {
     "data": {
      "application/vnd.plotly.v1+json": {
       "data": [
        {
         "hovertemplate": "Fuel_Type=%{x}<br>Price_USD=%{marker.color}<extra></extra>",
         "legendgroup": "",
         "marker": {
          "color": {
           "dtype": "i4",
           "bdata": "n/W6BUncpQVjB4gFA5yBBQ=="
          },
          "coloraxis": "coloraxis",
          "pattern": {
           "shape": ""
          }
         },
         "name": "",
         "orientation": "v",
         "showlegend": false,
         "textposition": "auto",
         "x": [
          "Hybrid",
          "Petrol",
          "Diesel",
          "Electric"
         ],
         "xaxis": "x",
         "y": {
          "dtype": "i4",
          "bdata": "n/W6BUncpQVjB4gFA5yBBQ=="
         },
         "yaxis": "y",
         "type": "bar"
        }
       ],
       "layout": {
        "template": {
         "data": {
          "histogram2dcontour": [
           {
            "type": "histogram2dcontour",
            "colorbar": {
             "outlinewidth": 0,
             "ticks": ""
            },
            "colorscale": [
             [
              0.0,
              "#0d0887"
             ],
             [
              0.1111111111111111,
              "#46039f"
             ],
             [
              0.2222222222222222,
              "#7201a8"
             ],
             [
              0.3333333333333333,
              "#9c179e"
             ],
             [
              0.4444444444444444,
              "#bd3786"
             ],
             [
              0.5555555555555556,
              "#d8576b"
             ],
             [
              0.6666666666666666,
              "#ed7953"
             ],
             [
              0.7777777777777778,
              "#fb9f3a"
             ],
             [
              0.8888888888888888,
              "#fdca26"
             ],
             [
              1.0,
              "#f0f921"
             ]
            ]
           }
          ],
          "choropleth": [
           {
            "type": "choropleth",
            "colorbar": {
             "outlinewidth": 0,
             "ticks": ""
            }
           }
          ],
          "histogram2d": [
           {
            "type": "histogram2d",
            "colorbar": {
             "outlinewidth": 0,
             "ticks": ""
            },
            "colorscale": [
             [
              0.0,
              "#0d0887"
             ],
             [
              0.1111111111111111,
              "#46039f"
             ],
             [
              0.2222222222222222,
              "#7201a8"
             ],
             [
              0.3333333333333333,
              "#9c179e"
             ],
             [
              0.4444444444444444,
              "#bd3786"
             ],
             [
              0.5555555555555556,
              "#d8576b"
             ],
             [
              0.6666666666666666,
              "#ed7953"
             ],
             [
              0.7777777777777778,
              "#fb9f3a"
             ],
             [
              0.8888888888888888,
              "#fdca26"
             ],
             [
              1.0,
              "#f0f921"
             ]
            ]
           }
          ],
          "heatmap": [
           {
            "type": "heatmap",
            "colorbar": {
             "outlinewidth": 0,
             "ticks": ""
            },
            "colorscale": [
             [
              0.0,
              "#0d0887"
             ],
             [
              0.1111111111111111,
              "#46039f"
             ],
             [
              0.2222222222222222,
              "#7201a8"
             ],
             [
              0.3333333333333333,
              "#9c179e"
             ],
             [
              0.4444444444444444,
              "#bd3786"
             ],
             [
              0.5555555555555556,
              "#d8576b"
             ],
             [
              0.6666666666666666,
              "#ed7953"
             ],
             [
              0.7777777777777778,
              "#fb9f3a"
             ],
             [
              0.8888888888888888,
              "#fdca26"
             ],
             [
              1.0,
              "#f0f921"
             ]
            ]
           }
          ],
          "contourcarpet": [
           {
            "type": "contourcarpet",
            "colorbar": {
             "outlinewidth": 0,
             "ticks": ""
            }
           }
          ],
          "contour": [
           {
            "type": "contour",
            "colorbar": {
             "outlinewidth": 0,
             "ticks": ""
            },
            "colorscale": [
             [
              0.0,
              "#0d0887"
             ],
             [
              0.1111111111111111,
              "#46039f"
             ],
             [
              0.2222222222222222,
              "#7201a8"
             ],
             [
              0.3333333333333333,
              "#9c179e"
             ],
             [
              0.4444444444444444,
              "#bd3786"
             ],
             [
              0.5555555555555556,
              "#d8576b"
             ],
             [
              0.6666666666666666,
              "#ed7953"
             ],
             [
              0.7777777777777778,
              "#fb9f3a"
             ],
             [
              0.8888888888888888,
              "#fdca26"
             ],
             [
              1.0,
              "#f0f921"
             ]
            ]
           }
          ],
          "surface": [
           {
            "type": "surface",
            "colorbar": {
             "outlinewidth": 0,
             "ticks": ""
            },
            "colorscale": [
             [
              0.0,
              "#0d0887"
             ],
             [
              0.1111111111111111,
              "#46039f"
             ],
             [
              0.2222222222222222,
              "#7201a8"
             ],
             [
              0.3333333333333333,
              "#9c179e"
             ],
             [
              0.4444444444444444,
              "#bd3786"
             ],
             [
              0.5555555555555556,
              "#d8576b"
             ],
             [
              0.6666666666666666,
              "#ed7953"
             ],
             [
              0.7777777777777778,
              "#fb9f3a"
             ],
             [
              0.8888888888888888,
              "#fdca26"
             ],
             [
              1.0,
              "#f0f921"
             ]
            ]
           }
          ],
          "mesh3d": [
           {
            "type": "mesh3d",
            "colorbar": {
             "outlinewidth": 0,
             "ticks": ""
            }
           }
          ],
          "scatter": [
           {
            "marker": {
             "line": {
              "color": "#283442"
             }
            },
            "type": "scatter"
           }
          ],
          "parcoords": [
           {
            "type": "parcoords",
            "line": {
             "colorbar": {
              "outlinewidth": 0,
              "ticks": ""
             }
            }
           }
          ],
          "scatterpolargl": [
           {
            "type": "scatterpolargl",
            "marker": {
             "colorbar": {
              "outlinewidth": 0,
              "ticks": ""
             }
            }
           }
          ],
          "bar": [
           {
            "error_x": {
             "color": "#f2f5fa"
            },
            "error_y": {
             "color": "#f2f5fa"
            },
            "marker": {
             "line": {
              "color": "rgb(17,17,17)",
              "width": 0.5
             },
             "pattern": {
              "fillmode": "overlay",
              "size": 10,
              "solidity": 0.2
             }
            },
            "type": "bar"
           }
          ],
          "scattergeo": [
           {
            "type": "scattergeo",
            "marker": {
             "colorbar": {
              "outlinewidth": 0,
              "ticks": ""
             }
            }
           }
          ],
          "scatterpolar": [
           {
            "type": "scatterpolar",
            "marker": {
             "colorbar": {
              "outlinewidth": 0,
              "ticks": ""
             }
            }
           }
          ],
          "histogram": [
           {
            "marker": {
             "pattern": {
              "fillmode": "overlay",
              "size": 10,
              "solidity": 0.2
             }
            },
            "type": "histogram"
           }
          ],
          "scattergl": [
           {
            "marker": {
             "line": {
              "color": "#283442"
             }
            },
            "type": "scattergl"
           }
          ],
          "scatter3d": [
           {
            "type": "scatter3d",
            "line": {
             "colorbar": {
              "outlinewidth": 0,
              "ticks": ""
             }
            },
            "marker": {
             "colorbar": {
              "outlinewidth": 0,
              "ticks": ""
             }
            }
           }
          ],
          "scattermap": [
           {
            "type": "scattermap",
            "marker": {
             "colorbar": {
              "outlinewidth": 0,
              "ticks": ""
             }
            }
           }
          ],
          "scattermapbox": [
           {
            "type": "scattermapbox",
            "marker": {
             "colorbar": {
              "outlinewidth": 0,
              "ticks": ""
             }
            }
           }
          ],
          "scatterternary": [
           {
            "type": "scatterternary",
            "marker": {
             "colorbar": {
              "outlinewidth": 0,
              "ticks": ""
             }
            }
           }
          ],
          "scattercarpet": [
           {
            "type": "scattercarpet",
            "marker": {
             "colorbar": {
              "outlinewidth": 0,
              "ticks": ""
             }
            }
           }
          ],
          "carpet": [
           {
            "aaxis": {
             "endlinecolor": "#A2B1C6",
             "gridcolor": "#506784",
             "linecolor": "#506784",
             "minorgridcolor": "#506784",
             "startlinecolor": "#A2B1C6"
            },
            "baxis": {
             "endlinecolor": "#A2B1C6",
             "gridcolor": "#506784",
             "linecolor": "#506784",
             "minorgridcolor": "#506784",
             "startlinecolor": "#A2B1C6"
            },
            "type": "carpet"
           }
          ],
          "table": [
           {
            "cells": {
             "fill": {
              "color": "#506784"
             },
             "line": {
              "color": "rgb(17,17,17)"
             }
            },
            "header": {
             "fill": {
              "color": "#2a3f5f"
             },
             "line": {
              "color": "rgb(17,17,17)"
             }
            },
            "type": "table"
           }
          ],
          "barpolar": [
           {
            "marker": {
             "line": {
              "color": "rgb(17,17,17)",
              "width": 0.5
             },
             "pattern": {
              "fillmode": "overlay",
              "size": 10,
              "solidity": 0.2
             }
            },
            "type": "barpolar"
           }
          ],
          "pie": [
           {
            "automargin": true,
            "type": "pie"
           }
          ]
         },
         "layout": {
          "autotypenumbers": "strict",
          "colorway": [
           "#636efa",
           "#EF553B",
           "#00cc96",
           "#ab63fa",
           "#FFA15A",
           "#19d3f3",
           "#FF6692",
           "#B6E880",
           "#FF97FF",
           "#FECB52"
          ],
          "font": {
           "color": "#f2f5fa"
          },
          "hovermode": "closest",
          "hoverlabel": {
           "align": "left"
          },
          "paper_bgcolor": "rgb(17,17,17)",
          "plot_bgcolor": "rgb(17,17,17)",
          "polar": {
           "bgcolor": "rgb(17,17,17)",
           "angularaxis": {
            "gridcolor": "#506784",
            "linecolor": "#506784",
            "ticks": ""
           },
           "radialaxis": {
            "gridcolor": "#506784",
            "linecolor": "#506784",
            "ticks": ""
           }
          },
          "ternary": {
           "bgcolor": "rgb(17,17,17)",
           "aaxis": {
            "gridcolor": "#506784",
            "linecolor": "#506784",
            "ticks": ""
           },
           "baxis": {
            "gridcolor": "#506784",
            "linecolor": "#506784",
            "ticks": ""
           },
           "caxis": {
            "gridcolor": "#506784",
            "linecolor": "#506784",
            "ticks": ""
           }
          },
          "coloraxis": {
           "colorbar": {
            "outlinewidth": 0,
            "ticks": ""
           }
          },
          "colorscale": {
           "sequential": [
            [
             0.0,
             "#0d0887"
            ],
            [
             0.1111111111111111,
             "#46039f"
            ],
            [
             0.2222222222222222,
             "#7201a8"
            ],
            [
             0.3333333333333333,
             "#9c179e"
            ],
            [
             0.4444444444444444,
             "#bd3786"
            ],
            [
             0.5555555555555556,
             "#d8576b"
            ],
            [
             0.6666666666666666,
             "#ed7953"
            ],
            [
             0.7777777777777778,
             "#fb9f3a"
            ],
            [
             0.8888888888888888,
             "#fdca26"
            ],
            [
             1.0,
             "#f0f921"
            ]
           ],
           "sequentialminus": [
            [
             0.0,
             "#0d0887"
            ],
            [
             0.1111111111111111,
             "#46039f"
            ],
            [
             0.2222222222222222,
             "#7201a8"
            ],
            [
             0.3333333333333333,
             "#9c179e"
            ],
            [
             0.4444444444444444,
             "#bd3786"
            ],
            [
             0.5555555555555556,
             "#d8576b"
            ],
            [
             0.6666666666666666,
             "#ed7953"
            ],
            [
             0.7777777777777778,
             "#fb9f3a"
            ],
            [
             0.8888888888888888,
             "#fdca26"
            ],
            [
             1.0,
             "#f0f921"
            ]
           ],
           "diverging": [
            [
             0,
             "#8e0152"
            ],
            [
             0.1,
             "#c51b7d"
            ],
            [
             0.2,
             "#de77ae"
            ],
            [
             0.3,
             "#f1b6da"
            ],
            [
             0.4,
             "#fde0ef"
            ],
            [
             0.5,
             "#f7f7f7"
            ],
            [
             0.6,
             "#e6f5d0"
            ],
            [
             0.7,
             "#b8e186"
            ],
            [
             0.8,
             "#7fbc41"
            ],
            [
             0.9,
             "#4d9221"
            ],
            [
             1,
             "#276419"
            ]
           ]
          },
          "xaxis": {
           "gridcolor": "#283442",
           "linecolor": "#506784",
           "ticks": "",
           "title": {
            "standoff": 15
           },
           "zerolinecolor": "#283442",
           "automargin": true,
           "zerolinewidth": 2
          },
          "yaxis": {
           "gridcolor": "#283442",
           "linecolor": "#506784",
           "ticks": "",
           "title": {
            "standoff": 15
           },
           "zerolinecolor": "#283442",
           "automargin": true,
           "zerolinewidth": 2
          },
          "scene": {
           "xaxis": {
            "backgroundcolor": "rgb(17,17,17)",
            "gridcolor": "#506784",
            "linecolor": "#506784",
            "showbackground": true,
            "ticks": "",
            "zerolinecolor": "#C8D4E3",
            "gridwidth": 2
           },
           "yaxis": {
            "backgroundcolor": "rgb(17,17,17)",
            "gridcolor": "#506784",
            "linecolor": "#506784",
            "showbackground": true,
            "ticks": "",
            "zerolinecolor": "#C8D4E3",
            "gridwidth": 2
           },
           "zaxis": {
            "backgroundcolor": "rgb(17,17,17)",
            "gridcolor": "#506784",
            "linecolor": "#506784",
            "showbackground": true,
            "ticks": "",
            "zerolinecolor": "#C8D4E3",
            "gridwidth": 2
           }
          },
          "shapedefaults": {
           "line": {
            "color": "#f2f5fa"
           }
          },
          "annotationdefaults": {
           "arrowcolor": "#f2f5fa",
           "arrowhead": 0,
           "arrowwidth": 1
          },
          "geo": {
           "bgcolor": "rgb(17,17,17)",
           "landcolor": "rgb(17,17,17)",
           "subunitcolor": "#506784",
           "showland": true,
           "showlakes": true,
           "lakecolor": "rgb(17,17,17)"
          },
          "title": {
           "x": 0.05
          },
          "updatemenudefaults": {
           "bgcolor": "#506784",
           "borderwidth": 0
          },
          "sliderdefaults": {
           "bgcolor": "#C8D4E3",
           "borderwidth": 1,
           "bordercolor": "rgb(17,17,17)",
           "tickwidth": 0
          },
          "mapbox": {
           "style": "dark"
          }
         }
        },
        "xaxis": {
         "anchor": "y",
         "domain": [
          0.0,
          1.0
         ],
         "title": {
          "text": "Fuel_Type"
         }
        },
        "yaxis": {
         "anchor": "x",
         "domain": [
          0.0,
          1.0
         ],
         "title": {
          "text": "Price_USD"
         }
        },
        "coloraxis": {
         "colorbar": {
          "title": {
           "text": "Price_USD"
          }
         },
         "colorscale": [
          [
           0.0,
           "#0d0887"
          ],
          [
           0.1111111111111111,
           "#46039f"
          ],
          [
           0.2222222222222222,
           "#7201a8"
          ],
          [
           0.3333333333333333,
           "#9c179e"
          ],
          [
           0.4444444444444444,
           "#bd3786"
          ],
          [
           0.5555555555555556,
           "#d8576b"
          ],
          [
           0.6666666666666666,
           "#ed7953"
          ],
          [
           0.7777777777777778,
           "#fb9f3a"
          ],
          [
           0.8888888888888888,
           "#fdca26"
          ],
          [
           1.0,
           "#f0f921"
          ]
         ]
        },
        "legend": {
         "tracegroupgap": 0
        },
        "title": {
         "text": " Price Distribution by Fuel Type"
        },
        "barmode": "relative"
       },
       "config": {
        "plotlyServerURL": "https://plot.ly"
       }
      }
     },
     "metadata": {},
     "output_type": "display_data"
    }
   ],
   "execution_count": 18
  }
 ],
 "metadata": {
  "kernelspec": {
   "display_name": "Python 3",
   "language": "python",
   "name": "python3"
  },
  "language_info": {
   "codemirror_mode": {
    "name": "ipython",
    "version": 2
   },
   "file_extension": ".py",
   "mimetype": "text/x-python",
   "name": "python",
   "nbconvert_exporter": "python",
   "pygments_lexer": "ipython2",
   "version": "2.7.6"
  }
 },
 "nbformat": 4,
 "nbformat_minor": 5
}
